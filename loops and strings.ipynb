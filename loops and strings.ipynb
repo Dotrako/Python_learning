{
 "cells": [
  {
   "cell_type": "code",
   "execution_count": 7,
   "metadata": {},
   "outputs": [
    {
     "name": "stdout",
     "output_type": "stream",
     "text": [
      "1 <class 'int'>\n",
      "abc <class 'str'>\n"
     ]
    }
   ],
   "source": [
    "name = [1,\"abc\"]\n",
    "\n",
    "for x in name:\n",
    "    print(x,type(x))\n"
   ]
  },
  {
   "cell_type": "code",
   "execution_count": 12,
   "metadata": {},
   "outputs": [
    {
     "ename": "TypeError",
     "evalue": "'int' object is not iterable",
     "output_type": "error",
     "traceback": [
      "\u001b[1;31m---------------------------------------------------------------------------\u001b[0m",
      "\u001b[1;31mTypeError\u001b[0m                                 Traceback (most recent call last)",
      "\u001b[1;32mUntitled-2.ipynb Cell 2\u001b[0m line \u001b[0;36m4\n\u001b[0;32m      <a href='vscode-notebook-cell:Untitled-2.ipynb?jupyter-notebook#W1sdW50aXRsZWQ%3D?line=0'>1</a>\u001b[0m name \u001b[39m=\u001b[39m [\u001b[39m1\u001b[39m,\u001b[39m2\u001b[39m]\n\u001b[0;32m      <a href='vscode-notebook-cell:Untitled-2.ipynb?jupyter-notebook#W1sdW50aXRsZWQ%3D?line=2'>3</a>\u001b[0m \u001b[39mfor\u001b[39;00m x \u001b[39min\u001b[39;00m name:\n\u001b[1;32m----> <a href='vscode-notebook-cell:Untitled-2.ipynb?jupyter-notebook#W1sdW50aXRsZWQ%3D?line=3'>4</a>\u001b[0m     \u001b[39mfor\u001b[39;49;00m y \u001b[39min\u001b[39;49;00m x:\n\u001b[0;32m      <a href='vscode-notebook-cell:Untitled-2.ipynb?jupyter-notebook#W1sdW50aXRsZWQ%3D?line=4'>5</a>\u001b[0m         \u001b[39mprint\u001b[39;49m(y)\n",
      "\u001b[1;31mTypeError\u001b[0m: 'int' object is not iterable"
     ]
    }
   ],
   "source": [
    "name = [1,2]\n",
    "\n",
    "for x in name:\n",
    "    for y in x:\n",
    "        print(y)"
   ]
  },
  {
   "cell_type": "code",
   "execution_count": 18,
   "metadata": {},
   "outputs": [
    {
     "name": "stdout",
     "output_type": "stream",
     "text": [
      "[1, 2, [6, 7]]\n",
      "1\n"
     ]
    },
    {
     "ename": "TypeError",
     "evalue": "'int' object is not iterable",
     "output_type": "error",
     "traceback": [
      "\u001b[1;31m---------------------------------------------------------------------------\u001b[0m",
      "\u001b[1;31mTypeError\u001b[0m                                 Traceback (most recent call last)",
      "\u001b[1;32mUntitled-2.ipynb Cell 3\u001b[0m line \u001b[0;36m7\n\u001b[0;32m      <a href='vscode-notebook-cell:Untitled-2.ipynb?jupyter-notebook#W2sdW50aXRsZWQ%3D?line=4'>5</a>\u001b[0m \u001b[39mfor\u001b[39;00m y \u001b[39min\u001b[39;00m inner_list:\n\u001b[0;32m      <a href='vscode-notebook-cell:Untitled-2.ipynb?jupyter-notebook#W2sdW50aXRsZWQ%3D?line=5'>6</a>\u001b[0m     \u001b[39mprint\u001b[39m(y)\n\u001b[1;32m----> <a href='vscode-notebook-cell:Untitled-2.ipynb?jupyter-notebook#W2sdW50aXRsZWQ%3D?line=6'>7</a>\u001b[0m     \u001b[39mfor\u001b[39;49;00m z \u001b[39min\u001b[39;49;00m y:\n\u001b[0;32m      <a href='vscode-notebook-cell:Untitled-2.ipynb?jupyter-notebook#W2sdW50aXRsZWQ%3D?line=7'>8</a>\u001b[0m         \u001b[39mprint\u001b[39;49m(z)\n",
      "\u001b[1;31mTypeError\u001b[0m: 'int' object is not iterable"
     ]
    }
   ],
   "source": [
    "name = [[1, 2,[6,7]], [3, 4,[8,9]]]\n",
    "\n",
    "for inner_list in name:\n",
    "    print(inner_list)\n",
    "    for y in inner_list:\n",
    "        print(y)\n",
    "        for z in y:\n",
    "            print(z)\n"
   ]
  },
  {
   "cell_type": "code",
   "execution_count": 20,
   "metadata": {},
   "outputs": [
    {
     "name": "stdout",
     "output_type": "stream",
     "text": [
      "<class 'list'>\n",
      "1\n",
      "2\n",
      "<class 'list'>\n",
      "6\n",
      "7\n",
      "<class 'list'>\n",
      "3\n",
      "4\n",
      "<class 'list'>\n",
      "8\n",
      "9\n"
     ]
    }
   ],
   "source": [
    "def iterate_nested_list(lst):\n",
    "    for item in lst:\n",
    "        if isinstance(item, list):\n",
    "            print(type(item))\n",
    "            iterate_nested_list(item)\n",
    "        else:\n",
    "            print(item)\n",
    "\n",
    "name = [[1, 2, [6, 7]], [3, 4, [8, 9]]]\n",
    "\n",
    "iterate_nested_list(name)\n"
   ]
  },
  {
   "cell_type": "code",
   "execution_count": 21,
   "metadata": {},
   "outputs": [
    {
     "data": {
      "text/plain": [
       "6"
      ]
     },
     "execution_count": 21,
     "metadata": {},
     "output_type": "execute_result"
    }
   ],
   "source": [
    "def factorial(n):\n",
    "    if n == 0:\n",
    "        return 1  # Base case: 0! is defined as 1\n",
    "    else:\n",
    "        return n * factorial(n - 1)\n",
    "factorial(3)"
   ]
  },
  {
   "cell_type": "code",
   "execution_count": 40,
   "metadata": {},
   "outputs": [
    {
     "name": "stdout",
     "output_type": "stream",
     "text": [
      "JulBle\n",
      "amilaa\n"
     ]
    }
   ],
   "source": [
    "first_name = \"amine\"\n",
    "last_name = \"laagad\"\n",
    "\n",
    "def account_generator(zbi, klawi):\n",
    "    account_name = first_name[0:3]+last_name[0:3]\n",
    "    return account_name\n",
    "account_generator(\"Julie\", \"Blevins\")\n",
    "print(x)\n",
    "\n",
    "y = account_generator(first_name, last_name)\n",
    "print(y)"
   ]
  },
  {
   "cell_type": "code",
   "execution_count": 12,
   "metadata": {},
   "outputs": [
    {
     "name": "stdout",
     "output_type": "stream",
     "text": [
      "1\n",
      "2\n",
      "3\n",
      "4\n",
      "5\n"
     ]
    }
   ],
   "source": [
    "name = 'amine'\n",
    "i = 0 \n",
    "for x in name:\n",
    "    i += 1\n",
    "    print(i)"
   ]
  },
  {
   "cell_type": "code",
   "execution_count": 11,
   "metadata": {},
   "outputs": [
    {
     "data": {
      "text/plain": [
       "5"
      ]
     },
     "execution_count": 11,
     "metadata": {},
     "output_type": "execute_result"
    }
   ],
   "source": [
    "def get_length(name):\n",
    "  i = 0\n",
    "  for x in name:\n",
    "    i += 1\n",
    "  return i\n",
    "get_length(\"amine\")"
   ]
  },
  {
   "cell_type": "code",
   "execution_count": 17,
   "metadata": {},
   "outputs": [
    {
     "name": "stdout",
     "output_type": "stream",
     "text": [
      "15\n"
     ]
    }
   ],
   "source": [
    "def foo(x):\n",
    "    if x == 1:\n",
    "        return 1\n",
    "    else:\n",
    "        return x + foo(x-1)\n",
    "result = foo(5)\n",
    "print(result)\n"
   ]
  },
  {
   "cell_type": "code",
   "execution_count": 21,
   "metadata": {},
   "outputs": [
    {
     "name": "stdout",
     "output_type": "stream",
     "text": [
      "0\n"
     ]
    }
   ],
   "source": [
    "favorite_fruit = \"blueberry\"\n",
    "counter = 0\n",
    "for character in favorite_fruit:\n",
    "  if character == \"b\":\n",
    "    counter = counter + 1\n",
    "print(counter)"
   ]
  },
  {
   "cell_type": "code",
   "execution_count": 156,
   "metadata": {},
   "outputs": [
    {
     "name": "stdout",
     "output_type": "stream",
     "text": [
      "False\n"
     ]
    }
   ],
   "source": [
    "#Write a function called letter_check that takes two inputs, word and letter.\n",
    "#This function should return True if the word contains the letter and False if it does not.\n",
    "word = \"strawberry\"\n",
    "letter = \"s\"\n",
    "def letter_check(word, letter):\n",
    "    for x in word:\n",
    "        if x == letter:\n",
    "            return True\n",
    "        else:\n",
    "            return False\n",
    "            \n",
    "print(letter_check(\"strawberry\", \"r\"))\n"
   ]
  },
  {
   "cell_type": "code",
   "execution_count": 162,
   "metadata": {},
   "outputs": [
    {
     "name": "stdout",
     "output_type": "stream",
     "text": [
      "The number 1 is odd an number\n",
      "The number 2 is an even number\n",
      "The number 3 is odd an number\n",
      "The number 4 is an even number\n",
      "The number 5 is odd an number\n",
      "The number 6 is an even number\n",
      "The number 7 is odd an number\n",
      "The number 8 is an even number\n",
      "The number 9 is odd an number\n"
     ]
    }
   ],
   "source": [
    "mynumbers = [1,2,3,4,5,6,7,8,9]\n",
    "\n",
    "for x in mynumbers:\n",
    "    if x % 2 == 0:\n",
    "        print(f\"The number {x} is an even number\")\n",
    "    else:\n",
    "        print(f\"The number {x} is odd an number\")"
   ]
  },
  {
   "cell_type": "code",
   "execution_count": 177,
   "metadata": {},
   "outputs": [],
   "source": [
    "myname = \"Amine\"\n",
    "\n",
    "for letter in myname:\n",
    "    if letter == myname:\n",
    "        print(myname)"
   ]
  },
  {
   "cell_type": "code",
   "execution_count": 190,
   "metadata": {},
   "outputs": [
    {
     "name": "stdout",
     "output_type": "stream",
     "text": [
      "Python\n",
      "P\n",
      "y\n",
      "t\n",
      "h\n",
      "o\n",
      "n\n",
      "Sql\n",
      "S\n",
      "q\n",
      "l\n",
      "Power BI\n",
      "P\n",
      "o\n",
      "w\n",
      "e\n",
      "r\n",
      " \n",
      "B\n",
      "I\n"
     ]
    }
   ],
   "source": [
    "myskills = {\"Python\" :\"30%\", \"Sql\": \"60%\", \"Power BI\": \"5%\"}\n",
    "\n",
    "for skill in myskills:\n",
    "        print(skill)\n",
    "        for x in skill:\n",
    "                print(x)"
   ]
  },
  {
   "cell_type": "code",
   "execution_count": 12,
   "metadata": {},
   "outputs": [
    {
     "name": "stdout",
     "output_type": "stream",
     "text": [
      "1\n",
      "3\n",
      "0\n",
      "1\n",
      "1\n",
      "False\n",
      "0\n"
     ]
    }
   ],
   "source": [
    "print(1 or 3)\n",
    "\n",
    "print(1 and 3)\n",
    "\n",
    "print (0 and 2 and 1)\n",
    "\n",
    "print(0 and 2 or 1)\n",
    "\n",
    "print(0 and 2 or 1 or 4)\n",
    "\n",
    "print(0 or False and 1)\n",
    "\n",
    "print(0)"
   ]
  },
  {
   "cell_type": "code",
   "execution_count": 40,
   "metadata": {},
   "outputs": [
    {
     "name": "stdout",
     "output_type": "stream",
     "text": [
      "1\n"
     ]
    }
   ],
   "source": [
    "print(1)"
   ]
  },
  {
   "cell_type": "code",
   "execution_count": 36,
   "metadata": {},
   "outputs": [
    {
     "data": {
      "text/plain": [
       "True"
      ]
     },
     "execution_count": 36,
     "metadata": {},
     "output_type": "execute_result"
    }
   ],
   "source": [
    "#Write a function called letter_check that takes two inputs, word and letter.\n",
    "#This function should return True if the word contains the letter and False if it does not.\n",
    "\n",
    "\n",
    "def letter_check(word, letter):\n",
    "    for x in word:\n",
    "        if x == letter:\n",
    "            return True\n",
    "        elif x == word:\n",
    "            return True\n",
    "    else:\n",
    "        return False\n",
    "letter_check(\"amine\",\"a\")"
   ]
  },
  {
   "cell_type": "markdown",
   "metadata": {},
   "source": [
    "this one is better than the previous code a wrote because it uses in pre built in function"
   ]
  },
  {
   "cell_type": "code",
   "execution_count": 37,
   "metadata": {},
   "outputs": [
    {
     "name": "stdout",
     "output_type": "stream",
     "text": [
      "True\n",
      "False\n"
     ]
    }
   ],
   "source": [
    "print(\"e\" in \"blueberry\")\n",
    "# => True\n",
    "print(\"a\" in \"blueberry\")\n",
    "# => False"
   ]
  },
  {
   "cell_type": "code",
   "execution_count": 39,
   "metadata": {},
   "outputs": [
    {
     "name": "stdout",
     "output_type": "stream",
     "text": [
      "False\n",
      "True\n"
     ]
    }
   ],
   "source": [
    "print(\"e\" in \"blueberry\" and \"e\" in \"carrot\")\n",
    "print(\"e\" in \"blueberry\" or \"e\" in \"carrot\")"
   ]
  },
  {
   "cell_type": "code",
   "execution_count": 44,
   "metadata": {},
   "outputs": [
    {
     "data": {
      "text/plain": [
       "False"
      ]
     },
     "execution_count": 44,
     "metadata": {},
     "output_type": "execute_result"
    }
   ],
   "source": [
    "def contains(big_string,little_string):\n",
    "  for string in big_string:\n",
    "    if string == little_string:\n",
    "      return True\n",
    "    else:\n",
    "      return False\n",
    "contains(\"watermelon\", \"\")"
   ]
  },
  {
   "cell_type": "code",
   "execution_count": 76,
   "metadata": {},
   "outputs": [
    {
     "data": {
      "text/plain": [
       "False"
      ]
     },
     "execution_count": 76,
     "metadata": {},
     "output_type": "execute_result"
    }
   ],
   "source": [
    "def contains(big_string, little_string):\n",
    "  for little_string in big_string:\n",
    "    if big_string in little_string:\n",
    "      return True\n",
    "    else:\n",
    "      return False\n",
    "    \n",
    "contains(\"watermelon\", \"melon\")\n"
   ]
  },
  {
   "cell_type": "code",
   "execution_count": 77,
   "metadata": {},
   "outputs": [
    {
     "name": "stdout",
     "output_type": "stream",
     "text": [
      "True\n"
     ]
    }
   ],
   "source": [
    "print (\"melon\" in \"watermelon\")"
   ]
  },
  {
   "cell_type": "code",
   "execution_count": 87,
   "metadata": {},
   "outputs": [
    {
     "data": {
      "text/plain": [
       "False"
      ]
     },
     "execution_count": 87,
     "metadata": {},
     "output_type": "execute_result"
    }
   ],
   "source": [
    "def contains(big_string, little_string):\n",
    "    if little_string in big_string:\n",
    "        return True\n",
    "    else:\n",
    "        return False\n",
    "contains(\"watermelon\", \"berry\")"
   ]
  },
  {
   "cell_type": "code",
   "execution_count": 90,
   "metadata": {},
   "outputs": [
    {
     "data": {
      "text/plain": [
       "True"
      ]
     },
     "execution_count": 90,
     "metadata": {},
     "output_type": "execute_result"
    }
   ],
   "source": [
    "def contains(big_string, x):\n",
    "    if x in big_string:\n",
    "        return True\n",
    "    else:\n",
    "        return False\n",
    "contains(\"watermelon\", \"melon\")"
   ]
  },
  {
   "cell_type": "code",
   "execution_count": 95,
   "metadata": {},
   "outputs": [],
   "source": [
    "def common_letters(string_one, string_two):\n",
    "  if string_one in string_two:\n",
    "    return(list(string_two + string_one))\n",
    "common_letters(\"banana\", \"cream\")"
   ]
  }
 ],
 "metadata": {
  "kernelspec": {
   "display_name": "Python 3",
   "language": "python",
   "name": "python3"
  },
  "language_info": {
   "codemirror_mode": {
    "name": "ipython",
    "version": 3
   },
   "file_extension": ".py",
   "mimetype": "text/x-python",
   "name": "python",
   "nbconvert_exporter": "python",
   "pygments_lexer": "ipython3",
   "version": "3.12.0"
  }
 },
 "nbformat": 4,
 "nbformat_minor": 2
}
