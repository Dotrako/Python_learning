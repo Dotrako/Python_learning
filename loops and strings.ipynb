{
 "cells": [
  {
   "cell_type": "code",
   "execution_count": 7,
   "metadata": {},
   "outputs": [
    {
     "name": "stdout",
     "output_type": "stream",
     "text": [
      "1 <class 'int'>\n",
      "abc <class 'str'>\n"
     ]
    }
   ],
   "source": [
    "name = [1,\"abc\"]\n",
    "\n",
    "for x in name:\n",
    "    print(x,type(x))\n"
   ]
  },
  {
   "cell_type": "code",
   "execution_count": 12,
   "metadata": {},
   "outputs": [
    {
     "ename": "TypeError",
     "evalue": "'int' object is not iterable",
     "output_type": "error",
     "traceback": [
      "\u001b[1;31m---------------------------------------------------------------------------\u001b[0m",
      "\u001b[1;31mTypeError\u001b[0m                                 Traceback (most recent call last)",
      "\u001b[1;32mUntitled-2.ipynb Cell 2\u001b[0m line \u001b[0;36m4\n\u001b[0;32m      <a href='vscode-notebook-cell:Untitled-2.ipynb?jupyter-notebook#W1sdW50aXRsZWQ%3D?line=0'>1</a>\u001b[0m name \u001b[39m=\u001b[39m [\u001b[39m1\u001b[39m,\u001b[39m2\u001b[39m]\n\u001b[0;32m      <a href='vscode-notebook-cell:Untitled-2.ipynb?jupyter-notebook#W1sdW50aXRsZWQ%3D?line=2'>3</a>\u001b[0m \u001b[39mfor\u001b[39;00m x \u001b[39min\u001b[39;00m name:\n\u001b[1;32m----> <a href='vscode-notebook-cell:Untitled-2.ipynb?jupyter-notebook#W1sdW50aXRsZWQ%3D?line=3'>4</a>\u001b[0m     \u001b[39mfor\u001b[39;49;00m y \u001b[39min\u001b[39;49;00m x:\n\u001b[0;32m      <a href='vscode-notebook-cell:Untitled-2.ipynb?jupyter-notebook#W1sdW50aXRsZWQ%3D?line=4'>5</a>\u001b[0m         \u001b[39mprint\u001b[39;49m(y)\n",
      "\u001b[1;31mTypeError\u001b[0m: 'int' object is not iterable"
     ]
    }
   ],
   "source": [
    "name = [1,2]\n",
    "\n",
    "for x in name:\n",
    "    for y in x:\n",
    "        print(y)"
   ]
  },
  {
   "cell_type": "code",
   "execution_count": 18,
   "metadata": {},
   "outputs": [
    {
     "name": "stdout",
     "output_type": "stream",
     "text": [
      "[1, 2, [6, 7]]\n",
      "1\n"
     ]
    },
    {
     "ename": "TypeError",
     "evalue": "'int' object is not iterable",
     "output_type": "error",
     "traceback": [
      "\u001b[1;31m---------------------------------------------------------------------------\u001b[0m",
      "\u001b[1;31mTypeError\u001b[0m                                 Traceback (most recent call last)",
      "\u001b[1;32mUntitled-2.ipynb Cell 3\u001b[0m line \u001b[0;36m7\n\u001b[0;32m      <a href='vscode-notebook-cell:Untitled-2.ipynb?jupyter-notebook#W2sdW50aXRsZWQ%3D?line=4'>5</a>\u001b[0m \u001b[39mfor\u001b[39;00m y \u001b[39min\u001b[39;00m inner_list:\n\u001b[0;32m      <a href='vscode-notebook-cell:Untitled-2.ipynb?jupyter-notebook#W2sdW50aXRsZWQ%3D?line=5'>6</a>\u001b[0m     \u001b[39mprint\u001b[39m(y)\n\u001b[1;32m----> <a href='vscode-notebook-cell:Untitled-2.ipynb?jupyter-notebook#W2sdW50aXRsZWQ%3D?line=6'>7</a>\u001b[0m     \u001b[39mfor\u001b[39;49;00m z \u001b[39min\u001b[39;49;00m y:\n\u001b[0;32m      <a href='vscode-notebook-cell:Untitled-2.ipynb?jupyter-notebook#W2sdW50aXRsZWQ%3D?line=7'>8</a>\u001b[0m         \u001b[39mprint\u001b[39;49m(z)\n",
      "\u001b[1;31mTypeError\u001b[0m: 'int' object is not iterable"
     ]
    }
   ],
   "source": [
    "name = [[1, 2,[6,7]], [3, 4,[8,9]]]\n",
    "\n",
    "for inner_list in name:\n",
    "    print(inner_list)\n",
    "    for y in inner_list:\n",
    "        print(y)\n",
    "        for z in y:\n",
    "            print(z)\n"
   ]
  },
  {
   "cell_type": "code",
   "execution_count": 20,
   "metadata": {},
   "outputs": [
    {
     "name": "stdout",
     "output_type": "stream",
     "text": [
      "<class 'list'>\n",
      "1\n",
      "2\n",
      "<class 'list'>\n",
      "6\n",
      "7\n",
      "<class 'list'>\n",
      "3\n",
      "4\n",
      "<class 'list'>\n",
      "8\n",
      "9\n"
     ]
    }
   ],
   "source": [
    "def iterate_nested_list(lst):\n",
    "    for item in lst:\n",
    "        if isinstance(item, list):\n",
    "            print(type(item))\n",
    "            iterate_nested_list(item)\n",
    "        else:\n",
    "            print(item)\n",
    "\n",
    "name = [[1, 2, [6, 7]], [3, 4, [8, 9]]]\n",
    "\n",
    "iterate_nested_list(name)\n"
   ]
  },
  {
   "cell_type": "code",
   "execution_count": 21,
   "metadata": {},
   "outputs": [
    {
     "data": {
      "text/plain": [
       "6"
      ]
     },
     "execution_count": 21,
     "metadata": {},
     "output_type": "execute_result"
    }
   ],
   "source": [
    "def factorial(n):\n",
    "    if n == 0:\n",
    "        return 1  # Base case: 0! is defined as 1\n",
    "    else:\n",
    "        return n * factorial(n - 1)\n",
    "factorial(3)"
   ]
  },
  {
   "cell_type": "code",
   "execution_count": 40,
   "metadata": {},
   "outputs": [
    {
     "name": "stdout",
     "output_type": "stream",
     "text": [
      "JulBle\n",
      "amilaa\n"
     ]
    }
   ],
   "source": [
    "first_name = \"amine\"\n",
    "last_name = \"laagad\"\n",
    "\n",
    "def account_generator(zbi, klawi):\n",
    "    account_name = first_name[0:3]+last_name[0:3]\n",
    "    return account_name\n",
    "account_generator(\"Julie\", \"Blevins\")\n",
    "print(x)\n",
    "\n",
    "y = account_generator(first_name, last_name)\n",
    "print(y)"
   ]
  },
  {
   "cell_type": "code",
   "execution_count": 12,
   "metadata": {},
   "outputs": [
    {
     "name": "stdout",
     "output_type": "stream",
     "text": [
      "1\n",
      "2\n",
      "3\n",
      "4\n",
      "5\n"
     ]
    }
   ],
   "source": [
    "name = 'amine'\n",
    "i = 0 \n",
    "for x in name:\n",
    "    i += 1\n",
    "    print(i)"
   ]
  },
  {
   "cell_type": "code",
   "execution_count": 11,
   "metadata": {},
   "outputs": [
    {
     "data": {
      "text/plain": [
       "5"
      ]
     },
     "execution_count": 11,
     "metadata": {},
     "output_type": "execute_result"
    }
   ],
   "source": [
    "def get_length(name):\n",
    "  i = 0\n",
    "  for x in name:\n",
    "    i += 1\n",
    "  return i\n",
    "get_length(\"amine\")"
   ]
  },
  {
   "cell_type": "code",
   "execution_count": 17,
   "metadata": {},
   "outputs": [
    {
     "name": "stdout",
     "output_type": "stream",
     "text": [
      "15\n"
     ]
    }
   ],
   "source": [
    "def foo(x):\n",
    "    if x == 1:\n",
    "        return 1\n",
    "    else:\n",
    "        return x + foo(x-1)\n",
    "result = foo(5)\n",
    "print(result)\n"
   ]
  },
  {
   "cell_type": "code",
   "execution_count": 21,
   "metadata": {},
   "outputs": [
    {
     "name": "stdout",
     "output_type": "stream",
     "text": [
      "0\n"
     ]
    }
   ],
   "source": [
    "favorite_fruit = \"blueberry\"\n",
    "counter = 0\n",
    "for character in favorite_fruit:\n",
    "  if character == \"b\":\n",
    "    counter = counter + 1\n",
    "print(counter)"
   ]
  },
  {
   "cell_type": "code",
   "execution_count": 156,
   "metadata": {},
   "outputs": [
    {
     "name": "stdout",
     "output_type": "stream",
     "text": [
      "False\n"
     ]
    }
   ],
   "source": [
    "#Write a function called letter_check that takes two inputs, word and letter.\n",
    "#This function should return True if the word contains the letter and False if it does not.\n",
    "word = \"strawberry\"\n",
    "letter = \"s\"\n",
    "def letter_check(word, letter):\n",
    "    for x in word:\n",
    "        if x == letter:\n",
    "            return True\n",
    "        else:\n",
    "            return False\n",
    "            \n",
    "print(letter_check(\"strawberry\", \"r\"))\n"
   ]
  },
  {
   "cell_type": "code",
   "execution_count": 162,
   "metadata": {},
   "outputs": [
    {
     "name": "stdout",
     "output_type": "stream",
     "text": [
      "The number 1 is odd an number\n",
      "The number 2 is an even number\n",
      "The number 3 is odd an number\n",
      "The number 4 is an even number\n",
      "The number 5 is odd an number\n",
      "The number 6 is an even number\n",
      "The number 7 is odd an number\n",
      "The number 8 is an even number\n",
      "The number 9 is odd an number\n"
     ]
    }
   ],
   "source": [
    "mynumbers = [1,2,3,4,5,6,7,8,9]\n",
    "\n",
    "for x in mynumbers:\n",
    "    if x % 2 == 0:\n",
    "        print(f\"The number {x} is an even number\")\n",
    "    else:\n",
    "        print(f\"The number {x} is odd an number\")"
   ]
  },
  {
   "cell_type": "code",
   "execution_count": 177,
   "metadata": {},
   "outputs": [],
   "source": [
    "myname = \"Amine\"\n",
    "\n",
    "for letter in myname:\n",
    "    if letter == myname:\n",
    "        print(myname)"
   ]
  },
  {
   "cell_type": "code",
   "execution_count": 190,
   "metadata": {},
   "outputs": [
    {
     "name": "stdout",
     "output_type": "stream",
     "text": [
      "Python\n",
      "P\n",
      "y\n",
      "t\n",
      "h\n",
      "o\n",
      "n\n",
      "Sql\n",
      "S\n",
      "q\n",
      "l\n",
      "Power BI\n",
      "P\n",
      "o\n",
      "w\n",
      "e\n",
      "r\n",
      " \n",
      "B\n",
      "I\n"
     ]
    }
   ],
   "source": [
    "myskills = {\"Python\" :\"30%\", \"Sql\": \"60%\", \"Power BI\": \"5%\"}\n",
    "\n",
    "for skill in myskills:\n",
    "        print(skill)\n",
    "        for x in skill:\n",
    "                print(x)"
   ]
  },
  {
   "cell_type": "code",
   "execution_count": 12,
   "metadata": {},
   "outputs": [
    {
     "name": "stdout",
     "output_type": "stream",
     "text": [
      "1\n",
      "3\n",
      "0\n",
      "1\n",
      "1\n",
      "False\n",
      "0\n"
     ]
    }
   ],
   "source": [
    "print(1 or 3)\n",
    "\n",
    "print(1 and 3)\n",
    "\n",
    "print (0 and 2 and 1)\n",
    "\n",
    "print(0 and 2 or 1)\n",
    "\n",
    "print(0 and 2 or 1 or 4)\n",
    "\n",
    "print(0 or False and 1)\n",
    "\n",
    "print(0)"
   ]
  },
  {
   "cell_type": "code",
   "execution_count": 40,
   "metadata": {},
   "outputs": [
    {
     "name": "stdout",
     "output_type": "stream",
     "text": [
      "1\n"
     ]
    }
   ],
   "source": [
    "print(1)"
   ]
  },
  {
   "cell_type": "code",
   "execution_count": 36,
   "metadata": {},
   "outputs": [
    {
     "data": {
      "text/plain": [
       "True"
      ]
     },
     "execution_count": 36,
     "metadata": {},
     "output_type": "execute_result"
    }
   ],
   "source": [
    "#Write a function called letter_check that takes two inputs, word and letter.\n",
    "#This function should return True if the word contains the letter and False if it does not.\n",
    "\n",
    "\n",
    "def letter_check(word, letter):\n",
    "    for x in word:\n",
    "        if x == letter:\n",
    "            return True\n",
    "        elif x == word:\n",
    "            return True\n",
    "    else:\n",
    "        return False\n",
    "letter_check(\"amine\",\"a\")"
   ]
  },
  {
   "cell_type": "markdown",
   "metadata": {},
   "source": [
    "this one is better than the previous code a wrote because it uses in pre built in function"
   ]
  },
  {
   "cell_type": "code",
   "execution_count": 37,
   "metadata": {},
   "outputs": [
    {
     "name": "stdout",
     "output_type": "stream",
     "text": [
      "True\n",
      "False\n"
     ]
    }
   ],
   "source": [
    "print(\"e\" in \"blueberry\")\n",
    "# => True\n",
    "print(\"a\" in \"blueberry\")\n",
    "# => False"
   ]
  },
  {
   "cell_type": "code",
   "execution_count": 39,
   "metadata": {},
   "outputs": [
    {
     "name": "stdout",
     "output_type": "stream",
     "text": [
      "False\n",
      "True\n"
     ]
    }
   ],
   "source": [
    "print(\"e\" in \"blueberry\" and \"e\" in \"carrot\")\n",
    "print(\"e\" in \"blueberry\" or \"e\" in \"carrot\")"
   ]
  },
  {
   "cell_type": "code",
   "execution_count": 44,
   "metadata": {},
   "outputs": [
    {
     "data": {
      "text/plain": [
       "False"
      ]
     },
     "execution_count": 44,
     "metadata": {},
     "output_type": "execute_result"
    }
   ],
   "source": [
    "def contains(big_string,little_string):\n",
    "  for string in big_string:\n",
    "    if string == little_string:\n",
    "      return True\n",
    "    else:\n",
    "      return False\n",
    "contains(\"watermelon\", \"\")"
   ]
  },
  {
   "cell_type": "code",
   "execution_count": 103,
   "metadata": {},
   "outputs": [
    {
     "data": {
      "text/plain": [
       "True"
      ]
     },
     "execution_count": 103,
     "metadata": {},
     "output_type": "execute_result"
    }
   ],
   "source": [
    "def contains(big_string, little_string):\n",
    "  for little_string in big_string:\n",
    "    if little_string in big_string:\n",
    "      return True\n",
    "    else:\n",
    "      return False\n",
    "    \n",
    "contains(\"watermelon\", \"melon\")\n"
   ]
  },
  {
   "cell_type": "code",
   "execution_count": 77,
   "metadata": {},
   "outputs": [
    {
     "name": "stdout",
     "output_type": "stream",
     "text": [
      "True\n"
     ]
    }
   ],
   "source": [
    "print (\"melon\" in \"watermelon\")"
   ]
  },
  {
   "cell_type": "code",
   "execution_count": 87,
   "metadata": {},
   "outputs": [
    {
     "data": {
      "text/plain": [
       "False"
      ]
     },
     "execution_count": 87,
     "metadata": {},
     "output_type": "execute_result"
    }
   ],
   "source": [
    "def contains(big_string, little_string):\n",
    "    if little_string in big_string:\n",
    "        return True\n",
    "    else:\n",
    "        return False\n",
    "contains(\"watermelon\", \"berry\")"
   ]
  },
  {
   "cell_type": "code",
   "execution_count": 90,
   "metadata": {},
   "outputs": [
    {
     "data": {
      "text/plain": [
       "True"
      ]
     },
     "execution_count": 90,
     "metadata": {},
     "output_type": "execute_result"
    }
   ],
   "source": [
    "def contains(big_string, x):\n",
    "    if x in big_string:\n",
    "        return True\n",
    "    else:\n",
    "        return False\n",
    "contains(\"watermelon\", \"melon\")"
   ]
  },
  {
   "cell_type": "code",
   "execution_count": 95,
   "metadata": {},
   "outputs": [],
   "source": [
    "def common_letters(string_one, string_two):\n",
    "  if string_one in string_two:\n",
    "    return(list(string_two + string_one))\n",
    "common_letters(\"banana\", \"cream\")"
   ]
  },
  {
   "cell_type": "code",
   "execution_count": 33,
   "metadata": {},
   "outputs": [
    {
     "name": "stdout",
     "output_type": "stream",
     "text": [
      "Amlaa\n"
     ]
    }
   ],
   "source": [
    "# Create a password function that can slice,\n",
    "# concatenate name and lastname and put them in a new var that will generate password based on them\n",
    "first_name = \"Amine\"\n",
    "last_name = \"laagad\"\n",
    "\n",
    "def name_slicer(first_name , last_name):\n",
    "    account_login = first_name[:2] + last_name[:3]\n",
    "    return account_login\n",
    "new_accounts = name_slicer(first_name, last_name)\n",
    "name_slicer(\"Amine\", \"Laagad\")\n",
    "print(new_accounts)\n",
    "\n"
   ]
  },
  {
   "cell_type": "code",
   "execution_count": null,
   "metadata": {},
   "outputs": [],
   "source": [
    "first_name = \"Reiko\"\n",
    "last_name = \"Matsuki\"\n",
    "def password_generator(first_name, last_name):\n",
    "    new_full_name = first_name[-3:]+last_name[-3:]\n",
    "    return new_full_name\n",
    "new_account = password_generator(first_name, last_name)\n",
    "password_generator(\"Reiko\", \"Matsuki\")\n",
    "print(new_account)\n"
   ]
  },
  {
   "cell_type": "code",
   "execution_count": 34,
   "metadata": {},
   "outputs": [
    {
     "name": "stdout",
     "output_type": "stream",
     "text": [
      "[['NAME', 'B08303_001E', 'state'], ['Pennsylvania', '5652158', '42'], ['California', '16710195', '06'], ['West Virginia', '697042', '54'], ['Utah', '1378826', '49'], ['New York', '8584828', '36'], ['District of Columbia', '332618', '11'], ['Alaska', '330203', '02'], ['Florida', '8817718', '12'], ['South Carolina', '2174285', '45'], ['North Dakota', '380227', '38'], ['Maine', '608861', '23'], ['Georgia', '4475685', '13'], ['Alabama', '2002359', '01'], ['New Hampshire', '656277', '33'], ['Oregon', '1790252', '41'], ['Wyoming', '267249', '56'], ['Arizona', '2897654', '04'], ['Louisiana', '1917930', '22'], ['Indiana', '2985939', '18'], ['Idaho', '744565', '16'], ['Connecticut', '1641807', '09'], ['Hawaii', '657643', '15'], ['Illinois', '5686627', '17'], ['Massachusetts', '3251466', '25'], ['Texas', '12371575', '48'], ['Montana', '471094', '30'], ['Nebraska', '928064', '31'], ['Ohio', '5163570', '39'], ['Colorado', '2604698', '08'], ['New Jersey', '4016070', '34'], ['Maryland', '2799889', '24'], ['Virginia', '3883690', '51'], ['Vermont', '292982', '50'], ['North Carolina', '4458769', '37'], ['Arkansas', '1238100', '05'], ['Washington', '3302637', '53'], ['Kansas', '1345103', '20'], ['Oklahoma', '1674019', '40'], ['Wisconsin', '2747826', '55'], ['Mississippi', '1193668', '28'], ['Missouri', '2707728', '29'], ['Michigan', '4288646', '26'], ['Rhode Island', '495214', '44'], ['Minnesota', '2654657', '27'], ['Iowa', '1482217', '19'], ['New Mexico', '829659', '35'], ['Nevada', '1321596', '32'], ['Delaware', '419600', '10'], ['Puerto Rico', '969379', '72'], ['Kentucky', '1858458', '21'], ['South Dakota', '411590', '46'], ['Tennessee', '2909026', '47']]\n"
     ]
    }
   ],
   "source": [
    "import requests\n",
    "\n",
    "r = requests.get(\"https://api.census.gov/data/2020/acs/acs5?get=NAME,B08303_001E&for=state:*\")\n",
    "\n",
    "Url = r.json()\n",
    "print(Url)"
   ]
  },
  {
   "cell_type": "code",
   "execution_count": 36,
   "metadata": {},
   "outputs": [],
   "source": [
    "import csv \n",
    "\n",
    "with open (\"censuse_data.csv\", mode=\"w\", newline=\"\") as file:\n",
    "    writer = csv.writer(file)\n",
    "    writer.writerows(Url)"
   ]
  },
  {
   "cell_type": "code",
   "execution_count": 45,
   "metadata": {},
   "outputs": [
    {
     "name": "stdout",
     "output_type": "stream",
     "text": [
      "amine\n",
      "a\n",
      "m\n",
      "i\n",
      "n\n",
      "e\n"
     ]
    }
   ],
   "source": [
    "#Iterate trough a a lsit and a name or lastname to display each charachter \n",
    "name = [\"amine\"]\n",
    "\n",
    "for list_element in name:\n",
    "    print(list_element)\n",
    "    for letter in list_element:\n",
    "        print(letter)"
   ]
  },
  {
   "cell_type": "code",
   "execution_count": 90,
   "metadata": {},
   "outputs": [
    {
     "data": {
      "text/plain": [
       "'AbeSimp'"
      ]
     },
     "execution_count": 90,
     "metadata": {},
     "output_type": "execute_result"
    }
   ],
   "source": [
    "#Inside password_generator, create a for loop that iterates through the indices of user_name by going from 0 to len(user_name).\n",
    "#The loop should create the password by shifting all the letters of user_name one to the right. \n",
    "#To do so, add the letter at the previous index of user_name to password with each pass of the loop.\n",
    "#After the for loop but still within the definition of password_generator, return the password.\n",
    "\n",
    "def username_generator(first_name, last_name):\n",
    "  user_name = first_name[:3] + last_name [:4]\n",
    "  return user_name\n",
    "new_password = username_generator(first_name, last_name)\n",
    "username_generator(\"Abe Simpson\", \"AbeSimp\")\n",
    "\n",
    "def password_generator(user_name):\n",
    "  for x in range (0, len(user_name)):\n",
    "      x = user_name[-1]+ user_name[:-1]\n",
    "      return x\n",
    "password_generator(\"AbeSimp\")\n"
   ]
  },
  {
   "cell_type": "code",
   "execution_count": 81,
   "metadata": {},
   "outputs": [
    {
     "data": {
      "text/plain": [
       "'pAbesim'"
      ]
     },
     "execution_count": 81,
     "metadata": {},
     "output_type": "execute_result"
    }
   ],
   "source": [
    "def username_generator(first_name, last_name):\n",
    "    if len(first_name) < 3:\n",
    "        user_name = first_name\n",
    "    else:\n",
    "        user_name = first_name[0:3]\n",
    "    if len(last_name) < 4:\n",
    "        user_name += last_name\n",
    "    else:\n",
    "        user_name += last_name[0:4]\n",
    "    return user_name\n",
    "  \n",
    "    \n",
    "def password_generator(user_name):\n",
    "    password = \"\"\n",
    "    for i in range(0, len(user_name)):\n",
    "        password += user_name[i-1]\n",
    "    return password\n",
    "password_generator(\"Abesimp\")"
   ]
  },
  {
   "cell_type": "code",
   "execution_count": 96,
   "metadata": {},
   "outputs": [
    {
     "name": "stdout",
     "output_type": "stream",
     "text": [
      "*\n",
      "*\n",
      "*\n",
      "*\n",
      "*\n"
     ]
    }
   ],
   "source": [
    "def print_some_characters(word):\n",
    "  for i in range(len(word)):\n",
    "    if i % 2 == 0:\n",
    "      print(\"*\")\n",
    "\n",
    "print_some_characters(\"watermelon\")"
   ]
  },
  {
   "cell_type": "code",
   "execution_count": 104,
   "metadata": {},
   "outputs": [
    {
     "name": "stdout",
     "output_type": "stream",
     "text": [
      "True\n"
     ]
    }
   ],
   "source": [
    "print(\"melon\" in \"watermelon\")"
   ]
  },
  {
   "cell_type": "markdown",
   "metadata": {},
   "source": [
    "Strings operations"
   ]
  },
  {
   "cell_type": "code",
   "execution_count": 146,
   "metadata": {},
   "outputs": [
    {
     "name": "stdout",
     "output_type": "stream",
     "text": [
      "AMINE LAAGAAD\n",
      "amine laagaad\n",
      "Amine Laagaad\n",
      "['amine', 'LAAGAAD']\n",
      "your name is amine LAAGAAD\n"
     ]
    }
   ],
   "source": [
    "name = \"amine LAAGAAD\"\n",
    "# make all the string in uppercase format\n",
    "print(name.upper())\n",
    "# Lower case\n",
    "print(name.lower())\n",
    "\n",
    "# title format\n",
    "print(name.title())\n",
    "\n",
    "# split as a list\n",
    "print(name.split())\n",
    "\n",
    "# join\n",
    "\"9\".join(name)\n",
    "\n",
    "# replacing\n",
    "name.replace(\"a\",\"A\")\n",
    "\n",
    "# strip remove sapces\n",
    "name.strip()\n",
    "\n",
    "# format\n",
    "print(f\"your name is {name}\")\n"
   ]
  },
  {
   "cell_type": "code",
   "execution_count": 147,
   "metadata": {},
   "outputs": [
    {
     "name": "stdout",
     "output_type": "stream",
     "text": [
      "['John', 'Doe', '30']\n"
     ]
    }
   ],
   "source": [
    "tabbed_data = \"John\\tDoe\\t30\"\n",
    "info = tabbed_data.split(\"\\t\")\n",
    "print(info)\n",
    "# Output: ['John', 'Doe', '30']\n"
   ]
  },
  {
   "cell_type": "code",
   "execution_count": 149,
   "metadata": {},
   "outputs": [
    {
     "name": "stdout",
     "output_type": "stream",
     "text": [
      "['First line', 'Second line', 'Third line'] First line\n",
      "Second line\n",
      "Third line\n"
     ]
    }
   ],
   "source": [
    "multiline_text = \"First line\\nSecond line\\nThird line\"\n",
    "lines = multiline_text.split(\"\\n\")\n",
    "print(lines, multiline_text)\n",
    "# Output: ['First line', 'Second line', 'Third line']\n"
   ]
  },
  {
   "cell_type": "code",
   "execution_count": 1,
   "metadata": {},
   "outputs": [
    {
     "name": "stdout",
     "output_type": "stream",
     "text": [
      "['sa', 'ta', 'a']\n"
     ]
    }
   ],
   "source": [
    "greatest_guitarist = \"santana\"\n",
    "print(greatest_guitarist.split('n'))\n",
    "# => ['sa', 'ta', 'a']"
   ]
  },
  {
   "cell_type": "code",
   "execution_count": 53,
   "metadata": {},
   "outputs": [
    {
     "name": "stdout",
     "output_type": "stream",
     "text": [
      "['A', 'u', 'd', 'r', 'e']\n",
      "['G', 'a', 'b', 'r', 'i', 'e', 'l', 'a']\n",
      "['J', 'e', 'a', 'n']\n",
      "['A', 'n']\n",
      "['W', 'a', 'l', 't']\n",
      "['S', 'h', 'e', 'l']\n",
      "['C', 'a', 'r', 'm', 'e', 'n']\n",
      "['K', 'a', 'm', 'a', 'l', 'a']\n",
      "['L', 'a', 'n', 'g', 's', 't', 'o', 'n']\n",
      "['A', 'd', 'r', 'i', 'e', 'n', 'n', 'e']\n",
      "['N', 'i', 'k', 'k', 'i']\n"
     ]
    }
   ],
   "source": [
    "authors = \"Audre Lorde,Gabriela Mistral,Jean Toomer,An Qi,Walt Whitman,Shel Silverstein,Carmen Boullosa,Kamala Suraiyya,Langston Hughes,Adrienne Rich,Nikki Giovanni\"\n",
    "author_names = authors.split(\",\")\n",
    "for x in author_names:\n",
    "    print(list(x.split()[0]))"
   ]
  },
  {
   "cell_type": "code",
   "execution_count": 61,
   "metadata": {},
   "outputs": [
    {
     "name": "stdout",
     "output_type": "stream",
     "text": [
      "['Audre Lorde', 'Gabriela Mistral', 'Jean Toomer', 'An Qi', 'Walt Whitman', 'Shel Silverstein', 'Carmen Boullosa', 'Kamala Suraiyya', 'Langston Hughes', 'Adrienne Rich', 'Nikki Giovanni']\n",
      "['Lorde']\n",
      "['Lorde', 'Mistral']\n",
      "['Lorde', 'Mistral', 'Toomer']\n",
      "['Lorde', 'Mistral', 'Toomer', 'Qi']\n",
      "['Lorde', 'Mistral', 'Toomer', 'Qi', 'Whitman']\n",
      "['Lorde', 'Mistral', 'Toomer', 'Qi', 'Whitman', 'Silverstein']\n",
      "['Lorde', 'Mistral', 'Toomer', 'Qi', 'Whitman', 'Silverstein', 'Boullosa']\n",
      "['Lorde', 'Mistral', 'Toomer', 'Qi', 'Whitman', 'Silverstein', 'Boullosa', 'Suraiyya']\n",
      "['Lorde', 'Mistral', 'Toomer', 'Qi', 'Whitman', 'Silverstein', 'Boullosa', 'Suraiyya', 'Hughes']\n",
      "['Lorde', 'Mistral', 'Toomer', 'Qi', 'Whitman', 'Silverstein', 'Boullosa', 'Suraiyya', 'Hughes', 'Rich']\n",
      "['Lorde', 'Mistral', 'Toomer', 'Qi', 'Whitman', 'Silverstein', 'Boullosa', 'Suraiyya', 'Hughes', 'Rich', 'Giovanni']\n"
     ]
    }
   ],
   "source": [
    "authors = \"Audre Lorde,Gabriela Mistral,Jean Toomer,An Qi,Walt Whitman,Shel Silverstein,Carmen Boullosa,Kamala Suraiyya,Langston Hughes,Adrienne Rich,Nikki Giovanni\"\n",
    "\n",
    "author_names = authors.split(',')\n",
    "\n",
    "print(author_names)\n",
    "\n",
    "author_last_names = []\n",
    "for name in author_names:\n",
    "  author_last_names.append(name.split()[-1])\n",
    "  print(author_last_names)"
   ]
  },
  {
   "cell_type": "code",
   "execution_count": 92,
   "metadata": {},
   "outputs": [
    {
     "name": "stdout",
     "output_type": "stream",
     "text": [
      "\n",
      "And if you said\n",
      "This life ain't good enough\n",
      "I would give my world to lift you up\n",
      "I could change my life to better suit your mood\n",
      "Because you're so smooth\n"
     ]
    }
   ],
   "source": [
    "smooth_chorus =\"\"\"\\nAnd if you said\\nThis life ain't good enough\\nI would give my world to lift you up\\nI could change my life to better suit your mood\\nBecause you're so smooth\"\"\"\n",
    "\n",
    "print(smooth_chorus)"
   ]
  },
  {
   "cell_type": "code",
   "execution_count": 93,
   "metadata": {},
   "outputs": [
    {
     "name": "stdout",
     "output_type": "stream",
     "text": [
      "This is the first line.\n",
      "This is the second line.\n"
     ]
    }
   ],
   "source": [
    "text = \"This is the first line.\\nThis is the second line.\"\n",
    "print(text)\n"
   ]
  },
  {
   "cell_type": "code",
   "execution_count": 97,
   "metadata": {},
   "outputs": [
    {
     "name": "stdout",
     "output_type": "stream",
     "text": [
      "Name:\tJohn\n",
      "Age:\t30\n"
     ]
    }
   ],
   "source": [
    "text = \"Name:\\tJohn\\nAge:\\t30\"\n",
    "print(text)\n"
   ]
  },
  {
   "cell_type": "code",
   "execution_count": 104,
   "metadata": {},
   "outputs": [
    {
     "name": "stdout",
     "output_type": "stream",
     "text": [
      "And if you said \"This life ain't good enough.\"\n"
     ]
    }
   ],
   "source": [
    "smooth_chorus = \\\n",
    "\"\"\"And if you said \"This life ain't good enough.\"\n",
    "I would give my world to lift you up\n",
    "I could change my life to better suit your mood\n",
    "Because you're so smooth\"\"\"\n",
    "\n",
    "chorus_lines = smooth_chorus.split('\\n')\n",
    "\n",
    "print(chorus_lines[0])"
   ]
  },
  {
   "cell_type": "code",
   "execution_count": 112,
   "metadata": {},
   "outputs": [
    {
     "name": "stdout",
     "output_type": "stream",
     "text": [
      "apple hey banana hey cherry\n"
     ]
    }
   ],
   "source": [
    "my_list = [\"apple\", \"banana\", \"cherry\"]\n",
    "result = \" hey \".join(my_list)\n",
    "\n",
    "print(result)"
   ]
  },
  {
   "cell_type": "code",
   "execution_count": 117,
   "metadata": {},
   "outputs": [
    {
     "name": "stdout",
     "output_type": "stream",
     "text": [
      "My\n",
      "\tSpanish\n",
      "\tHarlem\n",
      "\tMona\n",
      "\tLisa\n"
     ]
    }
   ],
   "source": [
    "my_munequita = ['My', 'Spanish', 'Harlem', 'Mona', 'Lisa']\n",
    "print('\\n\\t'.join(my_munequita))\n",
    "# => 'My Spanish Harlem Mona Lisa'"
   ]
  },
  {
   "cell_type": "code",
   "execution_count": 17,
   "metadata": {},
   "outputs": [
    {
     "name": "stdout",
     "output_type": "stream",
     "text": [
      "\n",
      " A\n",
      "\n",
      " l\n",
      "\n",
      " w\n",
      "\n",
      " a\n",
      "\n",
      " y\n",
      "\n",
      " s\n",
      "\n",
      "  \n",
      "\n",
      "  \n",
      "\n",
      "  \n",
      "\n",
      "  \n",
      "\n",
      " \n",
      "\n",
      "\n",
      "  \n",
      "\n",
      "  \n",
      "\n",
      "  \n",
      "\n",
      "  \n",
      "\n",
      "  \n",
      "\n",
      " i\n",
      "\n",
      " n\n",
      "\n",
      "  \n",
      "\n",
      " t\n",
      "\n",
      " h\n",
      "\n",
      " e\n",
      "\n",
      "  \n",
      "\n",
      " m\n",
      "\n",
      " i\n",
      "\n",
      " d\n",
      "\n",
      " d\n",
      "\n",
      " l\n",
      "\n",
      " e\n",
      "\n",
      "  \n",
      "\n",
      " o\n",
      "\n",
      " f\n",
      "\n",
      "  \n",
      "\n",
      " o\n",
      "\n",
      " u\n",
      "\n",
      " r\n",
      "\n",
      "  \n",
      "\n",
      " b\n",
      "\n",
      " l\n",
      "\n",
      " o\n",
      "\n",
      " o\n",
      "\n",
      " d\n",
      "\n",
      " i\n",
      "\n",
      " e\n",
      "\n",
      " s\n",
      "\n",
      " t\n",
      "\n",
      "  \n",
      "\n",
      " b\n",
      "\n",
      " a\n",
      "\n",
      " t\n",
      "\n",
      " t\n",
      "\n",
      " l\n",
      "\n",
      " e\n",
      "\n",
      " s\n",
      "\n",
      "  \n",
      "\n",
      "  \n",
      "\n",
      " \n",
      "\n",
      "\n",
      " y\n",
      "\n",
      " o\n",
      "\n",
      " u\n",
      "\n",
      "  \n",
      "\n",
      " l\n",
      "\n",
      " a\n",
      "\n",
      " y\n",
      "\n",
      "  \n",
      "\n",
      " d\n",
      "\n",
      " o\n",
      "\n",
      " w\n",
      "\n",
      " n\n",
      "\n",
      "  \n",
      "\n",
      " y\n",
      "\n",
      " o\n",
      "\n",
      " u\n",
      "\n",
      " r\n",
      "\n",
      "  \n",
      "\n",
      " a\n",
      "\n",
      " r\n",
      "\n",
      " m\n",
      "\n",
      " s\n",
      "\n",
      " \n",
      "\n",
      "\n",
      "  \n",
      "\n",
      "  \n",
      "\n",
      "  \n",
      "\n",
      "  \n",
      "\n",
      "  \n",
      "\n",
      "  \n",
      "\n",
      "  \n",
      "\n",
      "  \n",
      "\n",
      "  \n",
      "\n",
      "  \n",
      "\n",
      "  \n",
      "\n",
      " l\n",
      "\n",
      " i\n",
      "\n",
      " k\n",
      "\n",
      " e\n",
      "\n",
      "  \n",
      "\n",
      " f\n",
      "\n",
      " l\n",
      "\n",
      " o\n",
      "\n",
      " w\n",
      "\n",
      " e\n",
      "\n",
      " r\n",
      "\n",
      " i\n",
      "\n",
      " n\n",
      "\n",
      " g\n",
      "\n",
      "  \n",
      "\n",
      " m\n",
      "\n",
      " i\n",
      "\n",
      " n\n",
      "\n",
      " e\n",
      "\n",
      " s\n",
      "\n",
      "  \n",
      "\n",
      "  \n",
      "\n",
      "  \n",
      "\n",
      "  \n",
      "\n",
      " \n",
      "\n",
      "\n",
      " \n",
      "\n",
      "\n",
      " \n",
      "\n",
      "\n",
      "  \n",
      "\n",
      "  \n",
      "\n",
      "  \n",
      "\n",
      " t\n",
      "\n",
      " o\n",
      "\n",
      "  \n",
      "\n",
      " c\n",
      "\n",
      " o\n",
      "\n",
      " n\n",
      "\n",
      " q\n",
      "\n",
      " u\n",
      "\n",
      " e\n",
      "\n",
      " r\n",
      "\n",
      "  \n",
      "\n",
      " m\n",
      "\n",
      " e\n",
      "\n",
      "  \n",
      "\n",
      " h\n",
      "\n",
      " o\n",
      "\n",
      " m\n",
      "\n",
      " e\n",
      "\n",
      " .\n",
      "\n",
      "  \n",
      "\n",
      "  \n",
      "\n",
      "  \n",
      "\n",
      "  \n"
     ]
    }
   ],
   "source": [
    "love_maybe_lines = ['Always    ', '     in the middle of our bloodiest battles  ', 'you lay down your arms', '           like flowering mines    ','\\n' ,'   to conquer me home.    ']\n",
    "\n",
    "for x in \"\\n\".join(love_maybe_lines):\n",
    "    print(\"\\n\",x)\n"
   ]
  },
  {
   "cell_type": "code",
   "execution_count": 49,
   "metadata": {},
   "outputs": [
    {
     "ename": "AttributeError",
     "evalue": "'list' object has no attribute 'strip'",
     "output_type": "error",
     "traceback": [
      "\u001b[1;31m---------------------------------------------------------------------------\u001b[0m",
      "\u001b[1;31mAttributeError\u001b[0m                            Traceback (most recent call last)",
      "\u001b[1;32mc:\\Users\\laaga\\OneDrive\\Bureau\\learning\\Python\\Scripts\\loops and strings.ipynb Cell 50\u001b[0m line \u001b[0;36m6\n\u001b[0;32m      <a href='vscode-notebook-cell:/c%3A/Users/laaga/OneDrive/Bureau/learning/Python/Scripts/loops%20and%20strings.ipynb#Y100sZmlsZQ%3D%3D?line=3'>4</a>\u001b[0m \u001b[39mfor\u001b[39;00m x \u001b[39min\u001b[39;00m love_maybe_lines:  \n\u001b[0;32m      <a href='vscode-notebook-cell:/c%3A/Users/laaga/OneDrive/Bureau/learning/Python/Scripts/loops%20and%20strings.ipynb#Y100sZmlsZQ%3D%3D?line=4'>5</a>\u001b[0m     y\u001b[39m.\u001b[39mappend(x\u001b[39m.\u001b[39msplit(\u001b[39m\"\u001b[39m\u001b[39m\\n\u001b[39;00m\u001b[39m\"\u001b[39m))\n\u001b[1;32m----> <a href='vscode-notebook-cell:/c%3A/Users/laaga/OneDrive/Bureau/learning/Python/Scripts/loops%20and%20strings.ipynb#Y100sZmlsZQ%3D%3D?line=5'>6</a>\u001b[0m     \u001b[39mprint\u001b[39m(y\u001b[39m.\u001b[39;49mstrip())\n",
      "\u001b[1;31mAttributeError\u001b[0m: 'list' object has no attribute 'strip'"
     ]
    }
   ],
   "source": [
    "love_maybe_lines = ['Always    ', '     in the middle of our bloodiest battles  ', 'you lay down your arms', '           like flowering mines    ','\\n' ,'   to conquer me home.    ']\n",
    "\n",
    "y = []\n",
    "for x in love_maybe_lines:  \n",
    "    y.append(x.split(\"\\n\"))\n",
    "    print(y.strip())\n",
    "\n",
    "\n"
   ]
  },
  {
   "cell_type": "code",
   "execution_count": 64,
   "metadata": {},
   "outputs": [
    {
     "name": "stdout",
     "output_type": "stream",
     "text": [
      "['Always', 'in the middle of our bloodiest battles', 'you lay down your arms', 'like flowering mines', '', 'to conquer me home.']\n",
      "Always\n",
      "in the middle of our bloodiest battles\n",
      "you lay down your arms\n",
      "like flowering mines\n",
      "\n",
      "to conquer me home.\n"
     ]
    }
   ],
   "source": [
    "love_maybe_lines = ['Always    ', '     in the middle of our bloodiest battles  ', 'you lay down your arms', '           like flowering mines    ','\\n' ,'   to conquer me home.    ']\n",
    "stripped_lines = [line.strip() for line in love_maybe_lines]\n",
    "print(stripped_lines)\n",
    "\n",
    "for line in stripped_lines:\n",
    "    line.strip(\" \")\n",
    "    print(line)"
   ]
  },
  {
   "cell_type": "code",
   "execution_count": 50,
   "metadata": {},
   "outputs": [
    {
     "name": "stdout",
     "output_type": "stream",
     "text": [
      "Always\n",
      "in the middle of our bloodiest battles\n",
      "you lay down your arms\n",
      "like flowering mines\n",
      "\n",
      "to conquer me home.\n"
     ]
    }
   ],
   "source": [
    "# Define the list of lines with whitespace\n",
    "love_maybe_lines = ['Always    ', '     in the middle of our bloodiest battles  ', 'you lay down your arms', '           like flowering mines    ','\\n' ,'   to conquer me home.    ']\n",
    "\n",
    "# Use list comprehension to strip whitespace from each line\n",
    "stripped_lines = [line.strip() for line in love_maybe_lines]\n",
    "\n",
    "# Print the stripped lines\n",
    "for line in stripped_lines:\n",
    "    print(line)\n"
   ]
  },
  {
   "cell_type": "code",
   "execution_count": null,
   "metadata": {},
   "outputs": [],
   "source": [
    "authors = \"Audre Lorde,Gabriela Mistral,Jean Toomer,An Qi,Walt Whitman,Shel Silverstein,Carmen Boullosa,Kamala Suraiyya,Langston Hughes,Adrienne Rich,Nikki Giovanni\"\n",
    "\n",
    "author_names = authors.split(',')\n",
    "\n",
    "print(author_names)\n",
    "\n",
    "author_last_names = []\n",
    "\n",
    "for name in author_names:\n",
    "\n",
    "    author_last_names.append(name.split()[-1])\n",
    "    print(author_last_names)"
   ]
  },
  {
   "cell_type": "code",
   "execution_count": 7,
   "metadata": {},
   "outputs": [
    {
     "name": "stdout",
     "output_type": "stream",
     "text": [
      "['Amine', ' laagad']\n"
     ]
    }
   ],
   "source": [
    "name = \"Amine, laagad\"\n",
    "\n",
    "name1 = name.split(\",\")\n",
    "print(name1)"
   ]
  },
  {
   "cell_type": "code",
   "execution_count": 10,
   "metadata": {},
   "outputs": [
    {
     "name": "stdout",
     "output_type": "stream",
     "text": [
      "z\n"
     ]
    }
   ],
   "source": [
    "name = \"Amine, laagad\"\n",
    "\n",
    "name1 = name.join(\"z\")\n",
    "print(name1)"
   ]
  },
  {
   "cell_type": "code",
   "execution_count": 26,
   "metadata": {},
   "outputs": [
    {
     "name": "stdout",
     "output_type": "stream",
     "text": [
      "['apple', 'banana', 'cherry,dates,elderberry']\n"
     ]
    }
   ],
   "source": [
    "text = \"apple,banana,cherry,dates,elderberry\"\n",
    "fruits = text.split(',', 2)\n",
    "print(fruits)"
   ]
  },
  {
   "cell_type": "code",
   "execution_count": 32,
   "metadata": {},
   "outputs": [
    {
     "name": "stdout",
     "output_type": "stream",
     "text": [
      "['santana']\n",
      "['s', 'nt', 'n', '']\n"
     ]
    }
   ],
   "source": [
    "greatest_guitarist = \"santana\"\n",
    "splited_santana_space = greatest_guitarist.split()\n",
    "print(splited_santana_space)\n",
    "splited_santana_a = greatest_guitarist.split(\"a\")\n",
    "print(splited_santana_a)\n"
   ]
  },
  {
   "cell_type": "code",
   "execution_count": 58,
   "metadata": {},
   "outputs": [
    {
     "name": "stdout",
     "output_type": "stream",
     "text": [
      "['Audre Lorde', 'Gabriela Mistral', 'Jean Toomer', 'An Qi', 'Walt Whitman', 'Shel Silverstein', 'Carmen Boullosa', 'Kamala Suraiyya', 'Langston Hughes', 'Adrienne Rich', 'Nikki Giovanni']\n",
      "['Lorde', 'Mistral', 'Toomer', 'Qi', 'Whitman', 'Silverstein', 'Boullosa', 'Suraiyya', 'Hughes', 'Rich', 'Giovanni']\n"
     ]
    }
   ],
   "source": [
    "authors = \"Audre Lorde,Gabriela Mistral,Jean Toomer,An Qi,Walt Whitman,Shel Silverstein,Carmen Boullosa,Kamala Suraiyya,Langston Hughes,Adrienne Rich,Nikki Giovanni\"\n",
    "# we want each full name seperated from the string authors\n",
    "#Great work, but now it turns out they didn’t want poet’s first names (why didn’t they just say that the first time!?)\n",
    "#Create another list called author_last_names that only contains the last names of the poets in the provided string.\n",
    "authors_splitted = authors.split(\",\")\n",
    "print(authors_splitted)\n",
    "\n",
    "\n",
    "\n",
    "full_name = [x.split()[1] for x in authors_splitted]\n",
    "\n",
    "print(full_name)\n",
    "    \n",
    "    \n"
   ]
  },
  {
   "cell_type": "code",
   "execution_count": 60,
   "metadata": {},
   "outputs": [
    {
     "name": "stdout",
     "output_type": "stream",
     "text": [
      "['Lorde', 'Mistral', 'Toomer', 'Qi', 'Whitman', 'Silverstein', 'Boullosa', 'Suraiyya', 'Hughes', 'Rich', 'Giovanni']\n"
     ]
    }
   ],
   "source": [
    "authors = \"Audre Lorde,Gabriela Mistral,Jean Toomer,An Qi,Walt Whitman,Shel Silverstein,Carmen Boullosa,Kamala Suraiyya,Langston Hughes,Adrienne Rich,Nikki Giovanni\"\n",
    "\n",
    "\n",
    "author_names = authors.split(\",\")\n",
    "author_last_names = []\n",
    "for x in author_names:\n",
    "    author_last_names.split(\",\")append(x.split()[1])\n",
    "print(author_last_names)"
   ]
  },
  {
   "cell_type": "code",
   "execution_count": 65,
   "metadata": {},
   "outputs": [
    {
     "name": "stdout",
     "output_type": "stream",
     "text": [
      "Black\treapers\twith\tthe\tsound\tof\tsteel\ton\tstones\n"
     ]
    }
   ],
   "source": [
    "reapers_line_one_words = [\"Black\", \"reapers\", \"with\", \"the\", \"sound\", \"of\", \"steel\", \"on\", \"stones\"]\n",
    "\n",
    "reapers_line_one = '\\t'.join(reapers_line_one_words)\n",
    "\n",
    "print(reapers_line_one)"
   ]
  },
  {
   "cell_type": "code",
   "execution_count": 1,
   "metadata": {},
   "outputs": [
    {
     "name": "stdout",
     "output_type": "stream",
     "text": [
      "['apple', 'banana', 'cherry']\n"
     ]
    }
   ],
   "source": [
    "original_list = [\"   apple  \", \"  banana  \", \"   cherry   \"]\n",
    "stripped_list = [item.strip() for item in original_list]\n",
    "print(stripped_list)\n"
   ]
  },
  {
   "cell_type": "code",
   "execution_count": 8,
   "metadata": {},
   "outputs": [
    {
     "name": "stdout",
     "output_type": "stream",
     "text": [
      "[['apple'], ['banana'], ['cherry']]\n"
     ]
    }
   ],
   "source": [
    "original_list = [\"   apple  \", \"  banana  \", \"   cherry   \"]\n",
    "stripped_list = [item.split() for item in original_list]\n",
    "print(stripped_list)\n"
   ]
  },
  {
   "cell_type": "code",
   "execution_count": 41,
   "metadata": {},
   "outputs": [
    {
     "name": "stdout",
     "output_type": "stream",
     "text": [
      "['Always', 'in the middle of our bloodiest battles', 'you lay down your arms', 'like flowering mines', '', 'to conquer me home.']\n"
     ]
    }
   ],
   "source": [
    "# 1.\n",
    "#They sent over another list containing all the lines to the Audre Lorde poem, Love, Maybe.\n",
    "#They want you to join together all of the lines into a single string that can be used to display the poem again,\n",
    "#but this time, you’ve noticed that the list contains a ton of unnecessary whitespace that doesn’t appear in the actual poem.\n",
    "\n",
    "#First, use .strip() on each line in the list to remove the unnecessary whitespace and save it as a new list love_maybe_lines_stripped.\n",
    "\n",
    "love_maybe_lines = ['Always    ',\n",
    "                     '     in the middle of our bloodiest battles  ',\n",
    "                       'you lay down your arms',\n",
    "                         '           like flowering mines    ',\n",
    "                         '\\n' ,'   to conquer me home.    ']\n",
    "\n",
    "love_maybe_lines_stripped = [x.strip() for x in love_maybe_lines]\n",
    "print(love_maybe_lines_stripped)\n",
    "\n",
    "# 2 .join() the lines in love_maybe_lines_stripped together into one large multi-line string, love_maybe_full,\n",
    "# that can be printed to display the poem.\n",
    "# Each line of the poem should show up on its own line.\n",
    "\n",
    "love_maybe_lines_joined  = \" \" \"\\n\".join(love_maybe_lines_stripped)\n",
    "print(love_maybe_lines_joined)\n"
   ]
  },
  {
   "cell_type": "markdown",
   "metadata": {},
   "source": [
    "string_name.replace(substring_being_replaced, new_substring)"
   ]
  },
  {
   "cell_type": "code",
   "execution_count": 43,
   "metadata": {},
   "outputs": [
    {
     "name": "stdout",
     "output_type": "stream",
     "text": [
      "Hi, world! Hi, world!\n",
      "zbi, banana, cherry\n"
     ]
    }
   ],
   "source": [
    "original_string = \"Hello, world! Hello, world!\"\n",
    "new_string = original_string.replace(\"Hello\", \"Hi\")\n",
    "print(new_string)\n",
    "\n",
    "original_list = \"apple, banana, cherry\"\n",
    "remplaced_string = original_list.replace(\"apple\",\"zbi\")\n",
    "print(remplaced_string)\n"
   ]
  },
  {
   "cell_type": "code",
   "execution_count": 49,
   "metadata": {},
   "outputs": [
    {
     "name": "stdout",
     "output_type": "stream",
     "text": [
      "/Y/o/u/ /g/o/t/ /t/h/e/ /k/i/n/d/ /o/f/ /l/o/v/i/n/g/ /t/h/a/t/ /c/a/n/ /b/e/ /s/o/ /s/m/o/o/t/h/\n"
     ]
    }
   ],
   "source": [
    "with_spaces = \"You got the kind of loving that can be so smooth\"\n",
    "with_underscores = with_spaces.replace('', '/')\n",
    "print(with_underscores)\n",
    "# 'You_got_the_kind_of_loving_that_can_be_so_smooth'"
   ]
  },
  {
   "cell_type": "code",
   "execution_count": 51,
   "metadata": {},
   "outputs": [
    {
     "name": "stdout",
     "output_type": "stream",
     "text": [
      "\n",
      "Nathan Pinchback Toomer, who adopted the name Jean Toomer early in his literary career, was born in Washington, D.C. in 1894. Jean is the son of Nathan Toomer was a mixed-race freedman, born into slavery in 1839 in Chatham County, North Carolina. Jean Toomer is most well known for his first book Cane, which vividly portrays the life of African-Americans in southern farmlands.\n",
      "\n"
     ]
    }
   ],
   "source": [
    "toomer_bio = \\\n",
    "\"\"\"\n",
    "Nathan Pinchback Tomer, who adopted the name Jean Tomer early in his literary career, was born in Washington, D.C. in 1894. Jean is the son of Nathan Tomer was a mixed-race freedman, born into slavery in 1839 in Chatham County, North Carolina. Jean Tomer is most well known for his first book Cane, which vividly portrays the life of African-Americans in southern farmlands.\n",
    "\"\"\"\n",
    "\n",
    "toomer_bio_fixed = toomer_bio.replace(\"Tomer\", \"Toomer\")\n",
    "print(toomer_bio_fixed)"
   ]
  }
 ],
 "metadata": {
  "kernelspec": {
   "display_name": "Python 3",
   "language": "python",
   "name": "python3"
  },
  "language_info": {
   "codemirror_mode": {
    "name": "ipython",
    "version": 3
   },
   "file_extension": ".py",
   "mimetype": "text/x-python",
   "name": "python",
   "nbconvert_exporter": "python",
   "pygments_lexer": "ipython3",
   "version": "3.12.0"
  }
 },
 "nbformat": 4,
 "nbformat_minor": 2
}
