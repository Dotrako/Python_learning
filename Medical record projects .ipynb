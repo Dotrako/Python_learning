{
 "cells": [
  {
   "cell_type": "code",
   "execution_count": 2,
   "metadata": {},
   "outputs": [
    {
     "name": "stdout",
     "output_type": "stream",
     "text": [
      "Average Insurance Cost: 4400.00 dollars\n",
      "The insurance cost for Judith is 1100.00 dollars.\n",
      "The insurance cost for Judith is below average.\n",
      "The insurance cost for Abel is 2200.00 dollars.\n",
      "The insurance cost for Abel is below average.\n",
      "The insurance cost for Tyson is 3300.00 dollars.\n",
      "The insurance cost for Tyson is below average.\n",
      "The insurance cost for Martha is 4400.00 dollars.\n",
      "The insurance cost for Martha is equal to the average.\n",
      "The insurance cost for Beverley is 5500.00 dollars.\n",
      "The insurance cost for Beverley is above average.\n",
      "The insurance cost for David is 6600.00 dollars.\n",
      "The insurance cost for David is above average.\n",
      "The insurance cost for Anabel is 7700.00 dollars.\n",
      "The insurance cost for Anabel is above average.\n",
      "[1100.0, 2200.0, 3300.0000000000005, 4400.0, 5500.0, 6600.000000000001, 7700.000000000001]\n"
     ]
    }
   ],
   "source": [
    "names = [\"Judith\", \"Abel\", \"Tyson\", \"Martha\", \"Beverley\", \"David\", \"Anabel\"]\n",
    "estimated_insurance_costs = [1000.0, 2000.0, 3000.0, 4000.0, 5000.0, 6000.0, 7000.0]\n",
    "actual_insurance_costs = [1100.0, 2200.0, 3300.0, 4400.0, 5500.0, 6600.0, 7700.0]\n",
    "\n",
    "# Calculate the average insurance cost\n",
    "average_cost = sum(actual_insurance_costs) / len(actual_insurance_costs)\n",
    "print(f\"Average Insurance Cost: {average_cost:.2f} dollars\")\n",
    "\n",
    "# Iterate through the names and their insurance costs\n",
    "for name, insurance_cost in zip(names, actual_insurance_costs):\n",
    "    print(f\"The insurance cost for {name} is {insurance_cost:.2f} dollars.\")\n",
    "\n",
    "    if insurance_cost > average_cost:\n",
    "        print(f\"The insurance cost for {name} is above average.\")\n",
    "    elif insurance_cost < average_cost:\n",
    "        print(f\"The insurance cost for {name} is below average.\")\n",
    "    else:\n",
    "        print(f\"The insurance cost for {name} is equal to the average.\")\n",
    "\n",
    "# Calculate updated estimated insurance costs\n",
    "updated_estimated_costs = [cost * 1.1 for cost in estimated_insurance_costs]\n",
    "print(updated_estimated_costs)\n"
   ]
  }
 ],
 "metadata": {
  "kernelspec": {
   "display_name": "Python 3",
   "language": "python",
   "name": "python3"
  },
  "language_info": {
   "codemirror_mode": {
    "name": "ipython",
    "version": 3
   },
   "file_extension": ".py",
   "mimetype": "text/x-python",
   "name": "python",
   "nbconvert_exporter": "python",
   "pygments_lexer": "ipython3",
   "version": "3.12.0"
  }
 },
 "nbformat": 4,
 "nbformat_minor": 2
}
