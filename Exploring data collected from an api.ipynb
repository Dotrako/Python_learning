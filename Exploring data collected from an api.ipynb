{
 "cells": [
  {
   "cell_type": "code",
   "execution_count": 28,
   "metadata": {},
   "outputs": [
    {
     "name": "stdout",
     "output_type": "stream",
     "text": [
      "[['NAME', 'B08303_001E', 'state'], ['Pennsylvania', '5652158', '42'], ['California', '16710195', '06'], ['West Virginia', '697042', '54'], ['Utah', '1378826', '49'], ['New York', '8584828', '36'], ['District of Columbia', '332618', '11'], ['Alaska', '330203', '02'], ['Florida', '8817718', '12'], ['South Carolina', '2174285', '45'], ['North Dakota', '380227', '38'], ['Maine', '608861', '23'], ['Georgia', '4475685', '13'], ['Alabama', '2002359', '01'], ['New Hampshire', '656277', '33'], ['Oregon', '1790252', '41'], ['Wyoming', '267249', '56'], ['Arizona', '2897654', '04'], ['Louisiana', '1917930', '22'], ['Indiana', '2985939', '18'], ['Idaho', '744565', '16'], ['Connecticut', '1641807', '09'], ['Hawaii', '657643', '15'], ['Illinois', '5686627', '17'], ['Massachusetts', '3251466', '25'], ['Texas', '12371575', '48'], ['Montana', '471094', '30'], ['Nebraska', '928064', '31'], ['Ohio', '5163570', '39'], ['Colorado', '2604698', '08'], ['New Jersey', '4016070', '34'], ['Maryland', '2799889', '24'], ['Virginia', '3883690', '51'], ['Vermont', '292982', '50'], ['North Carolina', '4458769', '37'], ['Arkansas', '1238100', '05'], ['Washington', '3302637', '53'], ['Kansas', '1345103', '20'], ['Oklahoma', '1674019', '40'], ['Wisconsin', '2747826', '55'], ['Mississippi', '1193668', '28'], ['Missouri', '2707728', '29'], ['Michigan', '4288646', '26'], ['Rhode Island', '495214', '44'], ['Minnesota', '2654657', '27'], ['Iowa', '1482217', '19'], ['New Mexico', '829659', '35'], ['Nevada', '1321596', '32'], ['Delaware', '419600', '10'], ['Puerto Rico', '969379', '72'], ['Kentucky', '1858458', '21'], ['South Dakota', '411590', '46'], ['Tennessee', '2909026', '47']]\n"
     ]
    }
   ],
   "source": [
    "import requests\n",
    "import csv\n",
    "import pandas\n",
    "import numpy as np\n",
    "import matplotlib.pyplot as plt\n",
    "import seaborn as sns\n",
    "from encodings.aliases import aliases\n",
    "\n",
    "\n",
    "r = requests.get(\"https://api.census.gov/data/2020/acs/acs5?get=NAME,B08303_001E&for=state:*\")\n",
    "r_json = r.json ()\n",
    "print(r_json)\n",
    "\n",
    "with open(\"new_census_api.csv\", mode = \"w\", newline = \"\") as file:\n",
    "    writer = csv.writer(file)\n",
    "    writer.writerows(r_json)\n"
   ]
  },
  {
   "cell_type": "markdown",
   "metadata": {},
   "source": [
    "# Description of Script Output\n",
    "\n",
    "The script makes an HTTP GET request to the U.S. Census Bureau's API to retrieve data from the 2020 American Community Survey (ACS) for states. Specifically, it requests data for the variable \"B08303_001E\" (the total number of workers who commute) and the name of each state.\n",
    "\n",
    "Upon running the script, the following actions occur:\n",
    "\n",
    "1. The `requests` library is used to send an HTTP GET request to the specified API endpoint, which contains the desired data query. The query includes the variables to retrieve (name and B08303_001E) and specifies that data should be retrieved for all states.\n",
    "\n",
    "2. The response from the API is stored in the variable `r`.\n",
    "\n",
    "3. The `r.json` method is called to parse the response data as JSON and store it in the variable `r_json`. This JSON data likely contains an array of arrays, with each inner array representing data for a specific state.\n",
    "\n",
    "4. Finally, the script prints the content of `r_json`.\n",
    "\n",
    "The expected output of the script is a JSON structure containing data from the 2020 ACS, specifically the name of each state and the total number of workers who commute in each state. The format of the output will look like an array of arrays or a list of lists.\n"
   ]
  },
  {
   "cell_type": "code",
   "execution_count": 32,
   "metadata": {},
   "outputs": [
    {
     "name": "stdout",
     "output_type": "stream",
     "text": [
      "       CITY_NAME  B08303_001E  STATE\n",
      "0   Pennsylvania      5652158     42\n",
      "1     California     16710195      6\n",
      "2  West Virginia       697042     54\n",
      "3           Utah      1378826     49\n",
      "4       New York      8584828     36\n"
     ]
    }
   ],
   "source": [
    "# Read the CSV file into a DataFrame\n",
    "census_df = pandas.read_csv(\"new_census_api.csv\")\n",
    "\n",
    "census_df.columns = [\"CITY_NAME\", \"B08303_001E\", \"STATE\"]\n",
    "print(census_df.head())"
   ]
  },
  {
   "cell_type": "markdown",
   "metadata": {},
   "source": [
    "### Reading and Renaming Columns in a Census DataFrame\n",
    "\n",
    "In the following code, we read a CSV file named \"new_census_api.csv\" into a Pandas DataFrame and rename the columns. We then display the first few rows of the DataFrame using the `head()` function."
   ]
  },
  {
   "cell_type": "code",
   "execution_count": 34,
   "metadata": {},
   "outputs": [
    {
     "name": "stdout",
     "output_type": "stream",
     "text": [
      "sucesseful cp861\n",
      "sucesseful iso8859_8\n",
      "sucesseful cp949\n",
      "sucesseful cp1252\n",
      "sucesseful iso2022_jp_2\n",
      "sucesseful cp1256\n",
      "sucesseful latin_1\n",
      "sucesseful mac_latin2\n",
      "sucesseful iso2022_jp_1\n",
      "sucesseful cp850\n",
      "sucesseful ptcp154\n",
      "sucesseful cp855\n",
      "sucesseful shift_jis_2004\n",
      "sucesseful gb18030\n",
      "sucesseful iso2022_jp_ext\n",
      "sucesseful cp857\n",
      "sucesseful iso8859_2\n",
      "sucesseful cp775\n",
      "sucesseful euc_jp\n",
      "sucesseful mac_cyrillic\n",
      "sucesseful cp1258\n",
      "sucesseful cp932\n",
      "sucesseful gbk\n",
      "sucesseful iso2022_jp_3\n",
      "sucesseful cp863\n",
      "sucesseful cp437\n",
      "sucesseful mbcs\n",
      "sucesseful cp1254\n",
      "sucesseful iso8859_16\n",
      "sucesseful mac_iceland\n",
      "sucesseful mac_turkish\n",
      "sucesseful ascii\n",
      "sucesseful iso2022_jp\n",
      "sucesseful iso8859_3\n",
      "sucesseful gb2312\n",
      "sucesseful iso8859_13\n",
      "sucesseful iso8859_5\n",
      "sucesseful shift_jis\n",
      "sucesseful euc_jis_2004\n",
      "sucesseful cp860\n",
      "sucesseful cp1250\n",
      "sucesseful cp862\n",
      "sucesseful cp864\n",
      "sucesseful big5\n",
      "sucesseful cp858\n",
      "sucesseful cp1257\n",
      "sucesseful iso2022_jp_2004\n",
      "sucesseful cp869\n",
      "sucesseful big5hkscs\n",
      "sucesseful kz1048\n",
      "sucesseful cp1255\n",
      "sucesseful euc_jisx0213\n",
      "sucesseful iso8859_15\n",
      "sucesseful iso2022_kr\n",
      "sucesseful iso8859_14\n",
      "sucesseful koi8_r\n",
      "sucesseful iso8859_9\n",
      "sucesseful cp852\n",
      "sucesseful hz\n",
      "sucesseful iso8859_11\n",
      "sucesseful utf_7\n",
      "sucesseful cp1253\n",
      "sucesseful shift_jisx0213\n",
      "sucesseful mac_roman\n",
      "sucesseful iso8859_4\n",
      "sucesseful johab\n",
      "sucesseful euc_kr\n",
      "sucesseful cp865\n",
      "sucesseful cp1125\n",
      "sucesseful utf_8\n",
      "sucesseful iso8859_6\n",
      "sucesseful mac_greek\n",
      "sucesseful tis_620\n",
      "sucesseful cp950\n",
      "sucesseful utf_16_be\n",
      "sucesseful iso8859_7\n",
      "sucesseful hp_roman8\n",
      "sucesseful cp866\n",
      "sucesseful cp1251\n",
      "sucesseful iso8859_10\n",
      "sucesseful utf_16_le\n"
     ]
    }
   ],
   "source": [
    "# we need to find the encodings that work for us\n",
    "alias_values = set(aliases.values())\n",
    "\n",
    "for encoding in set(aliases.values()):\n",
    "    try:\n",
    "        df = pandas.read_csv(\"new_census_api.csv\", nrows=10, encoding=encoding)\n",
    "        print('sucesseful', encoding)\n",
    "    except:\n",
    "        pass"
   ]
  },
  {
   "cell_type": "code",
   "execution_count": 36,
   "metadata": {},
   "outputs": [
    {
     "data": {
      "text/html": [
       "<div>\n",
       "<style scoped>\n",
       "    .dataframe tbody tr th:only-of-type {\n",
       "        vertical-align: middle;\n",
       "    }\n",
       "\n",
       "    .dataframe tbody tr th {\n",
       "        vertical-align: top;\n",
       "    }\n",
       "\n",
       "    .dataframe thead th {\n",
       "        text-align: right;\n",
       "    }\n",
       "</style>\n",
       "<table border=\"1\" class=\"dataframe\">\n",
       "  <thead>\n",
       "    <tr style=\"text-align: right;\">\n",
       "      <th></th>\n",
       "      <th>NAME</th>\n",
       "      <th>B08303_001E</th>\n",
       "      <th>state</th>\n",
       "    </tr>\n",
       "  </thead>\n",
       "  <tbody>\n",
       "    <tr>\n",
       "      <th>0</th>\n",
       "      <td>Pennsylvania</td>\n",
       "      <td>5652158</td>\n",
       "      <td>42</td>\n",
       "    </tr>\n",
       "    <tr>\n",
       "      <th>1</th>\n",
       "      <td>California</td>\n",
       "      <td>16710195</td>\n",
       "      <td>6</td>\n",
       "    </tr>\n",
       "    <tr>\n",
       "      <th>2</th>\n",
       "      <td>West Virginia</td>\n",
       "      <td>697042</td>\n",
       "      <td>54</td>\n",
       "    </tr>\n",
       "    <tr>\n",
       "      <th>3</th>\n",
       "      <td>Utah</td>\n",
       "      <td>1378826</td>\n",
       "      <td>49</td>\n",
       "    </tr>\n",
       "    <tr>\n",
       "      <th>4</th>\n",
       "      <td>New York</td>\n",
       "      <td>8584828</td>\n",
       "      <td>36</td>\n",
       "    </tr>\n",
       "  </tbody>\n",
       "</table>\n",
       "</div>"
      ],
      "text/plain": [
       "            NAME  B08303_001E  state\n",
       "0   Pennsylvania      5652158     42\n",
       "1     California     16710195      6\n",
       "2  West Virginia       697042     54\n",
       "3           Utah      1378826     49\n",
       "4       New York      8584828     36"
      ]
     },
     "execution_count": 36,
     "metadata": {},
     "output_type": "execute_result"
    }
   ],
   "source": [
    "new_census_api = pandas.read_csv(\"new_census_api.csv\", encoding=\"ISO-8859-11\")\n",
    "new_census_api.head()"
   ]
  },
  {
   "cell_type": "code",
   "execution_count": 37,
   "metadata": {},
   "outputs": [
    {
     "data": {
      "text/plain": [
       "(52, 3)"
      ]
     },
     "execution_count": 37,
     "metadata": {},
     "output_type": "execute_result"
    }
   ],
   "source": [
    "new_census_api.shape # 52 rows and 3 columns"
   ]
  },
  {
   "cell_type": "code",
   "execution_count": 38,
   "metadata": {},
   "outputs": [
    {
     "data": {
      "text/plain": [
       "0"
      ]
     },
     "execution_count": 38,
     "metadata": {},
     "output_type": "execute_result"
    }
   ],
   "source": [
    "new_census_api.duplicated().sum() # counting the duplicates rows "
   ]
  },
  {
   "cell_type": "markdown",
   "metadata": {},
   "source": [
    "Exoloring the dataset"
   ]
  },
  {
   "cell_type": "code",
   "execution_count": 39,
   "metadata": {},
   "outputs": [
    {
     "data": {
      "text/html": [
       "<div>\n",
       "<style scoped>\n",
       "    .dataframe tbody tr th:only-of-type {\n",
       "        vertical-align: middle;\n",
       "    }\n",
       "\n",
       "    .dataframe tbody tr th {\n",
       "        vertical-align: top;\n",
       "    }\n",
       "\n",
       "    .dataframe thead th {\n",
       "        text-align: right;\n",
       "    }\n",
       "</style>\n",
       "<table border=\"1\" class=\"dataframe\">\n",
       "  <thead>\n",
       "    <tr style=\"text-align: right;\">\n",
       "      <th></th>\n",
       "      <th>NAME</th>\n",
       "      <th>B08303_001E</th>\n",
       "      <th>state</th>\n",
       "    </tr>\n",
       "  </thead>\n",
       "  <tbody>\n",
       "    <tr>\n",
       "      <th>0</th>\n",
       "      <td>Pennsylvania</td>\n",
       "      <td>5652158</td>\n",
       "      <td>42</td>\n",
       "    </tr>\n",
       "    <tr>\n",
       "      <th>1</th>\n",
       "      <td>California</td>\n",
       "      <td>16710195</td>\n",
       "      <td>6</td>\n",
       "    </tr>\n",
       "    <tr>\n",
       "      <th>2</th>\n",
       "      <td>West Virginia</td>\n",
       "      <td>697042</td>\n",
       "      <td>54</td>\n",
       "    </tr>\n",
       "    <tr>\n",
       "      <th>3</th>\n",
       "      <td>Utah</td>\n",
       "      <td>1378826</td>\n",
       "      <td>49</td>\n",
       "    </tr>\n",
       "    <tr>\n",
       "      <th>4</th>\n",
       "      <td>New York</td>\n",
       "      <td>8584828</td>\n",
       "      <td>36</td>\n",
       "    </tr>\n",
       "  </tbody>\n",
       "</table>\n",
       "</div>"
      ],
      "text/plain": [
       "            NAME  B08303_001E  state\n",
       "0   Pennsylvania      5652158     42\n",
       "1     California     16710195      6\n",
       "2  West Virginia       697042     54\n",
       "3           Utah      1378826     49\n",
       "4       New York      8584828     36"
      ]
     },
     "execution_count": 39,
     "metadata": {},
     "output_type": "execute_result"
    }
   ],
   "source": [
    "new_census_api.head() # checking the begining of the dataframe"
   ]
  },
  {
   "cell_type": "code",
   "execution_count": 40,
   "metadata": {},
   "outputs": [
    {
     "data": {
      "text/html": [
       "<div>\n",
       "<style scoped>\n",
       "    .dataframe tbody tr th:only-of-type {\n",
       "        vertical-align: middle;\n",
       "    }\n",
       "\n",
       "    .dataframe tbody tr th {\n",
       "        vertical-align: top;\n",
       "    }\n",
       "\n",
       "    .dataframe thead th {\n",
       "        text-align: right;\n",
       "    }\n",
       "</style>\n",
       "<table border=\"1\" class=\"dataframe\">\n",
       "  <thead>\n",
       "    <tr style=\"text-align: right;\">\n",
       "      <th></th>\n",
       "      <th>NAME</th>\n",
       "      <th>B08303_001E</th>\n",
       "      <th>state</th>\n",
       "    </tr>\n",
       "  </thead>\n",
       "  <tbody>\n",
       "    <tr>\n",
       "      <th>47</th>\n",
       "      <td>Delaware</td>\n",
       "      <td>419600</td>\n",
       "      <td>10</td>\n",
       "    </tr>\n",
       "    <tr>\n",
       "      <th>48</th>\n",
       "      <td>Puerto Rico</td>\n",
       "      <td>969379</td>\n",
       "      <td>72</td>\n",
       "    </tr>\n",
       "    <tr>\n",
       "      <th>49</th>\n",
       "      <td>Kentucky</td>\n",
       "      <td>1858458</td>\n",
       "      <td>21</td>\n",
       "    </tr>\n",
       "    <tr>\n",
       "      <th>50</th>\n",
       "      <td>South Dakota</td>\n",
       "      <td>411590</td>\n",
       "      <td>46</td>\n",
       "    </tr>\n",
       "    <tr>\n",
       "      <th>51</th>\n",
       "      <td>Tennessee</td>\n",
       "      <td>2909026</td>\n",
       "      <td>47</td>\n",
       "    </tr>\n",
       "  </tbody>\n",
       "</table>\n",
       "</div>"
      ],
      "text/plain": [
       "            NAME  B08303_001E  state\n",
       "47      Delaware       419600     10\n",
       "48   Puerto Rico       969379     72\n",
       "49      Kentucky      1858458     21\n",
       "50  South Dakota       411590     46\n",
       "51     Tennessee      2909026     47"
      ]
     },
     "execution_count": 40,
     "metadata": {},
     "output_type": "execute_result"
    }
   ],
   "source": [
    "new_census_api.tail() # checking the tail of the dataframe"
   ]
  },
  {
   "cell_type": "code",
   "execution_count": 52,
   "metadata": {},
   "outputs": [
    {
     "data": {
      "text/html": [
       "<div>\n",
       "<style scoped>\n",
       "    .dataframe tbody tr th:only-of-type {\n",
       "        vertical-align: middle;\n",
       "    }\n",
       "\n",
       "    .dataframe tbody tr th {\n",
       "        vertical-align: top;\n",
       "    }\n",
       "\n",
       "    .dataframe thead th {\n",
       "        text-align: right;\n",
       "    }\n",
       "</style>\n",
       "<table border=\"1\" class=\"dataframe\">\n",
       "  <thead>\n",
       "    <tr style=\"text-align: right;\">\n",
       "      <th></th>\n",
       "      <th>NAME</th>\n",
       "      <th>B08303_001E</th>\n",
       "      <th>state</th>\n",
       "    </tr>\n",
       "  </thead>\n",
       "  <tbody>\n",
       "    <tr>\n",
       "      <th>0</th>\n",
       "      <td>Pennsylvania</td>\n",
       "      <td>5652158</td>\n",
       "      <td>42</td>\n",
       "    </tr>\n",
       "    <tr>\n",
       "      <th>1</th>\n",
       "      <td>California</td>\n",
       "      <td>16710195</td>\n",
       "      <td>6</td>\n",
       "    </tr>\n",
       "    <tr>\n",
       "      <th>2</th>\n",
       "      <td>West Virginia</td>\n",
       "      <td>697042</td>\n",
       "      <td>54</td>\n",
       "    </tr>\n",
       "    <tr>\n",
       "      <th>3</th>\n",
       "      <td>Utah</td>\n",
       "      <td>1378826</td>\n",
       "      <td>49</td>\n",
       "    </tr>\n",
       "    <tr>\n",
       "      <th>...</th>\n",
       "      <td>...</td>\n",
       "      <td>...</td>\n",
       "      <td>...</td>\n",
       "    </tr>\n",
       "    <tr>\n",
       "      <th>48</th>\n",
       "      <td>Puerto Rico</td>\n",
       "      <td>969379</td>\n",
       "      <td>72</td>\n",
       "    </tr>\n",
       "    <tr>\n",
       "      <th>49</th>\n",
       "      <td>Kentucky</td>\n",
       "      <td>1858458</td>\n",
       "      <td>21</td>\n",
       "    </tr>\n",
       "    <tr>\n",
       "      <th>50</th>\n",
       "      <td>South Dakota</td>\n",
       "      <td>411590</td>\n",
       "      <td>46</td>\n",
       "    </tr>\n",
       "    <tr>\n",
       "      <th>51</th>\n",
       "      <td>Tennessee</td>\n",
       "      <td>2909026</td>\n",
       "      <td>47</td>\n",
       "    </tr>\n",
       "  </tbody>\n",
       "</table>\n",
       "<p>52 rows × 3 columns</p>\n",
       "</div>"
      ],
      "text/plain": [
       "             NAME  B08303_001E  state\n",
       "0    Pennsylvania      5652158     42\n",
       "1      California     16710195      6\n",
       "2   West Virginia       697042     54\n",
       "3            Utah      1378826     49\n",
       "..            ...          ...    ...\n",
       "48    Puerto Rico       969379     72\n",
       "49       Kentucky      1858458     21\n",
       "50   South Dakota       411590     46\n",
       "51      Tennessee      2909026     47\n",
       "\n",
       "[52 rows x 3 columns]"
      ]
     },
     "execution_count": 52,
     "metadata": {},
     "output_type": "execute_result"
    }
   ],
   "source": [
    "pandas.options.display.max_rows = 8\n",
    "new_census_api"
   ]
  },
  {
   "cell_type": "code",
   "execution_count": 53,
   "metadata": {},
   "outputs": [
    {
     "name": "stdout",
     "output_type": "stream",
     "text": [
      "<class 'pandas.core.frame.DataFrame'>\n",
      "RangeIndex: 52 entries, 0 to 51\n",
      "Data columns (total 3 columns):\n",
      " #   Column       Non-Null Count  Dtype \n",
      "---  ------       --------------  ----- \n",
      " 0   NAME         52 non-null     object\n",
      " 1   B08303_001E  52 non-null     int64 \n",
      " 2   state        52 non-null     int64 \n",
      "dtypes: int64(2), object(1)\n",
      "memory usage: 1.3+ KB\n"
     ]
    }
   ],
   "source": [
    "new_census_api.info()"
   ]
  },
  {
   "cell_type": "code",
   "execution_count": 54,
   "metadata": {},
   "outputs": [
    {
     "data": {
      "text/html": [
       "<div>\n",
       "<style scoped>\n",
       "    .dataframe tbody tr th:only-of-type {\n",
       "        vertical-align: middle;\n",
       "    }\n",
       "\n",
       "    .dataframe tbody tr th {\n",
       "        vertical-align: top;\n",
       "    }\n",
       "\n",
       "    .dataframe thead th {\n",
       "        text-align: right;\n",
       "    }\n",
       "</style>\n",
       "<table border=\"1\" class=\"dataframe\">\n",
       "  <thead>\n",
       "    <tr style=\"text-align: right;\">\n",
       "      <th></th>\n",
       "      <th>B08303_001E</th>\n",
       "      <th>state</th>\n",
       "    </tr>\n",
       "  </thead>\n",
       "  <tbody>\n",
       "    <tr>\n",
       "      <th>count</th>\n",
       "      <td>5.200000e+01</td>\n",
       "      <td>52.000000</td>\n",
       "    </tr>\n",
       "    <tr>\n",
       "      <th>mean</th>\n",
       "      <td>2.759268e+06</td>\n",
       "      <td>29.788462</td>\n",
       "    </tr>\n",
       "    <tr>\n",
       "      <th>std</th>\n",
       "      <td>3.110342e+06</td>\n",
       "      <td>16.774557</td>\n",
       "    </tr>\n",
       "    <tr>\n",
       "      <th>min</th>\n",
       "      <td>2.672490e+05</td>\n",
       "      <td>1.000000</td>\n",
       "    </tr>\n",
       "    <tr>\n",
       "      <th>25%</th>\n",
       "      <td>7.326842e+05</td>\n",
       "      <td>16.750000</td>\n",
       "    </tr>\n",
       "    <tr>\n",
       "      <th>50%</th>\n",
       "      <td>1.824355e+06</td>\n",
       "      <td>29.500000</td>\n",
       "    </tr>\n",
       "    <tr>\n",
       "      <th>75%</th>\n",
       "      <td>3.264259e+06</td>\n",
       "      <td>42.500000</td>\n",
       "    </tr>\n",
       "    <tr>\n",
       "      <th>max</th>\n",
       "      <td>1.671020e+07</td>\n",
       "      <td>72.000000</td>\n",
       "    </tr>\n",
       "  </tbody>\n",
       "</table>\n",
       "</div>"
      ],
      "text/plain": [
       "        B08303_001E      state\n",
       "count  5.200000e+01  52.000000\n",
       "mean   2.759268e+06  29.788462\n",
       "std    3.110342e+06  16.774557\n",
       "min    2.672490e+05   1.000000\n",
       "25%    7.326842e+05  16.750000\n",
       "50%    1.824355e+06  29.500000\n",
       "75%    3.264259e+06  42.500000\n",
       "max    1.671020e+07  72.000000"
      ]
     },
     "execution_count": 54,
     "metadata": {},
     "output_type": "execute_result"
    }
   ],
   "source": [
    "new_census_api.describe()"
   ]
  },
  {
   "cell_type": "code",
   "execution_count": 55,
   "metadata": {},
   "outputs": [
    {
     "data": {
      "text/html": [
       "<div>\n",
       "<style scoped>\n",
       "    .dataframe tbody tr th:only-of-type {\n",
       "        vertical-align: middle;\n",
       "    }\n",
       "\n",
       "    .dataframe tbody tr th {\n",
       "        vertical-align: top;\n",
       "    }\n",
       "\n",
       "    .dataframe thead th {\n",
       "        text-align: right;\n",
       "    }\n",
       "</style>\n",
       "<table border=\"1\" class=\"dataframe\">\n",
       "  <thead>\n",
       "    <tr style=\"text-align: right;\">\n",
       "      <th></th>\n",
       "      <th>NAME</th>\n",
       "    </tr>\n",
       "  </thead>\n",
       "  <tbody>\n",
       "    <tr>\n",
       "      <th>count</th>\n",
       "      <td>52</td>\n",
       "    </tr>\n",
       "    <tr>\n",
       "      <th>unique</th>\n",
       "      <td>52</td>\n",
       "    </tr>\n",
       "    <tr>\n",
       "      <th>top</th>\n",
       "      <td>Pennsylvania</td>\n",
       "    </tr>\n",
       "    <tr>\n",
       "      <th>freq</th>\n",
       "      <td>1</td>\n",
       "    </tr>\n",
       "  </tbody>\n",
       "</table>\n",
       "</div>"
      ],
      "text/plain": [
       "                NAME\n",
       "count             52\n",
       "unique            52\n",
       "top     Pennsylvania\n",
       "freq               1"
      ]
     },
     "execution_count": 55,
     "metadata": {},
     "output_type": "execute_result"
    }
   ],
   "source": [
    "new_census_api.describe(include='object')"
   ]
  }
 ],
 "metadata": {
  "kernelspec": {
   "display_name": "Python 3",
   "language": "python",
   "name": "python3"
  },
  "language_info": {
   "codemirror_mode": {
    "name": "ipython",
    "version": 3
   },
   "file_extension": ".py",
   "mimetype": "text/x-python",
   "name": "python",
   "nbconvert_exporter": "python",
   "pygments_lexer": "ipython3",
   "version": "3.12.0"
  }
 },
 "nbformat": 4,
 "nbformat_minor": 2
}
