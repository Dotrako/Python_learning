{
 "cells": [
  {
   "cell_type": "code",
   "execution_count": null,
   "metadata": {},
   "outputs": [],
   "source": [
    "import pandas\n",
    "\n",
    "var1 = pandas.read_csv(\"Census_data.csv\")\n",
    "#preview DataFrame\n",
    "print(var1.head())"
   ]
  },
  {
   "cell_type": "code",
   "execution_count": 6,
   "metadata": {},
   "outputs": [
    {
     "name": "stdout",
     "output_type": "stream",
     "text": [
      "                                                NAME  B08303_001E  state  \\\n",
      "0  Big Valley Joint Unified School District, Cali...          464      6   \n",
      "1          Biggs Unified School District, California         1388      6   \n",
      "2  Black Oak Mine Unified School District, Califo...         4992      6   \n",
      "3         Bonita Unified School District, California        26256      6   \n",
      "4  Borrego Springs Unified School District, Calif...          462      6   \n",
      "\n",
      "   school district (unified)  \n",
      "0                       5010  \n",
      "1                       5040  \n",
      "2                       5240  \n",
      "3                       5610  \n",
      "4                       5700  \n"
     ]
    }
   ],
   "source": [
    "import pandas as pd\n",
    "\n",
    "# Load the CSV data into a DataFrame with the correct encoding\n",
    "var1 = pd.read_csv(\"Census_data.csv\", encoding='ISO-8859-1')\n",
    "\n",
    "# Print the first few rows of the DataFrame\n",
    "print(var1.head())\n"
   ]
  },
  {
   "cell_type": "code",
   "execution_count": 5,
   "metadata": {},
   "outputs": [
    {
     "name": "stdout",
     "output_type": "stream",
     "text": [
      "Failed to load with encoding: utf-8\n",
      "Successfully loaded with encoding: ISO-8859-1\n",
      "                                                NAME  B08303_001E  state  \\\n",
      "0  Big Valley Joint Unified School District, Cali...          464      6   \n",
      "1          Biggs Unified School District, California         1388      6   \n",
      "2  Black Oak Mine Unified School District, Califo...         4992      6   \n",
      "3         Bonita Unified School District, California        26256      6   \n",
      "4  Borrego Springs Unified School District, Calif...          462      6   \n",
      "\n",
      "   school district (unified)  \n",
      "0                       5010  \n",
      "1                       5040  \n",
      "2                       5240  \n",
      "3                       5610  \n",
      "4                       5700  \n"
     ]
    }
   ],
   "source": [
    "import pandas as pd\n",
    "\n",
    "# List of encodings to try\n",
    "encodings_to_try = ['utf-8', 'ISO-8859-1', 'cp1252']\n",
    "\n",
    "for encoding in encodings_to_try:\n",
    "    try:\n",
    "        var1 = pd.read_csv(\"Census_data.csv\", encoding=encoding)\n",
    "        print(f\"Successfully loaded with encoding: {encoding}\")\n",
    "        break  # If successful, exit the loop\n",
    "    except UnicodeDecodeError:\n",
    "        print(f\"Failed to load with encoding: {encoding}\")\n",
    "\n",
    "# Print the first few rows of the DataFrame\n",
    "print(var1.head())\n"
   ]
  }
 ],
 "metadata": {
  "kernelspec": {
   "display_name": "Python 3",
   "language": "python",
   "name": "python3"
  },
  "language_info": {
   "codemirror_mode": {
    "name": "ipython",
    "version": 3
   },
   "file_extension": ".py",
   "mimetype": "text/x-python",
   "name": "python",
   "nbconvert_exporter": "python",
   "pygments_lexer": "ipython3",
   "version": "3.12.0"
  }
 },
 "nbformat": 4,
 "nbformat_minor": 2
}
