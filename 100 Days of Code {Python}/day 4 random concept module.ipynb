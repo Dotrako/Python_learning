{
 "cells": [
  {
   "cell_type": "code",
   "execution_count": 3,
   "metadata": {},
   "outputs": [
    {
     "name": "stdout",
     "output_type": "stream",
     "text": [
      "None\n"
     ]
    }
   ],
   "source": [
    "import random\n",
    "\n",
    "# Set the seed to 42\n",
    "print(random.seed(42))\n"
   ]
  },
  {
   "cell_type": "code",
   "execution_count": 4,
   "metadata": {},
   "outputs": [],
   "source": [
    "import random\n",
    "\n",
    "# Set the seed to 42\n",
    "random.seed(42)\n",
    "\n",
    "# Generate a random integer between 1 and 10\n",
    "random_number = random.randint(1, 10)\n"
   ]
  },
  {
   "cell_type": "code",
   "execution_count": 8,
   "metadata": {},
   "outputs": [
    {
     "name": "stdout",
     "output_type": "stream",
     "text": [
      "2\n"
     ]
    }
   ],
   "source": [
    "import random\n",
    "\n",
    "# Set the seed to 42\n",
    "random.seed(42)\n",
    "\n",
    "# Generate a random integer between 1 and 10\n",
    "random_number = random.randint(1, 10)\n",
    "\n",
    "# Display the result\n",
    "print(random_number)\n"
   ]
  },
  {
   "cell_type": "code",
   "execution_count": 12,
   "metadata": {},
   "outputs": [
    {
     "name": "stdout",
     "output_type": "stream",
     "text": [
      "0.13436424411240122\n"
     ]
    }
   ],
   "source": [
    "import random\n",
    "\n",
    "random.seed(1)\n",
    "print(random.random())\n",
    "\n",
    "#the generator creates a random number based on the seed value, so if the seed value is 10, you will always get 0.5714025946899135 as the first random number.\n"
   ]
  },
  {
   "cell_type": "code",
   "execution_count": 26,
   "metadata": {},
   "outputs": [
    {
     "name": "stdout",
     "output_type": "stream",
     "text": [
      "0.22169166627303505\n",
      "0.43788759365057206\n"
     ]
    }
   ],
   "source": [
    "import random\n",
    "\n",
    "# Generate a random floating-point number between 0.0 and 1.0\n",
    "random_number_1 = random.random()\n",
    "print(random_number_1)\n",
    "\n",
    "# Generate another random floating-point number\n",
    "random_number_2 = random.random()\n",
    "print(random_number_2)\n"
   ]
  },
  {
   "cell_type": "code",
   "execution_count": 4,
   "metadata": {},
   "outputs": [
    {
     "name": "stdout",
     "output_type": "stream",
     "text": [
      "1.0\n"
     ]
    }
   ],
   "source": [
    "import random\n",
    "x = float(random.randint(0,1\n",
    "                         \n",
    "                         ))\n",
    "print(x)\n"
   ]
  },
  {
   "cell_type": "markdown",
   "metadata": {},
   "source": [
    "# Exercice 1"
   ]
  },
  {
   "cell_type": "code",
   "execution_count": 11,
   "metadata": {},
   "outputs": [
    {
     "name": "stdout",
     "output_type": "stream",
     "text": [
      "Hello to our coin game\n",
      "Heads\n"
     ]
    }
   ],
   "source": [
    "print(\"Hello to our coin game\")\n",
    "var = input(\"choose Head or Tail!\")\n",
    "\n",
    "import random\n",
    "x = random.randint(0,1)\n",
    "if  x == 1:\n",
    "    print(\"Heads\")\n",
    "else:\n",
    "    print(\"Tails\")"
   ]
  },
  {
   "cell_type": "markdown",
   "metadata": {},
   "source": [
    "# Exercice 2"
   ]
  },
  {
   "cell_type": "code",
   "execution_count": 81,
   "metadata": {},
   "outputs": [
    {
     "name": "stdout",
     "output_type": "stream",
     "text": [
      "3\n",
      "Karim\n"
     ]
    }
   ],
   "source": [
    "friend_list = [\"Amine\", \"Karim\", \"Yassin\"]\n",
    "\n",
    "import random \n",
    "print(len(friend_list))\n",
    "x = random.randint(0,len(friend_list)-1)#\n",
    "\n",
    "\n",
    "print(friend_list[x])"
   ]
  },
  {
   "cell_type": "code",
   "execution_count": null,
   "metadata": {},
   "outputs": [],
   "source": [
    "\n",
    "dirty_dozen = [\"Strawberries\", \"Spinach\", \"Kale\", \"Nectarines\", \"Apples\", \"Grapes\", \"Peaches\", \"Cherries\", \"Pears\", \"Tomatoes\", \"Celery\", \"Potatoes\"]\n",
    "\n",
    "fruits = [\"Strawberries\",\"Nectarines\", \"Apples\",\"Grapes\", \"Peaches\", \"Cherries\"]\n",
    "veggies = [\"Spinach\", \"Kale\", \"Pears\"]"
   ]
  },
  {
   "cell_type": "code",
   "execution_count": 33,
   "metadata": {},
   "outputs": [
    {
     "name": "stdout",
     "output_type": "stream",
     "text": [
      "Hiding your treasure! X marks the spot.\n"
     ]
    },
    {
     "ename": "IndexError",
     "evalue": "list index out of range",
     "output_type": "error",
     "traceback": [
      "\u001b[1;31m---------------------------------------------------------------------------\u001b[0m",
      "\u001b[1;31mIndexError\u001b[0m                                Traceback (most recent call last)",
      "\u001b[1;32mc:\\Users\\laaga\\OneDrive\\Bureau\\learning\\Python\\Scripts\\100 Days of Code {Python}\\day 4 random concept module.ipynb Cell 12\u001b[0m line \u001b[0;36m1\n\u001b[0;32m     <a href='vscode-notebook-cell:/c%3A/Users/laaga/OneDrive/Bureau/learning/Python/Scripts/100%20Days%20of%20Code%20%7BPython%7D/day%204%20random%20concept%20module.ipynb#X14sZmlsZQ%3D%3D?line=9'>10</a>\u001b[0m b \u001b[39m=\u001b[39m \u001b[39mint\u001b[39m(z[\u001b[39m1\u001b[39m])\n\u001b[0;32m     <a href='vscode-notebook-cell:/c%3A/Users/laaga/OneDrive/Bureau/learning/Python/Scripts/100%20Days%20of%20Code%20%7BPython%7D/day%204%20random%20concept%20module.ipynb#X14sZmlsZQ%3D%3D?line=10'>11</a>\u001b[0m a \u001b[39m=\u001b[39m y\u001b[39m.\u001b[39mcount(z[\u001b[39m0\u001b[39m])\n\u001b[1;32m---> <a href='vscode-notebook-cell:/c%3A/Users/laaga/OneDrive/Bureau/learning/Python/Scripts/100%20Days%20of%20Code%20%7BPython%7D/day%204%20random%20concept%20module.ipynb#X14sZmlsZQ%3D%3D?line=12'>13</a>\u001b[0m \u001b[39mmap\u001b[39;49m[b][a] \u001b[39m=\u001b[39m \u001b[39m\"\u001b[39m\u001b[39mX\u001b[39m\u001b[39m\"\u001b[39m\n\u001b[0;32m     <a href='vscode-notebook-cell:/c%3A/Users/laaga/OneDrive/Bureau/learning/Python/Scripts/100%20Days%20of%20Code%20%7BPython%7D/day%204%20random%20concept%20module.ipynb#X14sZmlsZQ%3D%3D?line=14'>15</a>\u001b[0m \u001b[39mprint\u001b[39m(\u001b[39mf\u001b[39m\u001b[39m\"\u001b[39m\u001b[39m{\u001b[39;00mline1\u001b[39m}\u001b[39;00m\u001b[39m\\n\u001b[39;00m\u001b[39m{\u001b[39;00mline2\u001b[39m}\u001b[39;00m\u001b[39m\\n\u001b[39;00m\u001b[39m{\u001b[39;00mline3\u001b[39m}\u001b[39;00m\u001b[39m\"\u001b[39m)\n",
      "\u001b[1;31mIndexError\u001b[0m: list index out of range"
     ]
    }
   ],
   "source": [
    "line1 = [\"⬜️\",\"️⬜️\",\"️⬜️\"]\n",
    "line2 = [\"⬜️\",\"⬜️\",\"️⬜️\"]\n",
    "line3 = [\"⬜️️\",\"⬜️️\",\"⬜️️\"]\n",
    "map = [line1, line2, line3]\n",
    "print(\"Hiding your treasure! X marks the spot.\")\n",
    "\n",
    "z = input()\n",
    "\n",
    "y = \"ABC\"\n",
    "b = int(z[1]) -1\n",
    "a = y.count(z[0])\n",
    "\n",
    "map[b][a] = \"X\"\n",
    "\n",
    "print(f\"{line1}\\n{line2}\\n{line3}\")\n"
   ]
  },
  {
   "cell_type": "code",
   "execution_count": 19,
   "metadata": {},
   "outputs": [
    {
     "name": "stdout",
     "output_type": "stream",
     "text": [
      "B£\n",
      "<class 'str'>\n",
      "B\n",
      "£\n"
     ]
    }
   ],
   "source": [
    "c = input()\n",
    "print(c)\n",
    "print(type(c))\n",
    "print(c[0])\n",
    "print(c[1])"
   ]
  },
  {
   "cell_type": "code",
   "execution_count": 90,
   "metadata": {},
   "outputs": [
    {
     "name": "stdout",
     "output_type": "stream",
     "text": [
      "Hello and Welcome to our Rock, Paper, scissors game!\n"
     ]
    },
    {
     "ename": "IndexError",
     "evalue": "list index out of range",
     "output_type": "error",
     "traceback": [
      "\u001b[1;31m---------------------------------------------------------------------------\u001b[0m",
      "\u001b[1;31mIndexError\u001b[0m                                Traceback (most recent call last)",
      "\u001b[1;32mc:\\Users\\laaga\\OneDrive\\Bureau\\learning\\Python\\Scripts\\100 Days of Code {Python}\\day 4 random concept module.ipynb Cell 14\u001b[0m line \u001b[0;36m3\n\u001b[0;32m     <a href='vscode-notebook-cell:/c%3A/Users/laaga/OneDrive/Bureau/learning/Python/Scripts/100%20Days%20of%20Code%20%7BPython%7D/day%204%20random%20concept%20module.ipynb#X20sZmlsZQ%3D%3D?line=31'>32</a>\u001b[0m cpu_random_choice \u001b[39m=\u001b[39m random\u001b[39m.\u001b[39mrandint(\u001b[39m0\u001b[39m,\u001b[39m2\u001b[39m)\n\u001b[0;32m     <a href='vscode-notebook-cell:/c%3A/Users/laaga/OneDrive/Bureau/learning/Python/Scripts/100%20Days%20of%20Code%20%7BPython%7D/day%204%20random%20concept%20module.ipynb#X20sZmlsZQ%3D%3D?line=32'>33</a>\u001b[0m game_list \u001b[39m=\u001b[39m [rock, paper, scissors]\n\u001b[1;32m---> <a href='vscode-notebook-cell:/c%3A/Users/laaga/OneDrive/Bureau/learning/Python/Scripts/100%20Days%20of%20Code%20%7BPython%7D/day%204%20random%20concept%20module.ipynb#X20sZmlsZQ%3D%3D?line=34'>35</a>\u001b[0m client_choice \u001b[39m=\u001b[39m game_list[choice]\n\u001b[0;32m     <a href='vscode-notebook-cell:/c%3A/Users/laaga/OneDrive/Bureau/learning/Python/Scripts/100%20Days%20of%20Code%20%7BPython%7D/day%204%20random%20concept%20module.ipynb#X20sZmlsZQ%3D%3D?line=35'>36</a>\u001b[0m cpu_choice \u001b[39m=\u001b[39m game_list[cpu_random_choice]\n\u001b[0;32m     <a href='vscode-notebook-cell:/c%3A/Users/laaga/OneDrive/Bureau/learning/Python/Scripts/100%20Days%20of%20Code%20%7BPython%7D/day%204%20random%20concept%20module.ipynb#X20sZmlsZQ%3D%3D?line=36'>37</a>\u001b[0m \u001b[39mif\u001b[39;00m client_choice \u001b[39m!=\u001b[39m game_list:\n",
      "\u001b[1;31mIndexError\u001b[0m: list index out of range"
     ]
    }
   ],
   "source": [
    "rock = '''\n",
    "    _______\n",
    "---'   ____)\n",
    "      (_____)\n",
    "      (_____)\n",
    "      (____)\n",
    "---.__(___)\n",
    "'''\n",
    "\n",
    "paper = '''\n",
    "    _______\n",
    "---'   ____)____\n",
    "          ______)\n",
    "          _______)\n",
    "         _______)\n",
    "---.__________)\n",
    "'''\n",
    "\n",
    "scissors = '''\n",
    "    _______\n",
    "---'   ____)____\n",
    "          ______)\n",
    "       __________)\n",
    "      (____)\n",
    "---.__(___)\n",
    "'''\n",
    "\n",
    "#Write your code below this line 👇\n",
    "print(\"Hello and Welcome to our Rock, Paper, scissors game!\")\n",
    "choice = int(input(\"Choose 0 for Rock, 1 for paper and 2 for scissors\"))\n",
    "\n",
    "import random\n",
    "cpu_random_choice = random.randint(0,2)\n",
    "game_list = [rock, paper, scissors]\n",
    "\n",
    "client_choice = game_list[choice]\n",
    "cpu_choice = game_list[cpu_random_choice]\n",
    "if client_choice != game_list:\n",
    "    print(\"You have chosen a number out of range\")  \n",
    "    client_choice = int(input(\"Choose another number 0 for Rock, 1 for paper, 2 for scissors\"))\n",
    "elif client_choice == rock and cpu_choice == rock:\n",
    "    print(f\"Here's your choice:\\n{client_choice}\\nThe cpu choosed\\n{cpu_choice} \")\n",
    "    print(\"This a draw situation\")\n",
    "elif client_choice == rock and cpu_choice == paper :\n",
    "    print(f\"Here's your choice:\\n{client_choice}\\nThe cpu choosed\\n{cpu_choice} \")\n",
    "    print(\"Unfortanetly you have lost\")\n",
    "elif client_choice == rock and cpu_choice == scissors :\n",
    "    print(f\"Here's your choice:\\n{client_choice}\\nThe cpu choosed\\n{cpu_choice} \")\n",
    "    print(\"Congrats you have won\")\n",
    "elif client_choice == paper and cpu_choice == rock:\n",
    "    print(f\"Here's your choice:\\n{client_choice}\\nThe cpu choosed\\n{cpu_choice} \")\n",
    "    print(\"Congrats you have won\")\n",
    "elif client_choice == paper and cpu_choice == paper :\n",
    "    print(f\"Here's your choice:\\n{client_choice}\\nThe cpu choosed\\n{cpu_choice} \")\n",
    "    print(\"This a draw situation\")\n",
    "elif client_choice == paper and cpu_choice == scissors :\n",
    "    print(f\"Here's your choice:\\n{client_choice}\\nThe cpu choosed\\n{cpu_choice} \")\n",
    "    print(\"Unfortanetly you have lost\")\n",
    "elif client_choice == scissors and cpu_choice == rock:\n",
    "    print(f\"Here's your choice:\\n{client_choice}\\nThe cpu choosed\\n{cpu_choice} \")\n",
    "    print(\"Unfortanetly you have lost\")\n",
    "elif client_choice == scissors and cpu_choice == paper :\n",
    "    print(f\"Here's your choice:\\n{client_choice}\\nThe cpu choosed\\n{cpu_choice} \")\n",
    "    print(\"Congrats you have won\")\n",
    "elif client_choice == scissors and cpu_choice == scissors :\n",
    "    print(f\"Here's your choice:\\n{client_choice}\\nThe cpu choosed\\n{cpu_choice} \")\n",
    "    print(\"This a draw situation\")\n",
    "\n",
    "\n"
   ]
  },
  {
   "cell_type": "code",
   "execution_count": 62,
   "metadata": {},
   "outputs": [
    {
     "name": "stdout",
     "output_type": "stream",
     "text": [
      "1.0\n"
     ]
    }
   ],
   "source": [
    "import random\n",
    "z = float(random.randint(0,2))\n",
    "print(z)"
   ]
  }
 ],
 "metadata": {
  "kernelspec": {
   "display_name": "Python 3",
   "language": "python",
   "name": "python3"
  },
  "language_info": {
   "codemirror_mode": {
    "name": "ipython",
    "version": 3
   },
   "file_extension": ".py",
   "mimetype": "text/x-python",
   "name": "python",
   "nbconvert_exporter": "python",
   "pygments_lexer": "ipython3",
   "version": "3.12.0"
  }
 },
 "nbformat": 4,
 "nbformat_minor": 2
}
