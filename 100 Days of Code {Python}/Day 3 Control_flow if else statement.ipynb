{
 "cells": [
  {
   "cell_type": "code",
   "execution_count": 85,
   "metadata": {},
   "outputs": [
    {
     "name": "stdout",
     "output_type": "stream",
     "text": [
      "Hello and welcome to our roller coaster playground!\n",
      "you are allowed to enter the roller coaster and you ll have free ride\n"
     ]
    }
   ],
   "source": [
    "print(\"Hello and welcome to our roller coaster playground!\")\n",
    "height = float(input(\"what is your height? \"))\n",
    "age = float(input(\"How old are you!\"))\n",
    "if height >= 120 and age >= 45 and age < 55:\n",
    "    print(\"you are allowed to enter the roller coaster and you ll have free ride\")\n",
    "elif height >= 120 and age >= 18:\n",
    "    print(\"you are allowed to enter the roller coaster but you ll have to pay 12$\")\n",
    "elif height >= 120 and age < 18 and age >= 12:\n",
    "    print(\"you are allowed to enter the roller coaster and you ll have to only pay 7$\")\n",
    "elif height >= 120 and age < 12:\n",
    "    print(\"you are allowed to enter the roller coaster and you ll have to pay only 5$\")\n",
    "\n",
    "else:\n",
    "    print(\"sorry you are not allowed to enter the roller coaster\")"
   ]
  },
  {
   "cell_type": "code",
   "execution_count": 36,
   "metadata": {},
   "outputs": [
    {
     "name": "stdout",
     "output_type": "stream",
     "text": [
      "Hello and welcom to our bmi calculator program\n",
      "Your bmi is 16.141528925619834and its nice to have abs son\n"
     ]
    }
   ],
   "source": [
    "print(\"Hello and welcom to our bmi calculator program\")\n",
    "height = float(input(\"what is your height in cm\"))\n",
    "weight = float(input(\"what is your weight in kg\"))\n",
    "\n",
    "bmi = (weight)/(height/100)**2\n",
    "\n",
    "if bmi >= 35:\n",
    "    print(f\"Your bmi is {bmi} and you are clinacly obese Lose some fat asshole\")\n",
    "elif bmi>= 30 and bmi < 35:\n",
    "    print(f\"Your bmi is {bmi} and you are obese continue on your diet and stay hard\")\n",
    "elif bmi >= 25 and bmi < 30:\n",
    "    print(f\"Your bmi is {bmi} and you are slighthly over wait keep pushing son stay focus\")\n",
    "elif bmi >= 18.5 and bmi < 25:\n",
    "    print(f\"Your bmi is {bmi} and you are good son lets go abs are near\")\n",
    "else:\n",
    "    print(f\"Your bmi is {bmi}and its nice to have abs son\")\n"
   ]
  },
  {
   "cell_type": "code",
   "execution_count": 71,
   "metadata": {},
   "outputs": [
    {
     "name": "stdout",
     "output_type": "stream",
     "text": [
      "Hello and welcome to leap year finder program\n",
      "2100 is a normal year\n"
     ]
    }
   ],
   "source": [
    "print(\"Hello and welcome to leap year finder program\")\n",
    "year = int(input(\"Please input the year you wanna calculate\"))\n",
    "\n",
    "if year % 4 == 0 and year % 100 != 0 or year % 400 == 0 :\n",
    "    print(f\"{year} is a leap year\")\n",
    "else:\n",
    "    print(f\"{year} is a normal year\")"
   ]
  },
  {
   "cell_type": "code",
   "execution_count": 78,
   "metadata": {},
   "outputs": [
    {
     "name": "stdout",
     "output_type": "stream",
     "text": [
      "Hello and welcome to our pizza shop\n",
      "Your bill is 28 \n"
     ]
    }
   ],
   "source": [
    "#Pizza program \n",
    "print(\"Hello and welcome to our pizza shop\")\n",
    "size = input(\"Which size you would like to have S, M, L\")\n",
    "peperoni = input(\"for topping would you like to have peperoni? Y or N\")\n",
    "cheese = input(\"would you like any extra cheese? Y or N\")\n",
    "bill = 0\n",
    "if size == \"S\":\n",
    "    bill = 15\n",
    "    if peperoni == \"Y\":\n",
    "        bill = 17\n",
    "        if cheese == \"Y\":\n",
    "            bill = 18\n",
    "            print(f\"Your bill is {bill} \")\n",
    "        else:\n",
    "            bill = 17\n",
    "            print(f\"Your bill is {bill} \")\n",
    "\n",
    "    else:\n",
    "        bill = 15\n",
    "        if cheese == \"Y\":\n",
    "            bill = 16\n",
    "            print(f\"Your bill is {bill} \")\n",
    "        else:\n",
    "            bill = 15\n",
    "            print(f\"Your bill is {bill} \")\n",
    "if size == \"M\":\n",
    "    bill = 20\n",
    "    if peperoni == \"Y\":\n",
    "        bill = 22\n",
    "        if cheese == \"Y\":\n",
    "            bill = 23\n",
    "            print(f\"Your bill is {bill} \")\n",
    "        else:\n",
    "            bill = 22\n",
    "            print(f\"Your bill is {bill} \")\n",
    "    else:\n",
    "        bill = 20\n",
    "        if cheese == \"Y\":\n",
    "            bill = 21\n",
    "            print(f\"Your bill is {bill} \")\n",
    "        else:\n",
    "            bill = 20\n",
    "            print(f\"Your bill is {bill} \")\n",
    "if size == \"L\":\n",
    "    bill = 25\n",
    "    if peperoni == \"Y\":\n",
    "        bill = 28\n",
    "        if cheese == \"Y\":\n",
    "            bill = 29\n",
    "            print(f\"Your bill is {bill} \")\n",
    "        else:\n",
    "            bill = 28\n",
    "            print(f\"Your bill is {bill} \")\n",
    "    else:\n",
    "        bill == 25\n",
    "        if cheese == \"Y\":\n",
    "            bill = 26\n",
    "            print(f\"Your bill is {bill} \")\n",
    "        else:\n",
    "            bill = 25\n",
    "            print(f\"Your bill is {bill} \")"
   ]
  },
  {
   "cell_type": "code",
   "execution_count": null,
   "metadata": {},
   "outputs": [],
   "source": [
    "bill = 0\n",
    "if size == \"S\":\n",
    "  bill += 15\n",
    "elif size == \"M\":\n",
    "  bill += 20\n",
    "else:\n",
    "  bill += 25\n",
    "\n",
    "if add_pepperoni == \"Y\":\n",
    "  if size == \"S\":\n",
    "    bill += 2\n",
    "  else:\n",
    "    bill += 3\n",
    "\n",
    "if extra_cheese == \"Y\":\n",
    "  bill += 1\n",
    "\n",
    "print(f\"Your final bill is: ${bill}.\")"
   ]
  },
  {
   "cell_type": "code",
   "execution_count": 28,
   "metadata": {},
   "outputs": [
    {
     "name": "stdout",
     "output_type": "stream",
     "text": [
      "welcom to the love compatibility calculator program\n",
      "your score is 34\n"
     ]
    }
   ],
   "source": [
    "print(\"welcom to the love compatibility calculator program\")\n",
    "\n",
    "name1 = input(\"Please enter your name\")\n",
    "name2 = input(\"Please enter the other person's name\")\n",
    "\n",
    "combined_names = name1 + name2\n",
    "lowered_combined_names = combined_names.lower()\n",
    "\n",
    "t = lowered_combined_names.count(\"t\")\n",
    "r = lowered_combined_names.count(\"r\")\n",
    "u = lowered_combined_names.count(\"u\")\n",
    "e1 = lowered_combined_names.count(\"e\")\n",
    "\n",
    "l = lowered_combined_names.count(\"l\")\n",
    "o = lowered_combined_names.count(\"o\")\n",
    "v = lowered_combined_names.count(\"v\")\n",
    "e2 = lowered_combined_names.count(\"e\")\n",
    "\n",
    "first_digit = t + r + u + e1\n",
    "second_digit = l + o + v + e2\n",
    "\n",
    "total = str(first_digit) + str(second_digit)\n",
    "\n",
    "if total > \"90\" or total < \"10\":\n",
    "    print(f\"your score is {total}, you go together like coke and mentos\")\n",
    "elif total >= \"40\" and total <= \"50\":\n",
    "    print(f\"your score is {total}, you are alright together\")\n",
    "else:\n",
    "    print(f\"your score is {total}\")\n",
    "\n",
    "\n"
   ]
  },
  {
   "cell_type": "code",
   "execution_count": 14,
   "metadata": {},
   "outputs": [
    {
     "name": "stdout",
     "output_type": "stream",
     "text": [
      "The love score between amine and chaimaa is 10\n"
     ]
    }
   ],
   "source": [
    "# Get names from the user\n",
    "name1 = input(\"Enter the first person's name: \")\n",
    "name2 = input(\"Enter the second person's name: \")\n",
    "\n",
    "# Define the TRUE letters\n",
    "true_letters = \"TRUE\"\n",
    "\n",
    "# Count occurrences of TRUE letters in each name\n",
    "count1 = sum(name1.upper().count(letter) for letter in true_letters)\n",
    "count2 = sum(name2.upper().count(letter) for letter in true_letters)\n",
    "\n",
    "# Calculate total love score\n",
    "love_score = int(str(count1) + str(count2))\n",
    "\n",
    "# Display the love score\n",
    "print(f\"The love score between {name1} and {name2} is {love_score}\")\n"
   ]
  },
  {
   "cell_type": "markdown",
   "metadata": {},
   "source": [
    "# treasure game"
   ]
  },
  {
   "cell_type": "code",
   "execution_count": 36,
   "metadata": {},
   "outputs": [
    {
     "name": "stderr",
     "output_type": "stream",
     "text": [
      "<>:1: SyntaxWarning: invalid escape sequence '\\`'\n",
      "<>:1: SyntaxWarning: invalid escape sequence '\\`'\n",
      "C:\\Users\\laaga\\AppData\\Local\\Temp\\ipykernel_12324\\3565587089.py:1: SyntaxWarning: invalid escape sequence '\\`'\n",
      "  print('''*******************************************************************************\n"
     ]
    },
    {
     "name": "stdout",
     "output_type": "stream",
     "text": [
      "*******************************************************************************\n",
      "          |                   |                  |                     |\n",
      " _________|________________.=\"\"_;=.______________|_____________________|_______\n",
      "|                   |  ,-\"_,=\"\"     `\"=.|                  |\n",
      "|___________________|__\"=._o`\"-._        `\"=.______________|___________________\n",
      "          |                `\"=._o`\"=._      _`\"=._                     |\n",
      " _________|_____________________:=._o \"=._.\"_.-=\"'\"=.__________________|_______\n",
      "|                   |    __.--\" , ; `\"=._o.\" ,-\"\"\"-._ \".   |\n",
      "|___________________|_._\"  ,. .` ` `` ,  `\"-._\"-._   \". '__|___________________\n",
      "          |           |o`\"=._` , \"` `; .\". ,  \"-._\"-._; ;              |\n",
      " _________|___________| ;`-.o`\"=._; .\" ` '`.\"\\` . \"-._ /_______________|_______\n",
      "|                   | |o;    `\"-.o`\"=._``  '` \" ,__.--o;   |\n",
      "|___________________|_| ;     (#) `-.o `\"=.`_.--\"_o.-; ;___|___________________\n",
      "____/______/______/___|o;._    \"      `\".o|o_.--\"    ;o;____/______/______/____\n",
      "/______/______/______/_\"=._o--._        ; | ;        ; ;/______/______/______/_\n",
      "____/______/______/______/__\"=._o--._   ;o|o;     _._;o;____/______/______/____\n",
      "/______/______/______/______/____\"=._o._; | ;_.--\"o.--\"_/______/______/______/_\n",
      "____/______/______/______/______/_____\"=.o|o_.--\"\"___/______/______/______/____\n",
      "/______/______/______/______/______/______/______/______/______/______/_____ /\n",
      "*******************************************************************************\n",
      "\n",
      "Welcome to Treasure Island.\n",
      "Your mission is to find the treasure.\n",
      "congrats you have passed the first step\n",
      "Congrats you passed the second step\n",
      "You win\n"
     ]
    }
   ],
   "source": [
    "print('''*******************************************************************************\n",
    "          |                   |                  |                     |\n",
    " _________|________________.=\"\"_;=.______________|_____________________|_______\n",
    "|                   |  ,-\"_,=\"\"     `\"=.|                  |\n",
    "|___________________|__\"=._o`\"-._        `\"=.______________|___________________\n",
    "          |                `\"=._o`\"=._      _`\"=._                     |\n",
    " _________|_____________________:=._o \"=._.\"_.-=\"'\"=.__________________|_______\n",
    "|                   |    __.--\" , ; `\"=._o.\" ,-\"\"\"-._ \".   |\n",
    "|___________________|_._\"  ,. .` ` `` ,  `\"-._\"-._   \". '__|___________________\n",
    "          |           |o`\"=._` , \"` `; .\". ,  \"-._\"-._; ;              |\n",
    " _________|___________| ;`-.o`\"=._; .\" ` '`.\"\\` . \"-._ /_______________|_______\n",
    "|                   | |o;    `\"-.o`\"=._``  '` \" ,__.--o;   |\n",
    "|___________________|_| ;     (#) `-.o `\"=.`_.--\"_o.-; ;___|___________________\n",
    "____/______/______/___|o;._    \"      `\".o|o_.--\"    ;o;____/______/______/____\n",
    "/______/______/______/_\"=._o--._        ; | ;        ; ;/______/______/______/_\n",
    "____/______/______/______/__\"=._o--._   ;o|o;     _._;o;____/______/______/____\n",
    "/______/______/______/______/____\"=._o._; | ;_.--\"o.--\"_/______/______/______/_\n",
    "____/______/______/______/______/_____\"=.o|o_.--\"\"___/______/______/______/____\n",
    "/______/______/______/______/______/______/______/______/______/______/_____ /\n",
    "*******************************************************************************\n",
    "''')\n",
    "print(\"Welcome to Treasure Island.\")\n",
    "print(\"Your mission is to find the treasure.\") \n",
    "\n",
    "first_choice = input(\"your next to the lake please select left or right?\")\n",
    "\n",
    "if first_choice == \"left\":\n",
    "    print(\"congrats you have passed the first step\")\n",
    "    second_choice = input(\"you wanna swim or wait for a boat\")\n",
    "    if second_choice == \"wait\":\n",
    "        print(\"Congrats you passed the second step\")\n",
    "        third_choice = input(\"you have three door infront of you Blue, Red, Yellow\")\n",
    "        if third_choice == \"Yellow\":\n",
    "            print(\"You win\")\n",
    "        elif third_choice == \"Red\":\n",
    "            print(\"Burned by fire\\nGame over\")\n",
    "        else:\n",
    "            print(\"Eaten by beasts\\nGame Over\") \n",
    "    else:\n",
    "        print(\"You have been eaten by a sea king\")\n",
    "\n",
    "\n",
    "else:\n",
    "    print(\"Game Over\")"
   ]
  }
 ],
 "metadata": {
  "kernelspec": {
   "display_name": "Python 3",
   "language": "python",
   "name": "python3"
  },
  "language_info": {
   "codemirror_mode": {
    "name": "ipython",
    "version": 3
   },
   "file_extension": ".py",
   "mimetype": "text/x-python",
   "name": "python",
   "nbconvert_exporter": "python",
   "pygments_lexer": "ipython3",
   "version": "3.12.0"
  }
 },
 "nbformat": 4,
 "nbformat_minor": 2
}
