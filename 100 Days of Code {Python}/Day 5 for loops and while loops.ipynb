{
 "cells": [
  {
   "cell_type": "code",
   "execution_count": 1,
   "metadata": {},
   "outputs": [
    {
     "name": "stdout",
     "output_type": "stream",
     "text": [
      "Apple\n",
      "Apple pie\n",
      "Peach\n",
      "Peach pie\n",
      "Banana\n",
      "Banana pie\n",
      "['Apple', 'Peach', 'Banana']\n"
     ]
    }
   ],
   "source": [
    "fruits = [\"Apple\", \"Peach\", \"Banana\"]\n",
    "for fruit in fruits:\n",
    "    print(fruit)\n",
    "    print(f\"{fruit} pie\")\n",
    "print(fruits)"
   ]
  },
  {
   "cell_type": "code",
   "execution_count": 6,
   "metadata": {},
   "outputs": [
    {
     "name": "stdout",
     "output_type": "stream",
     "text": [
      "The avrage student height is 163.7\n"
     ]
    }
   ],
   "source": [
    "student_heights = [180, 124, 165, 173, 189, 169, 146]\n",
    "\n",
    "total_student_height = 0\n",
    "\n",
    "for student in student_heights:\n",
    "    total_student_height += student\n",
    "average_student_height = total_student_height/ len(student_heights)\n",
    "print(f\"The avrage student height is {round(average_student_height,1)}\")"
   ]
  },
  {
   "cell_type": "code",
   "execution_count": 31,
   "metadata": {},
   "outputs": [
    {
     "name": "stdout",
     "output_type": "stream",
     "text": [
      "The heighst score in the class is 91\n"
     ]
    }
   ],
   "source": [
    "student_scores = [78, 65, 89, 86, 55, 91, 64, 89]\n",
    "heighst_score = 0\n",
    "for score in student_scores:\n",
    "    if score > heighst_score:\n",
    "        heighst_score = score\n",
    "print(f\"The heighst score in the class is {heighst_score}\")"
   ]
  },
  {
   "cell_type": "code",
   "execution_count": 58,
   "metadata": {},
   "outputs": [
    {
     "name": "stdout",
     "output_type": "stream",
     "text": [
      "5050\n"
     ]
    }
   ],
   "source": [
    "z = 0\n",
    "\n",
    "\n",
    "for i in range(1,101):\n",
    "    z += i\n",
    "print(z)\n",
    "    "
   ]
  },
  {
   "cell_type": "code",
   "execution_count": 68,
   "metadata": {},
   "outputs": [
    {
     "name": "stdout",
     "output_type": "stream",
     "text": [
      "the sum of the even numbers in your range is 250500\n"
     ]
    }
   ],
   "source": [
    "calculation = 0\n",
    "for i in range(1,1001):\n",
    "    if i % 2 == 0 :\n",
    "        calculation += i\n",
    "print(F\"the sum of the even numbers in your range is {calculation}\")"
   ]
  },
  {
   "cell_type": "code",
   "execution_count": 69,
   "metadata": {},
   "outputs": [
    {
     "name": "stdout",
     "output_type": "stream",
     "text": [
      "250500\n"
     ]
    }
   ],
   "source": [
    "target = int(input(\"please enter the number you wanna calculate\"))\n",
    "alternative_sum = 0\n",
    "for number in range(1, target + 1):\n",
    "  if number % 2 == 0:\n",
    "    alternative_sum += number\n",
    "print(alternative_sum)"
   ]
  },
  {
   "cell_type": "code",
   "execution_count": 84,
   "metadata": {},
   "outputs": [
    {
     "name": "stdout",
     "output_type": "stream",
     "text": [
      "1\n",
      "2\n",
      "Fizz\n",
      "4\n",
      "Buzz\n",
      "Fizz\n",
      "7\n",
      "8\n",
      "Fizz\n",
      "Buzz\n",
      "11\n",
      "Fizz\n",
      "13\n",
      "14\n",
      "FizzBuzz\n",
      "16\n",
      "17\n",
      "Fizz\n",
      "19\n",
      "Buzz\n",
      "Fizz\n",
      "22\n",
      "23\n",
      "Fizz\n",
      "Buzz\n",
      "26\n",
      "Fizz\n",
      "28\n",
      "29\n",
      "FizzBuzz\n",
      "31\n",
      "32\n",
      "Fizz\n",
      "34\n",
      "Buzz\n",
      "Fizz\n",
      "37\n",
      "38\n",
      "Fizz\n",
      "Buzz\n",
      "41\n",
      "Fizz\n",
      "43\n",
      "44\n",
      "FizzBuzz\n",
      "46\n",
      "47\n",
      "Fizz\n",
      "49\n",
      "Buzz\n",
      "Fizz\n",
      "52\n",
      "53\n",
      "Fizz\n",
      "Buzz\n",
      "56\n",
      "Fizz\n",
      "58\n",
      "59\n",
      "FizzBuzz\n",
      "61\n",
      "62\n",
      "Fizz\n",
      "64\n",
      "Buzz\n",
      "Fizz\n",
      "67\n",
      "68\n",
      "Fizz\n",
      "Buzz\n",
      "71\n",
      "Fizz\n",
      "73\n",
      "74\n",
      "FizzBuzz\n",
      "76\n",
      "77\n",
      "Fizz\n",
      "79\n",
      "Buzz\n",
      "Fizz\n",
      "82\n",
      "83\n",
      "Fizz\n",
      "Buzz\n",
      "86\n",
      "Fizz\n",
      "88\n",
      "89\n",
      "FizzBuzz\n",
      "91\n",
      "92\n",
      "Fizz\n",
      "94\n",
      "Buzz\n",
      "Fizz\n",
      "97\n",
      "98\n",
      "Fizz\n",
      "Buzz\n"
     ]
    }
   ],
   "source": [
    "\n",
    "for i in range(1,101):\n",
    "    if i % 3 == 0 and i % 5 == 0:\n",
    "        print(\"FizzBuzz\")\n",
    "    elif i % 3 == 0:\n",
    "        print(\"Fizz\")\n",
    "    elif i % 5 == 0:\n",
    "        print(\"Buzz\")\n",
    "    else:\n",
    "        print(i)\n",
    "    \n",
    "    "
   ]
  },
  {
   "cell_type": "code",
   "execution_count": 35,
   "metadata": {},
   "outputs": [
    {
     "name": "stdout",
     "output_type": "stream",
     "text": [
      "Welcome to the Pypassword generator\n",
      "Your new password is |.0=_M9A7\n"
     ]
    }
   ],
   "source": [
    "import random\n",
    "import string\n",
    "\n",
    "alphabet = list(string.ascii_uppercase)\n",
    "lentgh_alphabet = len(alphabet)\n",
    "\n",
    "number = list(string.digits)\n",
    "lentgh_number = len(number)\n",
    "\n",
    "symbols = list(string.punctuation)\n",
    "lentgh_symbols = len(symbols)\n",
    "\n",
    "print(\"Welcome to the Pypassword generator\")\n",
    "\n",
    "letter_count = int(input(\"How many letter you would like in your password?\\n\"))\n",
    "number_count = int(input(\"How many numbers you want in your in password?\\n\"))\n",
    "symbol_count = int(input(\"Please enter the number of symbols you wanna have in your password\"))\n",
    "chosen_letter = 0\n",
    "chosen_number = 0\n",
    "chosen_symbol = 0\n",
    "password_storage = list()\n",
    "\n",
    "for pass_letter in range(0,letter_count):\n",
    "        chosen_letter = random.randint(0, lentgh_alphabet)\n",
    "        pass_letter = alphabet[chosen_letter]\n",
    "        password_storage.append(pass_letter)\n",
    "        \n",
    "for pass_number in range(0,number_count):\n",
    "        chosen_number = random.randint(0, lentgh_number)\n",
    "        pass_number = number[chosen_number]\n",
    "        password_storage.append(pass_number)\n",
    "        \n",
    "for pass_symbol in range(0,symbol_count):\n",
    "        chosen_symbol = random.randint(0, lentgh_symbols)\n",
    "        pass_symbol = symbols[chosen_symbol]\n",
    "        password_storage.append(pass_symbol)\n",
    "final_password = \"\"\n",
    "\n",
    "shuffled_password = random.shuffle(password_storage)\n",
    "\n",
    "password = \"\".join(password_storage)\n",
    "print(f\"Your new password is {password}\")"
   ]
  },
  {
   "cell_type": "code",
   "execution_count": 55,
   "metadata": {},
   "outputs": [
    {
     "name": "stdout",
     "output_type": "stream",
     "text": [
      "0\n"
     ]
    }
   ],
   "source": [
    "import random\n",
    "\n",
    "rand_num = int(random.random())\n",
    "print(rand_num)"
   ]
  },
  {
   "cell_type": "code",
   "execution_count": 66,
   "metadata": {},
   "outputs": [
    {
     "name": "stdout",
     "output_type": "stream",
     "text": [
      "10\n"
     ]
    }
   ],
   "source": [
    "import random\n",
    "\n",
    "rand_int = random.randint(1, 10)\n",
    "print(rand_int)"
   ]
  },
  {
   "cell_type": "code",
   "execution_count": 82,
   "metadata": {},
   "outputs": [
    {
     "name": "stdout",
     "output_type": "stream",
     "text": [
      "5\n"
     ]
    }
   ],
   "source": [
    "import random\n",
    "\n",
    "my_list = [1, 2, 3, 4, 5]\n",
    "rand_choice = random.choice(my_list)\n",
    "print(rand_choice)\n"
   ]
  },
  {
   "cell_type": "code",
   "execution_count": 88,
   "metadata": {},
   "outputs": [
    {
     "name": "stdout",
     "output_type": "stream",
     "text": [
      "[4, 1, 2, 3, 5]\n"
     ]
    }
   ],
   "source": [
    "import random\n",
    "\n",
    "my_list = [1, 2, 3, 4, 5]\n",
    "random.shuffle(my_list)\n",
    "print(my_list)\n"
   ]
  },
  {
   "cell_type": "code",
   "execution_count": 103,
   "metadata": {},
   "outputs": [
    {
     "name": "stdout",
     "output_type": "stream",
     "text": [
      "[2, 1, 5]\n"
     ]
    }
   ],
   "source": [
    "import random\n",
    "\n",
    "my_list = [1, 2, 3, 4, 5]\n",
    "rand_sample = random.sample(my_list, 3)\n",
    "print(rand_sample)"
   ]
  },
  {
   "cell_type": "code",
   "execution_count": 104,
   "metadata": {},
   "outputs": [
    {
     "name": "stdout",
     "output_type": "stream",
     "text": [
      "abcdefghijklmnopqrstuvwxyzABCDEFGHIJKLMNOPQRSTUVWXYZ\n",
      "abcdefghijklmnopqrstuvwxyz\n",
      "ABCDEFGHIJKLMNOPQRSTUVWXYZ\n",
      "0123456789\n",
      "!\"#$%&'()*+,-./:;<=>?@[\\]^_`{|}~\n"
     ]
    }
   ],
   "source": [
    "import string\n",
    "\n",
    "print(string.ascii_letters)\n",
    "print(string.ascii_lowercase)\n",
    "print(string.ascii_uppercase)\n",
    "print(string.digits)\n",
    "print(string.punctuation)\n"
   ]
  },
  {
   "cell_type": "code",
   "execution_count": 106,
   "metadata": {},
   "outputs": [
    {
     "name": "stdout",
     "output_type": "stream",
     "text": [
      "['A', 'B', 'C', 'D', 'E', 'F', 'G', 'H', 'I', 'J', 'K', 'L', 'M', 'N', 'O', 'P', 'Q', 'R', 'S', 'T', 'U', 'V', 'W', 'X', 'Y', 'Z']\n",
      "26\n"
     ]
    }
   ],
   "source": [
    "alphabet = list(string.ascii_uppercase)\n",
    "lentgh_alphabet = len(alphabet)\n",
    "print(alphabet)\n",
    "print(lentgh_alphabet)"
   ]
  },
  {
   "cell_type": "code",
   "execution_count": 39,
   "metadata": {},
   "outputs": [
    {
     "name": "stdout",
     "output_type": "stream",
     "text": [
      "banana\n"
     ]
    }
   ],
   "source": [
    "import random\n",
    "\n",
    "my_tuple = ('apple', 'orange', 'banana', 'grape')\n",
    "\n",
    "# Select a random element from the tuple\n",
    "random_fruit = random.choice(my_tuple)\n",
    "\n",
    "print(random_fruit)\n"
   ]
  }
 ],
 "metadata": {
  "kernelspec": {
   "display_name": "Python 3",
   "language": "python",
   "name": "python3"
  },
  "language_info": {
   "codemirror_mode": {
    "name": "ipython",
    "version": 3
   },
   "file_extension": ".py",
   "mimetype": "text/x-python",
   "name": "python",
   "nbconvert_exporter": "python",
   "pygments_lexer": "ipython3",
   "version": "3.12.0"
  }
 },
 "nbformat": 4,
 "nbformat_minor": 2
}
