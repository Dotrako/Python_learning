{
 "cells": [
  {
   "cell_type": "code",
   "execution_count": 2,
   "metadata": {},
   "outputs": [
    {
     "name": "stdout",
     "output_type": "stream",
     "text": [
      "0\n",
      "1\n",
      "2\n",
      "3\n",
      "4\n",
      "5\n"
     ]
    }
   ],
   "source": [
    "for i in range(0, 6):\n",
    "    print(i)"
   ]
  },
  {
   "cell_type": "code",
   "execution_count": 3,
   "metadata": {},
   "outputs": [
    {
     "name": "stdout",
     "output_type": "stream",
     "text": [
      "0\n",
      "1\n",
      "2\n",
      "3\n",
      "4\n",
      "5\n"
     ]
    }
   ],
   "source": [
    "for i in range(6):\n",
    "    print(i)\n"
   ]
  },
  {
   "cell_type": "markdown",
   "metadata": {},
   "source": [
    "# Hurdle exercice"
   ]
  },
  {
   "cell_type": "code",
   "execution_count": 4,
   "metadata": {},
   "outputs": [
    {
     "ename": "NameError",
     "evalue": "name 'at_goal' is not defined",
     "output_type": "error",
     "traceback": [
      "\u001b[1;31m---------------------------------------------------------------------------\u001b[0m",
      "\u001b[1;31mNameError\u001b[0m                                 Traceback (most recent call last)",
      "\u001b[1;32mc:\\Users\\laaga\\OneDrive\\Bureau\\learning\\Python\\Scripts\\100 Days of Code {Python}\\Day6 Functions, While loops, Code Blocks.ipynb Cell 4\u001b[0m line \u001b[0;36m1\n\u001b[0;32m     <a href='vscode-notebook-cell:/c%3A/Users/laaga/OneDrive/Bureau/learning/Python/Scripts/100%20Days%20of%20Code%20%7BPython%7D/Day6%20Functions%2C%20While%20loops%2C%20Code%20Blocks.ipynb#W2sZmlsZQ%3D%3D?line=12'>13</a>\u001b[0m     move()\n\u001b[0;32m     <a href='vscode-notebook-cell:/c%3A/Users/laaga/OneDrive/Bureau/learning/Python/Scripts/100%20Days%20of%20Code%20%7BPython%7D/Day6%20Functions%2C%20While%20loops%2C%20Code%20Blocks.ipynb#W2sZmlsZQ%3D%3D?line=13'>14</a>\u001b[0m     turn_left()\n\u001b[1;32m---> <a href='vscode-notebook-cell:/c%3A/Users/laaga/OneDrive/Bureau/learning/Python/Scripts/100%20Days%20of%20Code%20%7BPython%7D/Day6%20Functions%2C%20While%20loops%2C%20Code%20Blocks.ipynb#W2sZmlsZQ%3D%3D?line=15'>16</a>\u001b[0m \u001b[39mwhile\u001b[39;00m \u001b[39mnot\u001b[39;00m at_goal() \u001b[39m==\u001b[39m \u001b[39mTrue\u001b[39;00m:\n\u001b[0;32m     <a href='vscode-notebook-cell:/c%3A/Users/laaga/OneDrive/Bureau/learning/Python/Scripts/100%20Days%20of%20Code%20%7BPython%7D/Day6%20Functions%2C%20While%20loops%2C%20Code%20Blocks.ipynb#W2sZmlsZQ%3D%3D?line=16'>17</a>\u001b[0m     \u001b[39mif\u001b[39;00m front_is_clear():\n\u001b[0;32m     <a href='vscode-notebook-cell:/c%3A/Users/laaga/OneDrive/Bureau/learning/Python/Scripts/100%20Days%20of%20Code%20%7BPython%7D/Day6%20Functions%2C%20While%20loops%2C%20Code%20Blocks.ipynb#W2sZmlsZQ%3D%3D?line=17'>18</a>\u001b[0m         move()\n",
      "\u001b[1;31mNameError\u001b[0m: name 'at_goal' is not defined"
     ]
    }
   ],
   "source": [
    "def turn_right():\n",
    "    turn_left()\n",
    "    turn_left()\n",
    "    turn_left()\n",
    "\n",
    "\n",
    "def jump():\n",
    "    turn_left()\n",
    "    move()\n",
    "    turn_right()\n",
    "    move()\n",
    "    turn_right()\n",
    "    move()\n",
    "    turn_left()\n",
    "    \n",
    "while not at_goal() == True:\n",
    "    if front_is_clear():\n",
    "        move()\n",
    "    else:\n",
    "        jump()"
   ]
  },
  {
   "cell_type": "code",
   "execution_count": null,
   "metadata": {},
   "outputs": [
    {
     "ename": "TypeError",
     "evalue": "module, class, method, function, traceback, frame, or code object was expected, got builtin_function_or_method",
     "output_type": "error",
     "traceback": [
      "\u001b[1;31m---------------------------------------------------------------------------\u001b[0m",
      "\u001b[1;31mTypeError\u001b[0m                                 Traceback (most recent call last)",
      "\u001b[1;32mc:\\Users\\laaga\\OneDrive\\Bureau\\learning\\Python\\Scripts\\100 Days of Code {Python}\\Day6 Functions, While loops, Code Blocks.ipynb Cell 5\u001b[0m line \u001b[0;36m3\n\u001b[0;32m      <a href='vscode-notebook-cell:/c%3A/Users/laaga/OneDrive/Bureau/learning/Python/Scripts/100%20Days%20of%20Code%20%7BPython%7D/Day6%20Functions%2C%20While%20loops%2C%20Code%20Blocks.ipynb#W4sZmlsZQ%3D%3D?line=0'>1</a>\u001b[0m \u001b[39mimport\u001b[39;00m \u001b[39minspect\u001b[39;00m\n\u001b[1;32m----> <a href='vscode-notebook-cell:/c%3A/Users/laaga/OneDrive/Bureau/learning/Python/Scripts/100%20Days%20of%20Code%20%7BPython%7D/Day6%20Functions%2C%20While%20loops%2C%20Code%20Blocks.ipynb#W4sZmlsZQ%3D%3D?line=2'>3</a>\u001b[0m source_code \u001b[39m=\u001b[39m inspect\u001b[39m.\u001b[39;49mgetsource(\u001b[39mlen\u001b[39;49m)\n\u001b[0;32m      <a href='vscode-notebook-cell:/c%3A/Users/laaga/OneDrive/Bureau/learning/Python/Scripts/100%20Days%20of%20Code%20%7BPython%7D/Day6%20Functions%2C%20While%20loops%2C%20Code%20Blocks.ipynb#W4sZmlsZQ%3D%3D?line=3'>4</a>\u001b[0m \u001b[39mprint\u001b[39m(source_code)\n",
      "File \u001b[1;32mc:\\Users\\laaga\\AppData\\Local\\Programs\\Python\\Python312\\Lib\\inspect.py:1282\u001b[0m, in \u001b[0;36mgetsource\u001b[1;34m(object)\u001b[0m\n\u001b[0;32m   1276\u001b[0m \u001b[39mdef\u001b[39;00m \u001b[39mgetsource\u001b[39m(\u001b[39mobject\u001b[39m):\n\u001b[0;32m   1277\u001b[0m \u001b[39m    \u001b[39m\u001b[39m\"\"\"Return the text of the source code for an object.\u001b[39;00m\n\u001b[0;32m   1278\u001b[0m \n\u001b[0;32m   1279\u001b[0m \u001b[39m    The argument may be a module, class, method, function, traceback, frame,\u001b[39;00m\n\u001b[0;32m   1280\u001b[0m \u001b[39m    or code object.  The source code is returned as a single string.  An\u001b[39;00m\n\u001b[0;32m   1281\u001b[0m \u001b[39m    OSError is raised if the source code cannot be retrieved.\"\"\"\u001b[39;00m\n\u001b[1;32m-> 1282\u001b[0m     lines, lnum \u001b[39m=\u001b[39m getsourcelines(\u001b[39mobject\u001b[39;49m)\n\u001b[0;32m   1283\u001b[0m     \u001b[39mreturn\u001b[39;00m \u001b[39m'\u001b[39m\u001b[39m'\u001b[39m\u001b[39m.\u001b[39mjoin(lines)\n",
      "File \u001b[1;32mc:\\Users\\laaga\\AppData\\Local\\Programs\\Python\\Python312\\Lib\\inspect.py:1264\u001b[0m, in \u001b[0;36mgetsourcelines\u001b[1;34m(object)\u001b[0m\n\u001b[0;32m   1256\u001b[0m \u001b[39m\u001b[39m\u001b[39m\"\"\"Return a list of source lines and starting line number for an object.\u001b[39;00m\n\u001b[0;32m   1257\u001b[0m \n\u001b[0;32m   1258\u001b[0m \u001b[39mThe argument may be a module, class, method, function, traceback, frame,\u001b[39;00m\n\u001b[1;32m   (...)\u001b[0m\n\u001b[0;32m   1261\u001b[0m \u001b[39moriginal source file the first line of code was found.  An OSError is\u001b[39;00m\n\u001b[0;32m   1262\u001b[0m \u001b[39mraised if the source code cannot be retrieved.\"\"\"\u001b[39;00m\n\u001b[0;32m   1263\u001b[0m \u001b[39mobject\u001b[39m \u001b[39m=\u001b[39m unwrap(\u001b[39mobject\u001b[39m)\n\u001b[1;32m-> 1264\u001b[0m lines, lnum \u001b[39m=\u001b[39m findsource(\u001b[39mobject\u001b[39;49m)\n\u001b[0;32m   1266\u001b[0m \u001b[39mif\u001b[39;00m istraceback(\u001b[39mobject\u001b[39m):\n\u001b[0;32m   1267\u001b[0m     \u001b[39mobject\u001b[39m \u001b[39m=\u001b[39m \u001b[39mobject\u001b[39m\u001b[39m.\u001b[39mtb_frame\n",
      "File \u001b[1;32mc:\\Users\\laaga\\AppData\\Local\\Programs\\Python\\Python312\\Lib\\inspect.py:1075\u001b[0m, in \u001b[0;36mfindsource\u001b[1;34m(object)\u001b[0m\n\u001b[0;32m   1067\u001b[0m \u001b[39mdef\u001b[39;00m \u001b[39mfindsource\u001b[39m(\u001b[39mobject\u001b[39m):\n\u001b[0;32m   1068\u001b[0m \u001b[39m    \u001b[39m\u001b[39m\"\"\"Return the entire source file and starting line number for an object.\u001b[39;00m\n\u001b[0;32m   1069\u001b[0m \n\u001b[0;32m   1070\u001b[0m \u001b[39m    The argument may be a module, class, method, function, traceback, frame,\u001b[39;00m\n\u001b[0;32m   1071\u001b[0m \u001b[39m    or code object.  The source code is returned as a list of all the lines\u001b[39;00m\n\u001b[0;32m   1072\u001b[0m \u001b[39m    in the file and the line number indexes a line in that list.  An OSError\u001b[39;00m\n\u001b[0;32m   1073\u001b[0m \u001b[39m    is raised if the source code cannot be retrieved.\"\"\"\u001b[39;00m\n\u001b[1;32m-> 1075\u001b[0m     file \u001b[39m=\u001b[39m getsourcefile(\u001b[39mobject\u001b[39;49m)\n\u001b[0;32m   1076\u001b[0m     \u001b[39mif\u001b[39;00m file:\n\u001b[0;32m   1077\u001b[0m         \u001b[39m# Invalidate cache if needed.\u001b[39;00m\n\u001b[0;32m   1078\u001b[0m         linecache\u001b[39m.\u001b[39mcheckcache(file)\n",
      "File \u001b[1;32mc:\\Users\\laaga\\AppData\\Local\\Programs\\Python\\Python312\\Lib\\inspect.py:952\u001b[0m, in \u001b[0;36mgetsourcefile\u001b[1;34m(object)\u001b[0m\n\u001b[0;32m    948\u001b[0m \u001b[39mdef\u001b[39;00m \u001b[39mgetsourcefile\u001b[39m(\u001b[39mobject\u001b[39m):\n\u001b[0;32m    949\u001b[0m \u001b[39m    \u001b[39m\u001b[39m\"\"\"Return the filename that can be used to locate an object's source.\u001b[39;00m\n\u001b[0;32m    950\u001b[0m \u001b[39m    Return None if no way can be identified to get the source.\u001b[39;00m\n\u001b[0;32m    951\u001b[0m \u001b[39m    \"\"\"\u001b[39;00m\n\u001b[1;32m--> 952\u001b[0m     filename \u001b[39m=\u001b[39m getfile(\u001b[39mobject\u001b[39;49m)\n\u001b[0;32m    953\u001b[0m     all_bytecode_suffixes \u001b[39m=\u001b[39m importlib\u001b[39m.\u001b[39mmachinery\u001b[39m.\u001b[39mDEBUG_BYTECODE_SUFFIXES[:]\n\u001b[0;32m    954\u001b[0m     all_bytecode_suffixes \u001b[39m+\u001b[39m\u001b[39m=\u001b[39m importlib\u001b[39m.\u001b[39mmachinery\u001b[39m.\u001b[39mOPTIMIZED_BYTECODE_SUFFIXES[:]\n",
      "File \u001b[1;32mc:\\Users\\laaga\\AppData\\Local\\Programs\\Python\\Python312\\Lib\\inspect.py:932\u001b[0m, in \u001b[0;36mgetfile\u001b[1;34m(object)\u001b[0m\n\u001b[0;32m    930\u001b[0m \u001b[39mif\u001b[39;00m iscode(\u001b[39mobject\u001b[39m):\n\u001b[0;32m    931\u001b[0m     \u001b[39mreturn\u001b[39;00m \u001b[39mobject\u001b[39m\u001b[39m.\u001b[39mco_filename\n\u001b[1;32m--> 932\u001b[0m \u001b[39mraise\u001b[39;00m \u001b[39mTypeError\u001b[39;00m(\u001b[39m'\u001b[39m\u001b[39mmodule, class, method, function, traceback, frame, or \u001b[39m\u001b[39m'\u001b[39m\n\u001b[0;32m    933\u001b[0m                 \u001b[39m'\u001b[39m\u001b[39mcode object was expected, got \u001b[39m\u001b[39m{}\u001b[39;00m\u001b[39m'\u001b[39m\u001b[39m.\u001b[39mformat(\n\u001b[0;32m    934\u001b[0m                 \u001b[39mtype\u001b[39m(\u001b[39mobject\u001b[39m)\u001b[39m.\u001b[39m\u001b[39m__name__\u001b[39m))\n",
      "\u001b[1;31mTypeError\u001b[0m: module, class, method, function, traceback, frame, or code object was expected, got builtin_function_or_method"
     ]
    }
   ],
   "source": [
    "import inspect\n",
    "\n",
    "source_code = inspect.getsource(len)\n",
    "print(source_code)\n"
   ]
  },
  {
   "cell_type": "code",
   "execution_count": null,
   "metadata": {},
   "outputs": [],
   "source": [
    "def turn_right():\n",
    "    turn_left()\n",
    "    turn_left()\n",
    "    turn_left()\n",
    "\n",
    "def jump():\n",
    "    turn_left()\n",
    "    move()\n",
    "    while wall_on_right():\n",
    "        move()\n",
    "    turn_right()\n",
    "    move()\n",
    "    turn_right()\n",
    "    while front_is_clear():\n",
    "        move()\n",
    "    turn_left()\n",
    "    \n",
    "while not at_goal() == True:\n",
    "    if front_is_clear():\n",
    "        move()\n",
    "    else:\n",
    "        jump()"
   ]
  },
  {
   "cell_type": "code",
   "execution_count": null,
   "metadata": {},
   "outputs": [],
   "source": []
  }
 ],
 "metadata": {
  "kernelspec": {
   "display_name": "Python 3",
   "language": "python",
   "name": "python3"
  },
  "language_info": {
   "codemirror_mode": {
    "name": "ipython",
    "version": 3
   },
   "file_extension": ".py",
   "mimetype": "text/x-python",
   "name": "python",
   "nbconvert_exporter": "python",
   "pygments_lexer": "ipython3",
   "version": "3.12.0"
  }
 },
 "nbformat": 4,
 "nbformat_minor": 2
}
