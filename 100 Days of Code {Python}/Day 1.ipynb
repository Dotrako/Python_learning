{
 "cells": [
  {
   "cell_type": "code",
   "execution_count": 3,
   "metadata": {},
   "outputs": [
    {
     "name": "stdout",
     "output_type": "stream",
     "text": [
      "your band name could be Beni Mellal Rosa\n"
     ]
    }
   ],
   "source": [
    "city = input(\"what's the name of the city you grew up in?\")\n",
    "pet = input(\"whats your pets name\")\n",
    "\n",
    "print(F\"your band name could be {city} {pet}\")"
   ]
  },
  {
   "cell_type": "code",
   "execution_count": 3,
   "metadata": {},
   "outputs": [
    {
     "name": "stdout",
     "output_type": "stream",
     "text": [
      "Day 1 - Python Print Function\n",
      "The function is declared like this:\n",
      "print('what to print')\n"
     ]
    }
   ],
   "source": [
    "print('Day 1 - Python Print Function')\n",
    "print('The function is declared like this:')\n",
    "print('print('what to print')')"
   ]
  },
  {
   "cell_type": "code",
   "execution_count": 6,
   "metadata": {},
   "outputs": [
    {
     "name": "stdout",
     "output_type": "stream",
     "text": [
      "Hello World\n",
      "Hello World\n",
      "Protein is good for building muscle\n",
      "healthy fat like avocado are essantial nutriments for a strong body\n"
     ]
    }
   ],
   "source": [
    "print(\"Hello World\\nHello World\")\n",
    "print(\"Protein is good for building muscle\\nhealthy fat like avocado are essantial nutriments for a strong body\")"
   ]
  },
  {
   "cell_type": "code",
   "execution_count": 10,
   "metadata": {},
   "outputs": [
    {
     "name": "stdout",
     "output_type": "stream",
     "text": [
      "This is the first line.\n",
      "This is the second line.\n",
      "This is a line with a\ttab.\n",
      "This is a backslash: \\\n",
      "This is a single-quoted string with a single quote:\n",
      "This is a double-quoted string with a double quote: \"\n"
     ]
    }
   ],
   "source": [
    "# Example with escape sequences\n",
    "\n",
    "# newline (\\n)\n",
    "print(\"This is the first line.\\nThis is the second line.\")\n",
    "\n",
    "# tab (\\t)\n",
    "print(\"This is a line with a\\ttab.\")\n",
    "\n",
    "# backslash (\\\\)\n",
    "print(\"This is a backslash: \\\\\")\n",
    "\n",
    "# single quote (\\')\n",
    "print('This is a single-quoted string with a single quote:')\n",
    "\n",
    "# double quote (\\\")\n",
    "print(\"This is a double-quoted string with a double quote: \\\"\")\n",
    "\n"
   ]
  },
  {
   "cell_type": "code",
   "execution_count": 13,
   "metadata": {},
   "outputs": [
    {
     "name": "stdout",
     "output_type": "stream",
     "text": [
      "First line\n",
      "Second line\tTabbed text\n",
      "This is a backslash: \\\n",
      "Single quote: '\n",
      "Double quote: \"hey\n",
      "A complex example:\n",
      "Line 1\tTabbed\n",
      "Line 2 with a backslash: \\\n",
      "This is a raw string: C:\\path\\to\\file\n",
      "Unicode character: Ω\n",
      "Special characters: \\, ', \", \t, \n",
      "\n"
     ]
    }
   ],
   "source": [
    "# Examples with escape sequences\n",
    "\n",
    "# Newline (\\n) and Tab (\\t)\n",
    "print(\"First line\\nSecond line\\tTabbed text\")\n",
    "\n",
    "# Backslash (\\\\)\n",
    "print(\"This is a backslash: \\\\\")\n",
    "\n",
    "# Single and Double Quotes\n",
    "print('Single quote: \\'\\nDouble quote: \\\"hey')\n",
    "\n",
    "# Using a combination of escape sequences\n",
    "print(\"A complex example:\\nLine 1\\tTabbed\\nLine 2 with a backslash: \\\\\")\n",
    "\n",
    "# Raw string (ignores escape sequences)\n",
    "print(r\"This is a raw string: C:\\path\\to\\file\")\n",
    "\n",
    "# Unicode escape sequence\n",
    "print(\"Unicode character: \\u03A9\")  # Represents the Greek letter Omega\n",
    "\n",
    "# Special characters with their escape sequences\n",
    "print(\"Special characters: \\\\, \\', \\\", \\t, \\n\")\n"
   ]
  },
  {
   "cell_type": "code",
   "execution_count": 17,
   "metadata": {},
   "outputs": [
    {
     "name": "stdout",
     "output_type": "stream",
     "text": [
      "Hello Angela\n"
     ]
    }
   ],
   "source": [
    "print(\"Hello\"+\" Angela\")"
   ]
  },
  {
   "cell_type": "code",
   "execution_count": 18,
   "metadata": {},
   "outputs": [
    {
     "name": "stdout",
     "output_type": "stream",
     "text": [
      "Day 1 - String Manipulation\n",
      "String Concatenation is done with the  sign.\n",
      "e.g. print(\"Hello \" + \"world\")\n",
      "New lines can be created with a backslash and n.\n"
     ]
    }
   ],
   "source": [
    "# Fix the code below 👇\n",
    "\n",
    "print(\"Day 1 - String Manipulation\")\n",
    "print(\"String Concatenation is done with the \"+\" sign.\")\n",
    "print('e.g. print(\"Hello \" + \"world\")')\n",
    "print(\"New lines can be created with a backslash and n.\")"
   ]
  },
  {
   "cell_type": "code",
   "execution_count": 19,
   "metadata": {},
   "outputs": [
    {
     "name": "stdout",
     "output_type": "stream",
     "text": [
      "Day 1 - String Manipulation\n",
      "String Concatenation is done with the \"+\" sign.\n",
      "e.g. print(\"Hello \" + \"world\")\n",
      "New lines can be created with a backslash and n.\n"
     ]
    }
   ],
   "source": [
    "print(\"Day 1 - String Manipulation\")\n",
    "print('String Concatenation is done with the \"+\" sign.')\n",
    "print('e.g. print(\"Hello \" + \"world\")')\n",
    "print(\"New lines can be created with a backslash and n.\")"
   ]
  },
  {
   "cell_type": "code",
   "execution_count": 27,
   "metadata": {},
   "outputs": [
    {
     "name": "stdout",
     "output_type": "stream",
     "text": [
      "hello amine\n",
      "heloamine\n"
     ]
    }
   ],
   "source": [
    "print(f\"hello {input(\"Whats your name?\")}\")\n",
    "\n",
    "print(\"helo\" + input(\"whats your name \"))"
   ]
  },
  {
   "cell_type": "code",
   "execution_count": 25,
   "metadata": {},
   "outputs": [
    {
     "name": "stdout",
     "output_type": "stream",
     "text": [
      "amine What's your name?\n",
      "Hello amine\n"
     ]
    }
   ],
   "source": [
    "# Using f-string with print\n",
    "print(f\"{input('What\\'s your name? ')} What's your name?\")\n",
    "\n",
    "# Using string concatenation with print\n",
    "print(\"Hello \" + input(\"What's your name? \"))\n"
   ]
  },
  {
   "cell_type": "code",
   "execution_count": 28,
   "metadata": {},
   "outputs": [
    {
     "name": "stdout",
     "output_type": "stream",
     "text": [
      "amine\n",
      "laakad\n"
     ]
    }
   ],
   "source": [
    "name1 = input(\"What is your name? \")\n",
    "print(name1) #This line will print the text and line 1 of the input into the output.\n",
    "name2 = input()\n",
    "print(name2) #This line will only print the name on line 2 of the input pane."
   ]
  },
  {
   "cell_type": "code",
   "execution_count": 29,
   "metadata": {},
   "outputs": [
    {
     "name": "stdout",
     "output_type": "stream",
     "text": [
      "6\n"
     ]
    }
   ],
   "source": [
    "num1 = int(input())\n",
    "num2 = int(input())\n",
    "print(num1 * num2)"
   ]
  },
  {
   "cell_type": "code",
   "execution_count": 30,
   "metadata": {},
   "outputs": [
    {
     "ename": "TypeError",
     "evalue": "can't multiply sequence by non-int of type 'str'",
     "output_type": "error",
     "traceback": [
      "\u001b[1;31m---------------------------------------------------------------------------\u001b[0m",
      "\u001b[1;31mTypeError\u001b[0m                                 Traceback (most recent call last)",
      "\u001b[1;32mc:\\Users\\laaga\\OneDrive\\Bureau\\learning\\Python\\Scripts\\100 Days of Code {Python}\\Day 1.ipynb Cell 13\u001b[0m line \u001b[0;36m3\n\u001b[0;32m      <a href='vscode-notebook-cell:/c%3A/Users/laaga/OneDrive/Bureau/learning/Python/Scripts/100%20Days%20of%20Code%20%7BPython%7D/Day%201.ipynb#X21sZmlsZQ%3D%3D?line=0'>1</a>\u001b[0m num1 \u001b[39m=\u001b[39m \u001b[39minput\u001b[39m(\u001b[39m\"\u001b[39m\u001b[39mWhat is the first number: \u001b[39m\u001b[39m\"\u001b[39m)\n\u001b[0;32m      <a href='vscode-notebook-cell:/c%3A/Users/laaga/OneDrive/Bureau/learning/Python/Scripts/100%20Days%20of%20Code%20%7BPython%7D/Day%201.ipynb#X21sZmlsZQ%3D%3D?line=1'>2</a>\u001b[0m num2 \u001b[39m=\u001b[39m \u001b[39minput\u001b[39m(\u001b[39m\"\u001b[39m\u001b[39mWhat is the second number: \u001b[39m\u001b[39m\"\u001b[39m)\n\u001b[1;32m----> <a href='vscode-notebook-cell:/c%3A/Users/laaga/OneDrive/Bureau/learning/Python/Scripts/100%20Days%20of%20Code%20%7BPython%7D/Day%201.ipynb#X21sZmlsZQ%3D%3D?line=2'>3</a>\u001b[0m \u001b[39mprint\u001b[39m(num1 \u001b[39m*\u001b[39;49m num2)\n",
      "\u001b[1;31mTypeError\u001b[0m: can't multiply sequence by non-int of type 'str'"
     ]
    }
   ],
   "source": [
    "num1 = input(\"What is the first number: \")\n",
    "num2 = input(\"What is the second number: \")\n",
    "print(num1 * num2)"
   ]
  },
  {
   "cell_type": "code",
   "execution_count": 32,
   "metadata": {},
   "outputs": [
    {
     "name": "stdout",
     "output_type": "stream",
     "text": [
      "3\n"
     ]
    }
   ],
   "source": [
    "# Provide any name in the input pane below.\n",
    "# That value can be accessed using the input() function.\n",
    "# Don't put anything inside the input() function!\n",
    "\n",
    "name = input(\"what is your name\")\n",
    "print(len(name))"
   ]
  },
  {
   "cell_type": "code",
   "execution_count": 45,
   "metadata": {},
   "outputs": [
    {
     "name": "stdout",
     "output_type": "stream",
     "text": [
      "a: 49\n",
      "b: 23\n"
     ]
    }
   ],
   "source": [
    "# There are two variables, a and b from input\n",
    "a = input()\n",
    "b = input()\n",
    "# 🚨 Don't change the code above ☝️\n",
    "####################################\n",
    "# Write your code below this line 👇\n",
    "c = a\n",
    "a = b\n",
    "b = c\n",
    "\n",
    "# 🚨 Don't change the code below 👇\n",
    "print(\"a: \" + a)\n",
    "print(\"b: \" + b)\n"
   ]
  },
  {
   "cell_type": "code",
   "execution_count": 47,
   "metadata": {},
   "outputs": [
    {
     "name": "stdout",
     "output_type": "stream",
     "text": [
      "Hello\n",
      "Your Band name is Beni Rosa\n"
     ]
    }
   ],
   "source": [
    "#1 \n",
    "print(\"Hello\")\n",
    "#2\n",
    "city_name =input(\"what is the city you grew up in\\n\")\n",
    "#3\n",
    "pet_name = input(\"whats the name of your pet\\n\")\n",
    "\n",
    "brand_name = city_name + \" \" + pet_name\n",
    "\n",
    "print(f\"Your Band name is {brand_name}\")\n"
   ]
  }
 ],
 "metadata": {
  "kernelspec": {
   "display_name": "Python 3",
   "language": "python",
   "name": "python3"
  },
  "language_info": {
   "codemirror_mode": {
    "name": "ipython",
    "version": 3
   },
   "file_extension": ".py",
   "mimetype": "text/x-python",
   "name": "python",
   "nbconvert_exporter": "python",
   "pygments_lexer": "ipython3",
   "version": "3.12.0"
  }
 },
 "nbformat": 4,
 "nbformat_minor": 2
}
