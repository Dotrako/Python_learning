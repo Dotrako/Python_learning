{
 "cells": [
  {
   "cell_type": "code",
   "execution_count": 2,
   "metadata": {},
   "outputs": [
    {
     "name": "stdout",
     "output_type": "stream",
     "text": [
      "Wlecome to the tip calculator\n",
      "Each person should pay $26.4\n"
     ]
    }
   ],
   "source": [
    "print(\"Wlecome to the tip calculator\")\n",
    "total_bill = float(input(\"what was the total bill? $\"))\n",
    "tip_per_centage = float(input(\"How much tip would you like to give? 10%, 12%, or, 15%\"))\n",
    "number_of_person = float(input(\"How many people to split the bill\"))\n",
    "\n",
    "total_per_person = (total_bill/number_of_person)\n",
    "total_per_tip = (total_bill/number_of_person) * (tip_per_centage/100)\n",
    "total = total_per_person + total_per_tip\n",
    "\n",
    "print(f\"Each person should pay ${total}\")\n"
   ]
  },
  {
   "cell_type": "code",
   "execution_count": 8,
   "metadata": {},
   "outputs": [
    {
     "name": "stdout",
     "output_type": "stream",
     "text": [
      "your name has 3 of characters3\n"
     ]
    }
   ],
   "source": [
    "num_char = str(len(input(\"Whats your name\")))\n",
    "print(f\"your name has {num_char} of characters\" + num_char)"
   ]
  },
  {
   "cell_type": "code",
   "execution_count": 13,
   "metadata": {},
   "outputs": [
    {
     "name": "stdout",
     "output_type": "stream",
     "text": [
      "8.0\n"
     ]
    }
   ],
   "source": [
    "two_digit_number = input(\"your number\")\n",
    "\n",
    "single_digit_number = two_digit_number[0]\n",
    "second_digit_number = two_digit_number[1]\n",
    "\n",
    "final = float(single_digit_number) + float(second_digit_number)\n",
    "print(final)"
   ]
  },
  {
   "cell_type": "code",
   "execution_count": 30,
   "metadata": {},
   "outputs": [
    {
     "data": {
      "text/plain": [
       "3.0"
      ]
     },
     "execution_count": 30,
     "metadata": {},
     "output_type": "execute_result"
    }
   ],
   "source": [
    "\n",
    "3 * (3 + 3) / 3 - 3"
   ]
  },
  {
   "cell_type": "code",
   "execution_count": 47,
   "metadata": {},
   "outputs": [
    {
     "name": "stdout",
     "output_type": "stream",
     "text": [
      "Hello and welcome to our BMI calculator App\n",
      "your BMI is 36.80268595041323\n"
     ]
    }
   ],
   "source": [
    "# Bmi calculator\n",
    "print(\"Hello and welcome to our BMI calculator App\")\n",
    "height = float(input(\"what is your height in meters\"))\n",
    "weight = float(input(\"whats is your weight in kg\"))\n",
    "bmi = (weight/(height**2))\n",
    "print(f\"your BMI is {bmi}\")\n"
   ]
  },
  {
   "cell_type": "code",
   "execution_count": 62,
   "metadata": {},
   "outputs": [
    {
     "name": "stdout",
     "output_type": "stream",
     "text": [
      "3.4782608695652177\n",
      "3.0\n",
      "3\n"
     ]
    },
    {
     "data": {
      "text/plain": [
       "3"
      ]
     },
     "execution_count": 62,
     "metadata": {},
     "output_type": "execute_result"
    }
   ],
   "source": [
    "print(8/2.3)\n",
    "print(8//2.3)\n",
    "print(round(8/2.3))\n",
    "round(3.4)"
   ]
  },
  {
   "cell_type": "code",
   "execution_count": 66,
   "metadata": {},
   "outputs": [
    {
     "name": "stdout",
     "output_type": "stream",
     "text": [
      "2.0\n",
      "1.0\n"
     ]
    }
   ],
   "source": [
    "result = 4/2\n",
    "print(result)\n",
    "result = result/2\n",
    "print(result)"
   ]
  },
  {
   "cell_type": "code",
   "execution_count": 67,
   "metadata": {},
   "outputs": [
    {
     "name": "stdout",
     "output_type": "stream",
     "text": [
      "your score is 0 and the record is 1.8 and you are now True\n"
     ]
    }
   ],
   "source": [
    "score = 0\n",
    "height = 1.8 \n",
    "iswining = True\n",
    "\n",
    "print(f\"your score is {score} and the record is {height} and you are now {iswining}\")"
   ]
  },
  {
   "cell_type": "code",
   "execution_count": 75,
   "metadata": {},
   "outputs": [
    {
     "name": "stdout",
     "output_type": "stream",
     "text": [
      "hello and welcome to our age left estimation calculator\n",
      "you have 1703 weeks left\n"
     ]
    }
   ],
   "source": [
    "print(\"hello and welcome to our age left estimation calculator\")\n",
    "your_age = float(input(\"How old are you?\"))\n",
    "long_time_estimation = (365/12)*90\n",
    "your_current_life_estimation = (your_age*365)/12\n",
    "\n",
    "time_left = long_time_estimation - your_current_life_estimation\n",
    "\n",
    "print(f\"you have {round(time_left)} weeks left\")\n",
    "\n"
   ]
  },
  {
   "cell_type": "code",
   "execution_count": 71,
   "metadata": {},
   "outputs": [
    {
     "name": "stdout",
     "output_type": "stream",
     "text": [
      "2737.5\n",
      "882.0833333333334\n"
     ]
    }
   ],
   "source": [
    "long_time_estimation = (365/12)*90\n",
    "print(long_time_estimation)\n",
    "your_life_estimation = (29*365)/12\n",
    "print(your_life_estimation)"
   ]
  },
  {
   "cell_type": "code",
   "execution_count": 3,
   "metadata": {},
   "outputs": [
    {
     "name": "stdout",
     "output_type": "stream",
     "text": [
      "Welcome to the tip calculator.\n",
      "Each person should pay $19.93\n"
     ]
    }
   ],
   "source": [
    "print(\"Welcome to the tip calculator.\")\n",
    "\n",
    "bill = float(input(\"what was the total bill? $\"))\n",
    "tip = float(input(\"what percentage tip would you like to give? 10, 12, or 15?\")) \n",
    "num_person = float(input(\"how many people to split the bill? \"))\n",
    "\n",
    "\n",
    "tip_per_person = ((bill/num_person)*tip) / 100\n",
    "payment_per_person = (bill/num_person) +tip_per_person\n",
    "print(f\"Each person should pay ${round(payment_per_person,2)}\")"
   ]
  },
  {
   "cell_type": "code",
   "execution_count": 8,
   "metadata": {},
   "outputs": [
    {
     "name": "stdout",
     "output_type": "stream",
     "text": [
      "Hello to our program that can show if you number is even or odd!\n",
      "Your number 10.5566 is a even number\n"
     ]
    }
   ],
   "source": [
    "print(\"Hello to our program that can show if you number is even or odd!\")\n",
    "num = float(input(\"What is your number? \"))\n",
    "\n",
    "if num % 2 == 0:\n",
    "    print(f\"Your number {num} is an odd number\")\n",
    "else:\n",
    "    print(f\"Your number {num} is a even number\")"
   ]
  },
  {
   "cell_type": "code",
   "execution_count": 9,
   "metadata": {},
   "outputs": [
    {
     "name": "stdout",
     "output_type": "stream",
     "text": [
      "The integer part of the float is not odd.\n"
     ]
    }
   ],
   "source": [
    "float_number = 4.5\n",
    "integer_part = int(float_number)\n",
    "\n",
    "if integer_part % 2 == 1:\n",
    "    print(\"The integer part of the float is odd.\")\n",
    "else:\n",
    "    print(\"The integer part of the float is not odd.\")\n"
   ]
  }
 ],
 "metadata": {
  "kernelspec": {
   "display_name": "Python 3",
   "language": "python",
   "name": "python3"
  },
  "language_info": {
   "codemirror_mode": {
    "name": "ipython",
    "version": 3
   },
   "file_extension": ".py",
   "mimetype": "text/x-python",
   "name": "python",
   "nbconvert_exporter": "python",
   "pygments_lexer": "ipython3",
   "version": "3.12.0"
  }
 },
 "nbformat": 4,
 "nbformat_minor": 2
}
