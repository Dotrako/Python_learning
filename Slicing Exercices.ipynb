{
 "cells": [
  {
   "cell_type": "code",
   "execution_count": 7,
   "metadata": {},
   "outputs": [
    {
     "name": "stdout",
     "output_type": "stream",
     "text": [
      "{'filters': {'dateFrom': '2023-11-04', 'dateTo': '2023-11-05', 'permission': 'TIER_ONE'}, 'resultSet': {'count': 42, 'competitions': 'PL,PD,SA,BL1,ELC,PPL,DED,FL1,CLI,BSA', 'first': '2023-11-04', 'last': '2023-11-04', 'played': 0}, 'matches': [{'area': {'id': 2072, 'name': 'England', 'code': 'ENG', 'flag': 'https://crests.football-data.org/770.svg'}, 'competition': {'id': 2021, 'name': 'Premier League', 'code': 'PL', 'type': 'LEAGUE', 'emblem': 'https://crests.football-data.org/PL.png'}, 'season': {'id': 1564, 'startDate': '2023-08-11', 'endDate': '2024-05-19', 'currentMatchday': 11, 'winner': None}, 'id': 436046, 'utcDate': '2023-11-04T12:30:00Z', 'status': 'TIMED', 'matchday': 11, 'stage': 'REGULAR_SEASON', 'group': None, 'lastUpdated': '2023-11-04T12:33:39Z', 'homeTeam': {'id': 63, 'name': 'Fulham FC', 'shortName': 'Fulham', 'tla': 'FUL', 'crest': 'https://crests.football-data.org/63.svg'}, 'awayTeam': {'id': 66, 'name': 'Manchester United FC', 'shortName': 'Man United', 'tla': 'MUN', 'crest': 'https://crests.football-data.org/66.png'}, 'score': {'winner': None, 'duration': 'REGULAR', 'fullTime': {'home': None, 'away': None}, 'halfTime': {'home': None, 'away': None}}, 'odds': {'msg': 'Activate Odds-Package in User-Panel to retrieve odds.'}, 'referees': [{'id': 11327, 'name': 'John Brooks', 'type': 'REFEREE', 'nationality': 'England'}]}, {'area': {'id': 2224, 'name': 'Spain', 'code': 'ESP', 'flag': 'https://crests.football-data.org/760.svg'}, 'competition': {'id': 2014, 'name': 'Primera Division', 'code': 'PD', 'type': 'LEAGUE', 'emblem': 'https://crests.football-data.org/PD.png'}, 'season': {'id': 1577, 'startDate': '2023-08-13', 'endDate': '2024-05-26', 'currentMatchday': 12, 'winner': None}, 'id': 438585, 'utcDate': '2023-11-04T13:00:00Z', 'status': 'TIMED', 'matchday': 12, 'stage': 'REGULAR_SEASON', 'group': None, 'lastUpdated': '2023-11-04T13:00:06Z', 'homeTeam': {'id': 79, 'name': 'CA Osasuna', 'shortName': 'Osasuna', 'tla': 'OSA', 'crest': 'https://crests.football-data.org/79.svg'}, 'awayTeam': {'id': 298, 'name': 'Girona FC', 'shortName': 'Girona', 'tla': 'GIR', 'crest': 'https://crests.football-data.org/298.png'}, 'score': {'winner': None, 'duration': 'REGULAR', 'fullTime': {'home': None, 'away': None}, 'halfTime': {'home': None, 'away': None}}, 'odds': {'msg': 'Activate Odds-Package in User-Panel to retrieve odds.'}, 'referees': [{'id': 206223, 'name': 'José Munuera Montero', 'type': 'REFEREE', 'nationality': 'Spain'}]}, {'area': {'id': 2114, 'name': 'Italy', 'code': 'ITA', 'flag': 'https://crests.football-data.org/784.svg'}, 'competition': {'id': 2019, 'name': 'Serie A', 'code': 'SA', 'type': 'LEAGUE', 'emblem': 'https://crests.football-data.org/SA.png'}, 'season': {'id': 1600, 'startDate': '2023-08-19', 'endDate': '2024-05-26', 'currentMatchday': 11, 'winner': None}, 'id': 444362, 'utcDate': '2023-11-04T14:00:00Z', 'status': 'TIMED', 'matchday': 11, 'stage': 'REGULAR_SEASON', 'group': None, 'lastUpdated': '2023-09-08T15:20:22Z', 'homeTeam': {'id': 455, 'name': 'US Salernitana 1919', 'shortName': 'Salernitana', 'tla': 'SAL', 'crest': 'https://crests.football-data.org/455.png'}, 'awayTeam': {'id': 113, 'name': 'SSC Napoli', 'shortName': 'Napoli', 'tla': 'NAP', 'crest': 'https://crests.football-data.org/113.svg'}, 'score': {'winner': None, 'duration': 'REGULAR', 'fullTime': {'home': None, 'away': None}, 'halfTime': {'home': None, 'away': None}}, 'odds': {'msg': 'Activate Odds-Package in User-Panel to retrieve odds.'}, 'referees': []}, {'area': {'id': 2088, 'name': 'Germany', 'code': 'DEU', 'flag': 'https://crests.football-data.org/759.svg'}, 'competition': {'id': 2002, 'name': 'Bundesliga', 'code': 'BL1', 'type': 'LEAGUE', 'emblem': 'https://crests.football-data.org/BL1.png'}, 'season': {'id': 1592, 'startDate': '2023-08-18', 'endDate': '2024-05-18', 'currentMatchday': 10, 'winner': None}, 'id': 441872, 'utcDate': '2023-11-04T14:30:00Z', 'status': 'TIMED', 'matchday': 10, 'stage': 'REGULAR_SEASON', 'group': None, 'lastUpdated': '2023-10-09T15:20:25Z', 'homeTeam': {'id': 17, 'name': 'SC Freiburg', 'shortName': 'Freiburg', 'tla': 'SCF', 'crest': 'https://crests.football-data.org/17.svg'}, 'awayTeam': {'id': 18, 'name': 'Borussia Mönchengladbach', 'shortName': \"M'gladbach\", 'tla': 'BMG', 'crest': 'https://crests.football-data.org/18.png'}, 'score': {'winner': None, 'duration': 'REGULAR', 'fullTime': {'home': None, 'away': None}, 'halfTime': {'home': None, 'away': None}}, 'odds': {'msg': 'Activate Odds-Package in User-Panel to retrieve odds.'}, 'referees': []}, {'area': {'id': 2088, 'name': 'Germany', 'code': 'DEU', 'flag': 'https://crests.football-data.org/759.svg'}, 'competition': {'id': 2002, 'name': 'Bundesliga', 'code': 'BL1', 'type': 'LEAGUE', 'emblem': 'https://crests.football-data.org/BL1.png'}, 'season': {'id': 1592, 'startDate': '2023-08-18', 'endDate': '2024-05-18', 'currentMatchday': 10, 'winner': None}, 'id': 441875, 'utcDate': '2023-11-04T14:30:00Z', 'status': 'TIMED', 'matchday': 10, 'stage': 'REGULAR_SEASON', 'group': None, 'lastUpdated': '2023-10-09T15:20:25Z', 'homeTeam': {'id': 1, 'name': '1. FC Köln', 'shortName': '1. FC Köln', 'tla': 'KOE', 'crest': 'https://crests.football-data.org/1.png'}, 'awayTeam': {'id': 16, 'name': 'FC Augsburg', 'shortName': 'Augsburg', 'tla': 'FCA', 'crest': 'https://crests.football-data.org/16.png'}, 'score': {'winner': None, 'duration': 'REGULAR', 'fullTime': {'home': None, 'away': None}, 'halfTime': {'home': None, 'away': None}}, 'odds': {'msg': 'Activate Odds-Package in User-Panel to retrieve odds.'}, 'referees': []}, {'area': {'id': 2088, 'name': 'Germany', 'code': 'DEU', 'flag': 'https://crests.football-data.org/759.svg'}, 'competition': {'id': 2002, 'name': 'Bundesliga', 'code': 'BL1', 'type': 'LEAGUE', 'emblem': 'https://crests.football-data.org/BL1.png'}, 'season': {'id': 1592, 'startDate': '2023-08-18', 'endDate': '2024-05-18', 'currentMatchday': 10, 'winner': None}, 'id': 441871, 'utcDate': '2023-11-04T14:30:00Z', 'status': 'TIMED', 'matchday': 10, 'stage': 'REGULAR_SEASON', 'group': None, 'lastUpdated': '2023-10-09T15:20:25Z', 'homeTeam': {'id': 28, 'name': '1. FC Union Berlin', 'shortName': 'Union Berlin', 'tla': 'UNB', 'crest': 'https://crests.football-data.org/28.svg'}, 'awayTeam': {'id': 19, 'name': 'Eintracht Frankfurt', 'shortName': 'Frankfurt', 'tla': 'SGE', 'crest': 'https://crests.football-data.org/19.svg'}, 'score': {'winner': None, 'duration': 'REGULAR', 'fullTime': {'home': None, 'away': None}, 'halfTime': {'home': None, 'away': None}}, 'odds': {'msg': 'Activate Odds-Package in User-Panel to retrieve odds.'}, 'referees': []}, {'area': {'id': 2088, 'name': 'Germany', 'code': 'DEU', 'flag': 'https://crests.football-data.org/759.svg'}, 'competition': {'id': 2002, 'name': 'Bundesliga', 'code': 'BL1', 'type': 'LEAGUE', 'emblem': 'https://crests.football-data.org/BL1.png'}, 'season': {'id': 1592, 'startDate': '2023-08-18', 'endDate': '2024-05-18', 'currentMatchday': 10, 'winner': None}, 'id': 441874, 'utcDate': '2023-11-04T14:30:00Z', 'status': 'TIMED', 'matchday': 10, 'stage': 'REGULAR_SEASON', 'group': None, 'lastUpdated': '2023-10-09T15:20:25Z', 'homeTeam': {'id': 15, 'name': '1. FSV Mainz 05', 'shortName': 'Mainz', 'tla': 'M05', 'crest': 'https://crests.football-data.org/15.png'}, 'awayTeam': {'id': 721, 'name': 'RB Leipzig', 'shortName': 'RB Leipzig', 'tla': 'RBL', 'crest': 'https://crests.football-data.org/721.png'}, 'score': {'winner': None, 'duration': 'REGULAR', 'fullTime': {'home': None, 'away': None}, 'halfTime': {'home': None, 'away': None}}, 'odds': {'msg': 'Activate Odds-Package in User-Panel to retrieve odds.'}, 'referees': []}, {'area': {'id': 2088, 'name': 'Germany', 'code': 'DEU', 'flag': 'https://crests.football-data.org/759.svg'}, 'competition': {'id': 2002, 'name': 'Bundesliga', 'code': 'BL1', 'type': 'LEAGUE', 'emblem': 'https://crests.football-data.org/BL1.png'}, 'season': {'id': 1592, 'startDate': '2023-08-18', 'endDate': '2024-05-18', 'currentMatchday': 10, 'winner': None}, 'id': 441876, 'utcDate': '2023-11-04T14:30:00Z', 'status': 'TIMED', 'matchday': 10, 'stage': 'REGULAR_SEASON', 'group': None, 'lastUpdated': '2023-10-09T15:20:25Z', 'homeTeam': {'id': 2, 'name': 'TSG 1899 Hoffenheim', 'shortName': 'Hoffenheim', 'tla': 'TSG', 'crest': 'https://crests.football-data.org/2.png'}, 'awayTeam': {'id': 3, 'name': 'Bayer 04 Leverkusen', 'shortName': 'Leverkusen', 'tla': 'B04', 'crest': 'https://crests.football-data.org/3.png'}, 'score': {'winner': None, 'duration': 'REGULAR', 'fullTime': {'home': None, 'away': None}, 'halfTime': {'home': None, 'away': None}}, 'odds': {'msg': 'Activate Odds-Package in User-Panel to retrieve odds.'}, 'referees': []}, {'area': {'id': 2072, 'name': 'England', 'code': 'ENG', 'flag': 'https://crests.football-data.org/770.svg'}, 'competition': {'id': 2016, 'name': 'Championship', 'code': 'ELC', 'type': 'LEAGUE', 'emblem': 'https://crests.football-data.org/ELC.png'}, 'season': {'id': 1573, 'startDate': '2023-08-04', 'endDate': '2024-05-04', 'currentMatchday': 15, 'winner': None}, 'id': 436852, 'utcDate': '2023-11-04T15:00:00Z', 'status': 'TIMED', 'matchday': 15, 'stage': 'REGULAR_SEASON', 'group': None, 'lastUpdated': '2023-08-02T16:20:21Z', 'homeTeam': {'id': 70, 'name': 'Stoke City FC', 'shortName': 'Stoke', 'tla': 'STK', 'crest': 'https://crests.football-data.org/70.png'}, 'awayTeam': {'id': 715, 'name': 'Cardiff City FC', 'shortName': 'Cardiff', 'tla': 'CAR', 'crest': 'https://crests.football-data.org/715.png'}, 'score': {'winner': None, 'duration': 'REGULAR', 'fullTime': {'home': None, 'away': None}, 'halfTime': {'home': None, 'away': None}}, 'odds': {'msg': 'Activate Odds-Package in User-Panel to retrieve odds.'}, 'referees': []}, {'area': {'id': 2072, 'name': 'England', 'code': 'ENG', 'flag': 'https://crests.football-data.org/770.svg'}, 'competition': {'id': 2016, 'name': 'Championship', 'code': 'ELC', 'type': 'LEAGUE', 'emblem': 'https://crests.football-data.org/ELC.png'}, 'season': {'id': 1573, 'startDate': '2023-08-04', 'endDate': '2024-05-04', 'currentMatchday': 15, 'winner': None}, 'id': 436850, 'utcDate': '2023-11-04T15:00:00Z', 'status': 'TIMED', 'matchday': 15, 'stage': 'REGULAR_SEASON', 'group': None, 'lastUpdated': '2023-08-02T16:20:21Z', 'homeTeam': {'id': 1081, 'name': 'Preston North End FC', 'shortName': 'Preston NE', 'tla': 'PNE', 'crest': 'https://crests.football-data.org/1081.png'}, 'awayTeam': {'id': 1076, 'name': 'Coventry City FC', 'shortName': 'Coventry City', 'tla': 'COV', 'crest': 'https://crests.football-data.org/1076.png'}, 'score': {'winner': None, 'duration': 'REGULAR', 'fullTime': {'home': None, 'away': None}, 'halfTime': {'home': None, 'away': None}}, 'odds': {'msg': 'Activate Odds-Package in User-Panel to retrieve odds.'}, 'referees': []}, {'area': {'id': 2072, 'name': 'England', 'code': 'ENG', 'flag': 'https://crests.football-data.org/770.svg'}, 'competition': {'id': 2016, 'name': 'Championship', 'code': 'ELC', 'type': 'LEAGUE', 'emblem': 'https://crests.football-data.org/ELC.png'}, 'season': {'id': 1573, 'startDate': '2023-08-04', 'endDate': '2024-05-04', 'currentMatchday': 15, 'winner': None}, 'id': 436844, 'utcDate': '2023-11-04T15:00:00Z', 'status': 'TIMED', 'matchday': 15, 'stage': 'REGULAR_SEASON', 'group': None, 'lastUpdated': '2023-08-02T16:20:20Z', 'homeTeam': {'id': 387, 'name': 'Bristol City FC', 'shortName': 'Bristol City', 'tla': 'BRI', 'crest': 'https://crests.football-data.org/387.svg'}, 'awayTeam': {'id': 345, 'name': 'Sheffield Wednesday FC', 'shortName': 'Sheffield Wed', 'tla': 'SHE', 'crest': 'https://crests.football-data.org/345.png'}, 'score': {'winner': None, 'duration': 'REGULAR', 'fullTime': {'home': None, 'away': None}, 'halfTime': {'home': None, 'away': None}}, 'odds': {'msg': 'Activate Odds-Package in User-Panel to retrieve odds.'}, 'referees': []}, {'area': {'id': 2072, 'name': 'England', 'code': 'ENG', 'flag': 'https://crests.football-data.org/770.svg'}, 'competition': {'id': 2021, 'name': 'Premier League', 'code': 'PL', 'type': 'LEAGUE', 'emblem': 'https://crests.football-data.org/PL.png'}, 'season': {'id': 1564, 'startDate': '2023-08-11', 'endDate': '2024-05-19', 'currentMatchday': 11, 'winner': None}, 'id': 436044, 'utcDate': '2023-11-04T15:00:00Z', 'status': 'TIMED', 'matchday': 11, 'stage': 'REGULAR_SEASON', 'group': None, 'lastUpdated': '2023-09-19T15:20:21Z', 'homeTeam': {'id': 328, 'name': 'Burnley FC', 'shortName': 'Burnley', 'tla': 'BUR', 'crest': 'https://crests.football-data.org/328.png'}, 'awayTeam': {'id': 354, 'name': 'Crystal Palace FC', 'shortName': 'Crystal Palace', 'tla': 'CRY', 'crest': 'https://crests.football-data.org/354.png'}, 'score': {'winner': None, 'duration': 'REGULAR', 'fullTime': {'home': None, 'away': None}, 'halfTime': {'home': None, 'away': None}}, 'odds': {'msg': 'Activate Odds-Package in User-Panel to retrieve odds.'}, 'referees': []}, {'area': {'id': 2072, 'name': 'England', 'code': 'ENG', 'flag': 'https://crests.football-data.org/770.svg'}, 'competition': {'id': 2016, 'name': 'Championship', 'code': 'ELC', 'type': 'LEAGUE', 'emblem': 'https://crests.football-data.org/ELC.png'}, 'season': {'id': 1573, 'startDate': '2023-08-04', 'endDate': '2024-05-04', 'currentMatchday': 15, 'winner': None}, 'id': 436854, 'utcDate': '2023-11-04T15:00:00Z', 'status': 'TIMED', 'matchday': 15, 'stage': 'REGULAR_SEASON', 'group': None, 'lastUpdated': '2023-08-02T16:20:21Z', 'homeTeam': {'id': 74, 'name': 'West Bromwich Albion FC', 'shortName': 'West Brom', 'tla': 'WBA', 'crest': 'https://crests.football-data.org/74.png'}, 'awayTeam': {'id': 322, 'name': 'Hull City AFC', 'shortName': 'Hull City', 'tla': 'HUL', 'crest': 'https://crests.football-data.org/322.png'}, 'score': {'winner': None, 'duration': 'REGULAR', 'fullTime': {'home': None, 'away': None}, 'halfTime': {'home': None, 'away': None}}, 'odds': {'msg': 'Activate Odds-Package in User-Panel to retrieve odds.'}, 'referees': []}, {'area': {'id': 2072, 'name': 'England', 'code': 'ENG', 'flag': 'https://crests.football-data.org/770.svg'}, 'competition': {'id': 2016, 'name': 'Championship', 'code': 'ELC', 'type': 'LEAGUE', 'emblem': 'https://crests.football-data.org/ELC.png'}, 'season': {'id': 1573, 'startDate': '2023-08-04', 'endDate': '2024-05-04', 'currentMatchday': 15, 'winner': None}, 'id': 436846, 'utcDate': '2023-11-04T15:00:00Z', 'status': 'TIMED', 'matchday': 15, 'stage': 'REGULAR_SEASON', 'group': None, 'lastUpdated': '2023-08-02T16:20:20Z', 'homeTeam': {'id': 394, 'name': 'Huddersfield Town AFC', 'shortName': 'Huddersfield', 'tla': 'HUD', 'crest': 'https://crests.football-data.org/394.png'}, 'awayTeam': {'id': 346, 'name': 'Watford FC', 'shortName': 'Watford', 'tla': 'WAT', 'crest': 'https://crests.football-data.org/346.png'}, 'score': {'winner': None, 'duration': 'REGULAR', 'fullTime': {'home': None, 'away': None}, 'halfTime': {'home': None, 'away': None}}, 'odds': {'msg': 'Activate Odds-Package in User-Panel to retrieve odds.'}, 'referees': []}, {'area': {'id': 2072, 'name': 'England', 'code': 'ENG', 'flag': 'https://crests.football-data.org/770.svg'}, 'competition': {'id': 2016, 'name': 'Championship', 'code': 'ELC', 'type': 'LEAGUE', 'emblem': 'https://crests.football-data.org/ELC.png'}, 'season': {'id': 1573, 'startDate': '2023-08-04', 'endDate': '2024-05-04', 'currentMatchday': 15, 'winner': None}, 'id': 436849, 'utcDate': '2023-11-04T15:00:00Z', 'status': 'TIMED', 'matchday': 15, 'stage': 'REGULAR_SEASON', 'group': None, 'lastUpdated': '2023-08-02T16:20:21Z', 'homeTeam': {'id': 1138, 'name': 'Plymouth Argyle FC', 'shortName': 'Plymouth Arg', 'tla': 'PLY', 'crest': 'https://crests.football-data.org/1138.png'}, 'awayTeam': {'id': 343, 'name': 'Middlesbrough FC', 'shortName': 'Middlesbrough', 'tla': 'MID', 'crest': 'https://crests.football-data.org/343.png'}, 'score': {'winner': None, 'duration': 'REGULAR', 'fullTime': {'home': None, 'away': None}, 'halfTime': {'home': None, 'away': None}}, 'odds': {'msg': 'Activate Odds-Package in User-Panel to retrieve odds.'}, 'referees': []}, {'area': {'id': 2072, 'name': 'England', 'code': 'ENG', 'flag': 'https://crests.football-data.org/770.svg'}, 'competition': {'id': 2021, 'name': 'Premier League', 'code': 'PL', 'type': 'LEAGUE', 'emblem': 'https://crests.football-data.org/PL.png'}, 'season': {'id': 1564, 'startDate': '2023-08-11', 'endDate': '2024-05-19', 'currentMatchday': 11, 'winner': None}, 'id': 436048, 'utcDate': '2023-11-04T15:00:00Z', 'status': 'TIMED', 'matchday': 11, 'stage': 'REGULAR_SEASON', 'group': None, 'lastUpdated': '2023-11-04T10:21:21Z', 'homeTeam': {'id': 65, 'name': 'Manchester City FC', 'shortName': 'Man City', 'tla': 'MCI', 'crest': 'https://crests.football-data.org/65.png'}, 'awayTeam': {'id': 1044, 'name': 'AFC Bournemouth', 'shortName': 'Bournemouth', 'tla': 'BOU', 'crest': 'https://crests.football-data.org/1044.png'}, 'score': {'winner': None, 'duration': 'REGULAR', 'fullTime': {'home': None, 'away': None}, 'halfTime': {'home': None, 'away': None}}, 'odds': {'msg': 'Activate Odds-Package in User-Panel to retrieve odds.'}, 'referees': []}, {'area': {'id': 2072, 'name': 'England', 'code': 'ENG', 'flag': 'https://crests.football-data.org/770.svg'}, 'competition': {'id': 2016, 'name': 'Championship', 'code': 'ELC', 'type': 'LEAGUE', 'emblem': 'https://crests.football-data.org/ELC.png'}, 'season': {'id': 1573, 'startDate': '2023-08-04', 'endDate': '2024-05-04', 'currentMatchday': 15, 'winner': None}, 'id': 436843, 'utcDate': '2023-11-04T15:00:00Z', 'status': 'TIMED', 'matchday': 15, 'stage': 'REGULAR_SEASON', 'group': None, 'lastUpdated': '2023-08-02T16:20:20Z', 'homeTeam': {'id': 332, 'name': 'Birmingham City FC', 'shortName': 'Birmingham', 'tla': 'BIR', 'crest': 'https://crests.football-data.org/332.png'}, 'awayTeam': {'id': 349, 'name': 'Ipswich Town FC', 'shortName': 'Ipswich Town', 'tla': 'IPS', 'crest': 'https://crests.football-data.org/349.png'}, 'score': {'winner': None, 'duration': 'REGULAR', 'fullTime': {'home': None, 'away': None}, 'halfTime': {'home': None, 'away': None}}, 'odds': {'msg': 'Activate Odds-Package in User-Panel to retrieve odds.'}, 'referees': []}, {'area': {'id': 2072, 'name': 'England', 'code': 'ENG', 'flag': 'https://crests.football-data.org/770.svg'}, 'competition': {'id': 2021, 'name': 'Premier League', 'code': 'PL', 'type': 'LEAGUE', 'emblem': 'https://crests.football-data.org/PL.png'}, 'season': {'id': 1564, 'startDate': '2023-08-11', 'endDate': '2024-05-19', 'currentMatchday': 11, 'winner': None}, 'id': 436043, 'utcDate': '2023-11-04T15:00:00Z', 'status': 'TIMED', 'matchday': 11, 'stage': 'REGULAR_SEASON', 'group': None, 'lastUpdated': '2023-09-19T15:20:21Z', 'homeTeam': {'id': 402, 'name': 'Brentford FC', 'shortName': 'Brentford', 'tla': 'BRE', 'crest': 'https://crests.football-data.org/402.png'}, 'awayTeam': {'id': 563, 'name': 'West Ham United FC', 'shortName': 'West Ham', 'tla': 'WHU', 'crest': 'https://crests.football-data.org/563.png'}, 'score': {'winner': None, 'duration': 'REGULAR', 'fullTime': {'home': None, 'away': None}, 'halfTime': {'home': None, 'away': None}}, 'odds': {'msg': 'Activate Odds-Package in User-Panel to retrieve odds.'}, 'referees': []}, {'area': {'id': 2072, 'name': 'England', 'code': 'ENG', 'flag': 'https://crests.football-data.org/770.svg'}, 'competition': {'id': 2016, 'name': 'Championship', 'code': 'ELC', 'type': 'LEAGUE', 'emblem': 'https://crests.football-data.org/ELC.png'}, 'season': {'id': 1573, 'startDate': '2023-08-04', 'endDate': '2024-05-04', 'currentMatchday': 15, 'winner': None}, 'id': 436853, 'utcDate': '2023-11-04T15:00:00Z', 'status': 'TIMED', 'matchday': 15, 'stage': 'REGULAR_SEASON', 'group': None, 'lastUpdated': '2023-08-02T16:20:21Z', 'homeTeam': {'id': 72, 'name': 'Swansea City AFC', 'shortName': 'Swansea', 'tla': 'SWA', 'crest': 'https://crests.football-data.org/72.png'}, 'awayTeam': {'id': 71, 'name': 'Sunderland AFC', 'shortName': 'Sunderland', 'tla': 'SUN', 'crest': 'https://crests.football-data.org/71.png'}, 'score': {'winner': None, 'duration': 'REGULAR', 'fullTime': {'home': None, 'away': None}, 'halfTime': {'home': None, 'away': None}}, 'odds': {'msg': 'Activate Odds-Package in User-Panel to retrieve odds.'}, 'referees': []}, {'area': {'id': 2072, 'name': 'England', 'code': 'ENG', 'flag': 'https://crests.football-data.org/770.svg'}, 'competition': {'id': 2016, 'name': 'Championship', 'code': 'ELC', 'type': 'LEAGUE', 'emblem': 'https://crests.football-data.org/ELC.png'}, 'season': {'id': 1573, 'startDate': '2023-08-04', 'endDate': '2024-05-04', 'currentMatchday': 15, 'winner': None}, 'id': 436851, 'utcDate': '2023-11-04T15:00:00Z', 'status': 'TIMED', 'matchday': 15, 'stage': 'REGULAR_SEASON', 'group': None, 'lastUpdated': '2023-08-02T16:20:21Z', 'homeTeam': {'id': 385, 'name': 'Rotherham United FC', 'shortName': 'Rotherham Utd', 'tla': 'ROT', 'crest': 'https://crests.football-data.org/385.png'}, 'awayTeam': {'id': 69, 'name': 'Queens Park Rangers FC', 'shortName': 'QPR', 'tla': 'QPR', 'crest': 'https://crests.football-data.org/69.png'}, 'score': {'winner': None, 'duration': 'REGULAR', 'fullTime': {'home': None, 'away': None}, 'halfTime': {'home': None, 'away': None}}, 'odds': {'msg': 'Activate Odds-Package in User-Panel to retrieve odds.'}, 'referees': []}, {'area': {'id': 2072, 'name': 'England', 'code': 'ENG', 'flag': 'https://crests.football-data.org/770.svg'}, 'competition': {'id': 2021, 'name': 'Premier League', 'code': 'PL', 'type': 'LEAGUE', 'emblem': 'https://crests.football-data.org/PL.png'}, 'season': {'id': 1564, 'startDate': '2023-08-11', 'endDate': '2024-05-19', 'currentMatchday': 11, 'winner': None}, 'id': 436051, 'utcDate': '2023-11-04T15:00:00Z', 'status': 'TIMED', 'matchday': 11, 'stage': 'REGULAR_SEASON', 'group': None, 'lastUpdated': '2023-11-04T10:21:21Z', 'homeTeam': {'id': 356, 'name': 'Sheffield United FC', 'shortName': 'Sheffield Utd', 'tla': 'SHE', 'crest': 'https://crests.football-data.org/356.svg'}, 'awayTeam': {'id': 76, 'name': 'Wolverhampton Wanderers FC', 'shortName': 'Wolverhampton', 'tla': 'WOL', 'crest': 'https://crests.football-data.org/76.svg'}, 'score': {'winner': None, 'duration': 'REGULAR', 'fullTime': {'home': None, 'away': None}, 'halfTime': {'home': None, 'away': None}}, 'odds': {'msg': 'Activate Odds-Package in User-Panel to retrieve odds.'}, 'referees': []}, {'area': {'id': 2072, 'name': 'England', 'code': 'ENG', 'flag': 'https://crests.football-data.org/770.svg'}, 'competition': {'id': 2016, 'name': 'Championship', 'code': 'ELC', 'type': 'LEAGUE', 'emblem': 'https://crests.football-data.org/ELC.png'}, 'season': {'id': 1573, 'startDate': '2023-08-04', 'endDate': '2024-05-04', 'currentMatchday': 15, 'winner': None}, 'id': 436845, 'utcDate': '2023-11-04T15:00:00Z', 'status': 'TIMED', 'matchday': 15, 'stage': 'REGULAR_SEASON', 'group': None, 'lastUpdated': '2023-08-02T16:20:20Z', 'homeTeam': {'id': 384, 'name': 'Millwall FC', 'shortName': 'Millwall', 'tla': 'MIL', 'crest': 'https://crests.football-data.org/384.png'}, 'awayTeam': {'id': 340, 'name': 'Southampton FC', 'shortName': 'Southampton', 'tla': 'SOU', 'crest': 'https://crests.football-data.org/340.png'}, 'score': {'winner': None, 'duration': 'REGULAR', 'fullTime': {'home': None, 'away': None}, 'halfTime': {'home': None, 'away': None}}, 'odds': {'msg': 'Activate Odds-Package in User-Panel to retrieve odds.'}, 'referees': []}, {'area': {'id': 2072, 'name': 'England', 'code': 'ENG', 'flag': 'https://crests.football-data.org/770.svg'}, 'competition': {'id': 2021, 'name': 'Premier League', 'code': 'PL', 'type': 'LEAGUE', 'emblem': 'https://crests.football-data.org/PL.png'}, 'season': {'id': 1564, 'startDate': '2023-08-11', 'endDate': '2024-05-19', 'currentMatchday': 11, 'winner': None}, 'id': 436045, 'utcDate': '2023-11-04T15:00:00Z', 'status': 'TIMED', 'matchday': 11, 'stage': 'REGULAR_SEASON', 'group': None, 'lastUpdated': '2023-09-19T15:20:22Z', 'homeTeam': {'id': 62, 'name': 'Everton FC', 'shortName': 'Everton', 'tla': 'EVE', 'crest': 'https://crests.football-data.org/62.png'}, 'awayTeam': {'id': 397, 'name': 'Brighton & Hove Albion FC', 'shortName': 'Brighton Hove', 'tla': 'BHA', 'crest': 'https://crests.football-data.org/397.svg'}, 'score': {'winner': None, 'duration': 'REGULAR', 'fullTime': {'home': None, 'away': None}, 'halfTime': {'home': None, 'away': None}}, 'odds': {'msg': 'Activate Odds-Package in User-Panel to retrieve odds.'}, 'referees': []}, {'area': {'id': 2224, 'name': 'Spain', 'code': 'ESP', 'flag': 'https://crests.football-data.org/760.svg'}, 'competition': {'id': 2014, 'name': 'Primera Division', 'code': 'PD', 'type': 'LEAGUE', 'emblem': 'https://crests.football-data.org/PD.png'}, 'season': {'id': 1577, 'startDate': '2023-08-13', 'endDate': '2024-05-26', 'currentMatchday': 12, 'winner': None}, 'id': 438584, 'utcDate': '2023-11-04T15:15:00Z', 'status': 'TIMED', 'matchday': 12, 'stage': 'REGULAR_SEASON', 'group': None, 'lastUpdated': '2023-10-09T15:20:25Z', 'homeTeam': {'id': 90, 'name': 'Real Betis Balompié', 'shortName': 'Real Betis', 'tla': 'BET', 'crest': 'https://crests.football-data.org/90.png'}, 'awayTeam': {'id': 89, 'name': 'RCD Mallorca', 'shortName': 'Mallorca', 'tla': 'MAL', 'crest': 'https://crests.football-data.org/89.png'}, 'score': {'winner': None, 'duration': 'REGULAR', 'fullTime': {'home': None, 'away': None}, 'halfTime': {'home': None, 'away': None}}, 'odds': {'msg': 'Activate Odds-Package in User-Panel to retrieve odds.'}, 'referees': []}, {'area': {'id': 2187, 'name': 'Portugal', 'code': 'POR', 'flag': 'https://crests.football-data.org/765.svg'}, 'competition': {'id': 2017, 'name': 'Primeira Liga', 'code': 'PPL', 'type': 'LEAGUE', 'emblem': 'https://crests.football-data.org/PPL.png'}, 'season': {'id': 1603, 'startDate': '2023-08-13', 'endDate': '2024-05-19', 'currentMatchday': 10, 'winner': None}, 'id': 445488, 'utcDate': '2023-11-04T15:30:00Z', 'status': 'TIMED', 'matchday': 10, 'stage': 'REGULAR_SEASON', 'group': None, 'lastUpdated': '2023-09-15T10:20:18Z', 'homeTeam': {'id': 1103, 'name': 'GD Chaves', 'shortName': 'Chaves', 'tla': 'CHA', 'crest': 'https://upload.wikimedia.org/wikipedia/en/0/05/G_D_Chaves.png'}, 'awayTeam': {'id': 1903, 'name': 'Sport Lisboa e Benfica', 'shortName': 'SL Benfica', 'tla': 'BEN', 'crest': 'https://crests.football-data.org/1903.png'}, 'score': {'winner': None, 'duration': 'REGULAR', 'fullTime': {'home': None, 'away': None}, 'halfTime': {'home': None, 'away': None}}, 'odds': {'msg': 'Activate Odds-Package in User-Panel to retrieve odds.'}, 'referees': []}, {'area': {'id': 2163, 'name': 'Netherlands', 'code': 'NLD', 'flag': 'https://crests.football-data.org/8601.svg'}, 'competition': {'id': 2003, 'name': 'Eredivisie', 'code': 'DED', 'type': 'LEAGUE', 'emblem': 'https://crests.football-data.org/ED.png'}, 'season': {'id': 1590, 'startDate': '2023-08-11', 'endDate': '2024-05-19', 'currentMatchday': 11, 'winner': None}, 'id': 441576, 'utcDate': '2023-11-04T15:30:00Z', 'status': 'TIMED', 'matchday': 11, 'stage': 'REGULAR_SEASON', 'group': None, 'lastUpdated': '2023-09-11T20:20:04Z', 'homeTeam': {'id': 671, 'name': 'Heracles Almelo', 'shortName': 'Heracles', 'tla': 'HER', 'crest': 'https://crests.football-data.org/671.png'}, 'awayTeam': {'id': 674, 'name': 'PSV', 'shortName': 'PSV', 'tla': 'PSV', 'crest': 'https://crests.football-data.org/674.png'}, 'score': {'winner': None, 'duration': 'REGULAR', 'fullTime': {'home': None, 'away': None}, 'halfTime': {'home': None, 'away': None}}, 'odds': {'msg': 'Activate Odds-Package in User-Panel to retrieve odds.'}, 'referees': []}, {'area': {'id': 2081, 'name': 'France', 'code': 'FRA', 'flag': 'https://crests.football-data.org/773.svg'}, 'competition': {'id': 2015, 'name': 'Ligue 1', 'code': 'FL1', 'type': 'LEAGUE', 'emblem': 'https://crests.football-data.org/FL1.png'}, 'season': {'id': 1595, 'startDate': '2023-08-13', 'endDate': '2024-05-18', 'currentMatchday': 11, 'winner': None}, 'id': 442798, 'utcDate': '2023-11-04T16:00:00Z', 'status': 'TIMED', 'matchday': 11, 'stage': 'REGULAR_SEASON', 'group': None, 'lastUpdated': '2023-10-09T15:20:25Z', 'homeTeam': {'id': 525, 'name': 'FC Lorient', 'shortName': 'Lorient', 'tla': 'FCL', 'crest': 'https://crests.football-data.org/525.png'}, 'awayTeam': {'id': 546, 'name': 'Racing Club de Lens', 'shortName': 'RC Lens', 'tla': 'RCL', 'crest': 'https://crests.football-data.org/546.png'}, 'score': {'winner': None, 'duration': 'REGULAR', 'fullTime': {'home': None, 'away': None}, 'halfTime': {'home': None, 'away': None}}, 'odds': {'msg': 'Activate Odds-Package in User-Panel to retrieve odds.'}, 'referees': []}, {'area': {'id': 2114, 'name': 'Italy', 'code': 'ITA', 'flag': 'https://crests.football-data.org/784.svg'}, 'competition': {'id': 2019, 'name': 'Serie A', 'code': 'SA', 'type': 'LEAGUE', 'emblem': 'https://crests.football-data.org/SA.png'}, 'season': {'id': 1600, 'startDate': '2023-08-19', 'endDate': '2024-05-26', 'currentMatchday': 11, 'winner': None}, 'id': 444354, 'utcDate': '2023-11-04T17:00:00Z', 'status': 'TIMED', 'matchday': 11, 'stage': 'REGULAR_SEASON', 'group': None, 'lastUpdated': '2023-09-08T15:20:22Z', 'homeTeam': {'id': 102, 'name': 'Atalanta BC', 'shortName': 'Atalanta', 'tla': 'ATA', 'crest': 'https://crests.football-data.org/102.svg'}, 'awayTeam': {'id': 108, 'name': 'FC Internazionale Milano', 'shortName': 'Inter', 'tla': 'INT', 'crest': 'https://crests.football-data.org/108.png'}, 'score': {'winner': None, 'duration': 'REGULAR', 'fullTime': {'home': None, 'away': None}, 'halfTime': {'home': None, 'away': None}}, 'odds': {'msg': 'Activate Odds-Package in User-Panel to retrieve odds.'}, 'referees': []}, {'area': {'id': 2072, 'name': 'England', 'code': 'ENG', 'flag': 'https://crests.football-data.org/770.svg'}, 'competition': {'id': 2021, 'name': 'Premier League', 'code': 'PL', 'type': 'LEAGUE', 'emblem': 'https://crests.football-data.org/PL.png'}, 'season': {'id': 1564, 'startDate': '2023-08-11', 'endDate': '2024-05-19', 'currentMatchday': 11, 'winner': None}, 'id': 436049, 'utcDate': '2023-11-04T17:30:00Z', 'status': 'TIMED', 'matchday': 11, 'stage': 'REGULAR_SEASON', 'group': None, 'lastUpdated': '2023-09-19T15:20:22Z', 'homeTeam': {'id': 67, 'name': 'Newcastle United FC', 'shortName': 'Newcastle', 'tla': 'NEW', 'crest': 'https://crests.football-data.org/67.png'}, 'awayTeam': {'id': 57, 'name': 'Arsenal FC', 'shortName': 'Arsenal', 'tla': 'ARS', 'crest': 'https://crests.football-data.org/57.png'}, 'score': {'winner': None, 'duration': 'REGULAR', 'fullTime': {'home': None, 'away': None}, 'halfTime': {'home': None, 'away': None}}, 'odds': {'msg': 'Activate Odds-Package in User-Panel to retrieve odds.'}, 'referees': []}, {'area': {'id': 2224, 'name': 'Spain', 'code': 'ESP', 'flag': 'https://crests.football-data.org/760.svg'}, 'competition': {'id': 2014, 'name': 'Primera Division', 'code': 'PD', 'type': 'LEAGUE', 'emblem': 'https://crests.football-data.org/PD.png'}, 'season': {'id': 1577, 'startDate': '2023-08-13', 'endDate': '2024-05-26', 'currentMatchday': 12, 'winner': None}, 'id': 438586, 'utcDate': '2023-11-04T17:30:00Z', 'status': 'TIMED', 'matchday': 12, 'stage': 'REGULAR_SEASON', 'group': None, 'lastUpdated': '2023-10-09T15:20:25Z', 'homeTeam': {'id': 558, 'name': 'RC Celta de Vigo', 'shortName': 'Celta', 'tla': 'CEL', 'crest': 'https://crests.football-data.org/558.svg'}, 'awayTeam': {'id': 559, 'name': 'Sevilla FC', 'shortName': 'Sevilla FC', 'tla': 'SEV', 'crest': 'https://crests.football-data.org/559.svg'}, 'score': {'winner': None, 'duration': 'REGULAR', 'fullTime': {'home': None, 'away': None}, 'halfTime': {'home': None, 'away': None}}, 'odds': {'msg': 'Activate Odds-Package in User-Panel to retrieve odds.'}, 'referees': []}, {'area': {'id': 2088, 'name': 'Germany', 'code': 'DEU', 'flag': 'https://crests.football-data.org/759.svg'}, 'competition': {'id': 2002, 'name': 'Bundesliga', 'code': 'BL1', 'type': 'LEAGUE', 'emblem': 'https://crests.football-data.org/BL1.png'}, 'season': {'id': 1592, 'startDate': '2023-08-18', 'endDate': '2024-05-18', 'currentMatchday': 10, 'winner': None}, 'id': 441870, 'utcDate': '2023-11-04T17:30:00Z', 'status': 'TIMED', 'matchday': 10, 'stage': 'REGULAR_SEASON', 'group': None, 'lastUpdated': '2023-10-09T15:20:25Z', 'homeTeam': {'id': 4, 'name': 'Borussia Dortmund', 'shortName': 'Dortmund', 'tla': 'BVB', 'crest': 'https://crests.football-data.org/4.png'}, 'awayTeam': {'id': 5, 'name': 'FC Bayern München', 'shortName': 'Bayern', 'tla': 'FCB', 'crest': 'https://crests.football-data.org/5.svg'}, 'score': {'winner': None, 'duration': 'REGULAR', 'fullTime': {'home': None, 'away': None}, 'halfTime': {'home': None, 'away': None}}, 'odds': {'msg': 'Activate Odds-Package in User-Panel to retrieve odds.'}, 'referees': []}, {'area': {'id': 2163, 'name': 'Netherlands', 'code': 'NLD', 'flag': 'https://crests.football-data.org/8601.svg'}, 'competition': {'id': 2003, 'name': 'Eredivisie', 'code': 'DED', 'type': 'LEAGUE', 'emblem': 'https://crests.football-data.org/ED.png'}, 'season': {'id': 1590, 'startDate': '2023-08-11', 'endDate': '2024-05-19', 'currentMatchday': 11, 'winner': None}, 'id': 441573, 'utcDate': '2023-11-04T17:45:00Z', 'status': 'TIMED', 'matchday': 11, 'stage': 'REGULAR_SEASON', 'group': None, 'lastUpdated': '2023-07-06T16:20:04Z', 'homeTeam': {'id': 683, 'name': 'RKC Waalwijk', 'shortName': 'RKC', 'tla': 'RKC', 'crest': 'https://crests.football-data.org/683.png'}, 'awayTeam': {'id': 675, 'name': 'Feyenoord Rotterdam', 'shortName': 'Feyenoord', 'tla': 'FEY', 'crest': 'https://crests.football-data.org/675.png'}, 'score': {'winner': None, 'duration': 'REGULAR', 'fullTime': {'home': None, 'away': None}, 'halfTime': {'home': None, 'away': None}}, 'odds': {'msg': 'Activate Odds-Package in User-Panel to retrieve odds.'}, 'referees': []}, {'area': {'id': 2163, 'name': 'Netherlands', 'code': 'NLD', 'flag': 'https://crests.football-data.org/8601.svg'}, 'competition': {'id': 2003, 'name': 'Eredivisie', 'code': 'DED', 'type': 'LEAGUE', 'emblem': 'https://crests.football-data.org/ED.png'}, 'season': {'id': 1590, 'startDate': '2023-08-11', 'endDate': '2024-05-19', 'currentMatchday': 11, 'winner': None}, 'id': 441574, 'utcDate': '2023-11-04T17:45:00Z', 'status': 'TIMED', 'matchday': 11, 'stage': 'REGULAR_SEASON', 'group': None, 'lastUpdated': '2023-07-06T16:20:04Z', 'homeTeam': {'id': 670, 'name': 'SBV Excelsior', 'shortName': 'Excelsior', 'tla': 'EXC', 'crest': 'https://crests.football-data.org/670.png'}, 'awayTeam': {'id': 682, 'name': 'AZ', 'shortName': 'AZ', 'tla': 'AZ', 'crest': 'https://crests.football-data.org/682.png'}, 'score': {'winner': None, 'duration': 'REGULAR', 'fullTime': {'home': None, 'away': None}, 'halfTime': {'home': None, 'away': None}}, 'odds': {'msg': 'Activate Odds-Package in User-Panel to retrieve odds.'}, 'referees': []}, {'area': {'id': 2187, 'name': 'Portugal', 'code': 'POR', 'flag': 'https://crests.football-data.org/765.svg'}, 'competition': {'id': 2017, 'name': 'Primeira Liga', 'code': 'PPL', 'type': 'LEAGUE', 'emblem': 'https://crests.football-data.org/PPL.png'}, 'season': {'id': 1603, 'startDate': '2023-08-13', 'endDate': '2024-05-19', 'currentMatchday': 10, 'winner': None}, 'id': 445484, 'utcDate': '2023-11-04T18:00:00Z', 'status': 'TIMED', 'matchday': 10, 'stage': 'REGULAR_SEASON', 'group': None, 'lastUpdated': '2023-09-15T10:20:19Z', 'homeTeam': {'id': 5531, 'name': 'FC Famalicão', 'shortName': 'Famalicão', 'tla': 'FAM', 'crest': 'https://crests.football-data.org/5531.png'}, 'awayTeam': {'id': 5533, 'name': 'Gil Vicente FC', 'shortName': 'Gil Vicente', 'tla': 'GIL', 'crest': 'https://crests.football-data.org/5533.png'}, 'score': {'winner': None, 'duration': 'REGULAR', 'fullTime': {'home': None, 'away': None}, 'halfTime': {'home': None, 'away': None}}, 'odds': {'msg': 'Activate Odds-Package in User-Panel to retrieve odds.'}, 'referees': []}, {'area': {'id': 2114, 'name': 'Italy', 'code': 'ITA', 'flag': 'https://crests.football-data.org/784.svg'}, 'competition': {'id': 2019, 'name': 'Serie A', 'code': 'SA', 'type': 'LEAGUE', 'emblem': 'https://crests.football-data.org/SA.png'}, 'season': {'id': 1600, 'startDate': '2023-08-19', 'endDate': '2024-05-26', 'currentMatchday': 11, 'winner': None}, 'id': 444360, 'utcDate': '2023-11-04T19:45:00Z', 'status': 'TIMED', 'matchday': 11, 'stage': 'REGULAR_SEASON', 'group': None, 'lastUpdated': '2023-09-08T15:20:22Z', 'homeTeam': {'id': 98, 'name': 'AC Milan', 'shortName': 'Milan', 'tla': 'MIL', 'crest': 'https://crests.football-data.org/98.svg'}, 'awayTeam': {'id': 115, 'name': 'Udinese Calcio', 'shortName': 'Udinese', 'tla': 'UDI', 'crest': 'https://crests.football-data.org/115.png'}, 'score': {'winner': None, 'duration': 'REGULAR', 'fullTime': {'home': None, 'away': None}, 'halfTime': {'home': None, 'away': None}}, 'odds': {'msg': 'Activate Odds-Package in User-Panel to retrieve odds.'}, 'referees': []}, {'area': {'id': 2081, 'name': 'France', 'code': 'FRA', 'flag': 'https://crests.football-data.org/773.svg'}, 'competition': {'id': 2015, 'name': 'Ligue 1', 'code': 'FL1', 'type': 'LEAGUE', 'emblem': 'https://crests.football-data.org/FL1.png'}, 'season': {'id': 1595, 'startDate': '2023-08-13', 'endDate': '2024-05-18', 'currentMatchday': 11, 'winner': None}, 'id': 442803, 'utcDate': '2023-11-04T20:00:00Z', 'status': 'TIMED', 'matchday': 11, 'stage': 'REGULAR_SEASON', 'group': None, 'lastUpdated': '2023-10-09T15:20:25Z', 'homeTeam': {'id': 516, 'name': 'Olympique de Marseille', 'shortName': 'Marseille', 'tla': 'MAR', 'crest': 'https://crests.football-data.org/516.png'}, 'awayTeam': {'id': 521, 'name': 'Lille OSC', 'shortName': 'Lille', 'tla': 'LIL', 'crest': 'https://crests.football-data.org/521.svg'}, 'score': {'winner': None, 'duration': 'REGULAR', 'fullTime': {'home': None, 'away': None}, 'halfTime': {'home': None, 'away': None}}, 'odds': {'msg': 'Activate Odds-Package in User-Panel to retrieve odds.'}, 'referees': []}, {'area': {'id': 2163, 'name': 'Netherlands', 'code': 'NLD', 'flag': 'https://crests.football-data.org/8601.svg'}, 'competition': {'id': 2003, 'name': 'Eredivisie', 'code': 'DED', 'type': 'LEAGUE', 'emblem': 'https://crests.football-data.org/ED.png'}, 'season': {'id': 1590, 'startDate': '2023-08-11', 'endDate': '2024-05-19', 'currentMatchday': 11, 'winner': None}, 'id': 441575, 'utcDate': '2023-11-04T20:00:00Z', 'status': 'TIMED', 'matchday': 11, 'stage': 'REGULAR_SEASON', 'group': None, 'lastUpdated': '2023-07-06T16:20:04Z', 'homeTeam': {'id': 718, 'name': 'Go Ahead Eagles', 'shortName': 'Go Ahead', 'tla': 'GOA', 'crest': 'https://crests.football-data.org/718.png'}, 'awayTeam': {'id': 679, 'name': 'SBV Vitesse', 'shortName': 'Vitesse', 'tla': 'VIT', 'crest': 'https://crests.football-data.org/679.png'}, 'score': {'winner': None, 'duration': 'REGULAR', 'fullTime': {'home': None, 'away': None}, 'halfTime': {'home': None, 'away': None}}, 'odds': {'msg': 'Activate Odds-Package in User-Panel to retrieve odds.'}, 'referees': []}, {'area': {'id': 2224, 'name': 'Spain', 'code': 'ESP', 'flag': 'https://crests.football-data.org/760.svg'}, 'competition': {'id': 2014, 'name': 'Primera Division', 'code': 'PD', 'type': 'LEAGUE', 'emblem': 'https://crests.football-data.org/PD.png'}, 'season': {'id': 1577, 'startDate': '2023-08-13', 'endDate': '2024-05-26', 'currentMatchday': 12, 'winner': None}, 'id': 438592, 'utcDate': '2023-11-04T20:00:00Z', 'status': 'TIMED', 'matchday': 12, 'stage': 'REGULAR_SEASON', 'group': None, 'lastUpdated': '2023-10-09T15:20:25Z', 'homeTeam': {'id': 92, 'name': 'Real Sociedad de Fútbol', 'shortName': 'Real Sociedad', 'tla': 'RSO', 'crest': 'https://crests.football-data.org/92.svg'}, 'awayTeam': {'id': 81, 'name': 'FC Barcelona', 'shortName': 'Barça', 'tla': 'FCB', 'crest': 'https://crests.football-data.org/81.svg'}, 'score': {'winner': None, 'duration': 'REGULAR', 'fullTime': {'home': None, 'away': None}, 'halfTime': {'home': None, 'away': None}}, 'odds': {'msg': 'Activate Odds-Package in User-Panel to retrieve odds.'}, 'referees': []}, {'area': {'id': 2220, 'name': 'South America', 'code': 'SAM', 'flag': 'https://crests.football-data.org/CLI.svg'}, 'competition': {'id': 2152, 'name': 'Copa Libertadores', 'code': 'CLI', 'type': 'CUP', 'emblem': 'https://crests.football-data.org/CLI.svg'}, 'season': {'id': 1545, 'startDate': '2023-02-08', 'endDate': '2023-11-11', 'currentMatchday': 10, 'winner': None}, 'id': 444253, 'utcDate': '2023-11-04T20:00:00Z', 'status': 'TIMED', 'matchday': 10, 'stage': 'FINAL', 'group': None, 'lastUpdated': '2023-11-04T10:21:21Z', 'homeTeam': {'id': 2061, 'name': 'CA Boca Juniors', 'shortName': 'Boca Juniors', 'tla': 'BOC', 'crest': 'https://crests.football-data.org/2061.png'}, 'awayTeam': {'id': 1765, 'name': 'Fluminense FC', 'shortName': 'Fluminense', 'tla': 'FLU', 'crest': 'https://crests.football-data.org/1765.svg'}, 'score': {'winner': None, 'duration': 'REGULAR', 'fullTime': {'home': None, 'away': None}, 'halfTime': {'home': None, 'away': None}}, 'odds': {'msg': 'Activate Odds-Package in User-Panel to retrieve odds.'}, 'referees': []}, {'area': {'id': 2187, 'name': 'Portugal', 'code': 'POR', 'flag': 'https://crests.football-data.org/765.svg'}, 'competition': {'id': 2017, 'name': 'Primeira Liga', 'code': 'PPL', 'type': 'LEAGUE', 'emblem': 'https://crests.football-data.org/PPL.png'}, 'season': {'id': 1603, 'startDate': '2023-08-13', 'endDate': '2024-05-19', 'currentMatchday': 10, 'winner': None}, 'id': 445490, 'utcDate': '2023-11-04T20:30:00Z', 'status': 'TIMED', 'matchday': 10, 'stage': 'REGULAR_SEASON', 'group': None, 'lastUpdated': '2023-09-15T10:20:19Z', 'homeTeam': {'id': 5613, 'name': 'Sporting Clube de Braga', 'shortName': 'Braga', 'tla': 'SCB', 'crest': 'https://crests.football-data.org/5613.png'}, 'awayTeam': {'id': 5601, 'name': 'Portimonense SC', 'shortName': 'Portimonense', 'tla': 'PSC', 'crest': 'https://crests.football-data.org/5601.png'}, 'score': {'winner': None, 'duration': 'REGULAR', 'fullTime': {'home': None, 'away': None}, 'halfTime': {'home': None, 'away': None}}, 'odds': {'msg': 'Activate Odds-Package in User-Panel to retrieve odds.'}, 'referees': []}, {'area': {'id': 2032, 'name': 'Brazil', 'code': 'BRA', 'flag': 'https://crests.football-data.org/764.svg'}, 'competition': {'id': 2013, 'name': 'Campeonato Brasileiro Série A', 'code': 'BSA', 'type': 'LEAGUE', 'emblem': 'https://crests.football-data.org/764.svg'}, 'season': {'id': 1557, 'startDate': '2023-04-15', 'endDate': '2023-12-03', 'currentMatchday': 32, 'winner': None}, 'id': 432133, 'utcDate': '2023-11-04T22:30:00Z', 'status': 'TIMED', 'matchday': 32, 'stage': 'REGULAR_SEASON', 'group': None, 'lastUpdated': '2023-10-23T20:21:00Z', 'homeTeam': {'id': 1767, 'name': 'Grêmio FBPA', 'shortName': 'Grêmio', 'tla': 'FBP', 'crest': 'https://crests.football-data.org/1767.png'}, 'awayTeam': {'id': 1777, 'name': 'EC Bahia', 'shortName': 'Bahia', 'tla': 'BAH', 'crest': 'https://crests.football-data.org/1777.png'}, 'score': {'winner': None, 'duration': 'REGULAR', 'fullTime': {'home': None, 'away': None}, 'halfTime': {'home': None, 'away': None}}, 'odds': {'msg': 'Activate Odds-Package in User-Panel to retrieve odds.'}, 'referees': []}, {'area': {'id': 2032, 'name': 'Brazil', 'code': 'BRA', 'flag': 'https://crests.football-data.org/764.svg'}, 'competition': {'id': 2013, 'name': 'Campeonato Brasileiro Série A', 'code': 'BSA', 'type': 'LEAGUE', 'emblem': 'https://crests.football-data.org/764.svg'}, 'season': {'id': 1557, 'startDate': '2023-04-15', 'endDate': '2023-12-03', 'currentMatchday': 32, 'winner': None}, 'id': 432136, 'utcDate': '2023-11-04T22:30:00Z', 'status': 'TIMED', 'matchday': 32, 'stage': 'REGULAR_SEASON', 'group': None, 'lastUpdated': '2023-10-23T20:21:00Z', 'homeTeam': {'id': 1838, 'name': 'América FC', 'shortName': 'América (MG)', 'tla': 'AMÉ', 'crest': 'https://crests.football-data.org/1838.png'}, 'awayTeam': {'id': 1766, 'name': 'CA Mineiro', 'shortName': 'Mineiro', 'tla': 'CAM', 'crest': 'https://crests.football-data.org/1766.png'}, 'score': {'winner': None, 'duration': 'REGULAR', 'fullTime': {'home': None, 'away': None}, 'halfTime': {'home': None, 'away': None}}, 'odds': {'msg': 'Activate Odds-Package in User-Panel to retrieve odds.'}, 'referees': []}]}\n"
     ]
    }
   ],
   "source": [
    "import requests\n",
    "import csv\n",
    "# Replace 'YOUR_API_TOKEN' with your actual API token\n",
    "api_token = '030e5c3bed8a4790a0eaaa2baf721309'\n",
    "\n",
    "# Define the headers with the API token\n",
    "headers = {\n",
    "    'X-Auth-Token': api_token\n",
    "}\n",
    "\n",
    "# Make the GET request with the headers\n",
    "url = \"https://api.football-data.org/v4/matches\"\n",
    "r = requests.get(url, headers=headers)\n",
    "\n",
    "# Check the response\n",
    "if r.status_code == 200:\n",
    "    # Request was successful\n",
    "    data = r.json()\n",
    "    print(data)\n",
    "else:\n",
    "    # Request failed, handle the error\n",
    "    print(f\"Request failed with status code: {r.status_code}\")\n"
   ]
  },
  {
   "cell_type": "code",
   "execution_count": null,
   "metadata": {},
   "outputs": [],
   "source": [
    "with open ('match.csv', mode='w', newline='') as file:\n",
    "    writer = csv.writer(file)\n",
    "    writer.writerows(data)"
   ]
  },
  {
   "cell_type": "code",
   "execution_count": 3,
   "metadata": {},
   "outputs": [
    {
     "name": "stdout",
     "output_type": "stream",
     "text": [
      "A\n"
     ]
    }
   ],
   "source": [
    "Name = 'Amine'\n",
    "\n",
    "print(Name[0])"
   ]
  },
  {
   "cell_type": "code",
   "execution_count": 13,
   "metadata": {},
   "outputs": [
    {
     "name": "stdout",
     "output_type": "stream",
     "text": [
      "[[1, 2, 3], [4, 5, 6], [7, 8, 9]]\n"
     ]
    }
   ],
   "source": [
    "matrix = [[1, 2, 3], [4, 5, 6], [7, 8, 9]]\n",
    "sliced_matrix = matrix[0:3]\n",
    "print(sliced_matrix)"
   ]
  },
  {
   "cell_type": "code",
   "execution_count": 15,
   "metadata": {},
   "outputs": [
    {
     "name": "stdout",
     "output_type": "stream",
     "text": [
      "[[4, 5, 6], [7, 8, 9]]\n",
      "[[1, 2, 3], [4, 5, 6]]\n"
     ]
    },
    {
     "ename": "TypeError",
     "evalue": "list indices must be integers or slices, not tuple",
     "output_type": "error",
     "traceback": [
      "\u001b[1;31m---------------------------------------------------------------------------\u001b[0m",
      "\u001b[1;31mTypeError\u001b[0m                                 Traceback (most recent call last)",
      "\u001b[1;32mUntitled-5.ipynb Cell 5\u001b[0m line \u001b[0;36m1\n\u001b[0;32m      <a href='vscode-notebook-cell:Untitled-5.ipynb?jupyter-notebook#X12sdW50aXRsZWQ%3D?line=8'>9</a>\u001b[0m \u001b[39mprint\u001b[39m(sliced_matrix1)\n\u001b[0;32m     <a href='vscode-notebook-cell:Untitled-5.ipynb?jupyter-notebook#X12sdW50aXRsZWQ%3D?line=9'>10</a>\u001b[0m \u001b[39mprint\u001b[39m(sliced_matrix2)\n\u001b[1;32m---> <a href='vscode-notebook-cell:Untitled-5.ipynb?jupyter-notebook#X12sdW50aXRsZWQ%3D?line=11'>12</a>\u001b[0m sliced_matrix3 \u001b[39m=\u001b[39m matrix [\u001b[39m1\u001b[39;49m:\u001b[39m3\u001b[39;49m, \u001b[39m0\u001b[39;49m:\u001b[39m2\u001b[39;49m]\n\u001b[0;32m     <a href='vscode-notebook-cell:Untitled-5.ipynb?jupyter-notebook#X12sdW50aXRsZWQ%3D?line=12'>13</a>\u001b[0m \u001b[39mprint\u001b[39m(sliced_matrix3)\n",
      "\u001b[1;31mTypeError\u001b[0m: list indices must be integers or slices, not tuple"
     ]
    }
   ],
   "source": [
    "matrix = [\n",
    "    [1, 2, 3],\n",
    "    [4, 5, 6],\n",
    "    [7, 8, 9]\n",
    "]\n",
    "\n",
    "sliced_matrix1 = matrix[1:3]\n",
    "sliced_matrix2 = matrix[0:2]\n",
    "print(sliced_matrix1)\n",
    "print(sliced_matrix2)\n",
    "\n",
    "sliced_matrix3 = matrix [1:3, 0:2]\n",
    "print(sliced_matrix3)"
   ]
  },
  {
   "cell_type": "code",
   "execution_count": 16,
   "metadata": {},
   "outputs": [
    {
     "ename": "TypeError",
     "evalue": "list indices must be integers or slices, not tuple",
     "output_type": "error",
     "traceback": [
      "\u001b[1;31m---------------------------------------------------------------------------\u001b[0m",
      "\u001b[1;31mTypeError\u001b[0m                                 Traceback (most recent call last)",
      "\u001b[1;32mUntitled-5.ipynb Cell 6\u001b[0m line \u001b[0;36m7\n\u001b[0;32m      <a href='vscode-notebook-cell:Untitled-5.ipynb?jupyter-notebook#X13sdW50aXRsZWQ%3D?line=0'>1</a>\u001b[0m matrix \u001b[39m=\u001b[39m [\n\u001b[0;32m      <a href='vscode-notebook-cell:Untitled-5.ipynb?jupyter-notebook#X13sdW50aXRsZWQ%3D?line=1'>2</a>\u001b[0m     [\u001b[39m1\u001b[39m, \u001b[39m2\u001b[39m, \u001b[39m3\u001b[39m],\n\u001b[0;32m      <a href='vscode-notebook-cell:Untitled-5.ipynb?jupyter-notebook#X13sdW50aXRsZWQ%3D?line=2'>3</a>\u001b[0m     [\u001b[39m4\u001b[39m, \u001b[39m5\u001b[39m, \u001b[39m6\u001b[39m],\n\u001b[0;32m      <a href='vscode-notebook-cell:Untitled-5.ipynb?jupyter-notebook#X13sdW50aXRsZWQ%3D?line=3'>4</a>\u001b[0m     [\u001b[39m7\u001b[39m, \u001b[39m8\u001b[39m, \u001b[39m9\u001b[39m]\n\u001b[0;32m      <a href='vscode-notebook-cell:Untitled-5.ipynb?jupyter-notebook#X13sdW50aXRsZWQ%3D?line=4'>5</a>\u001b[0m ]\n\u001b[1;32m----> <a href='vscode-notebook-cell:Untitled-5.ipynb?jupyter-notebook#X13sdW50aXRsZWQ%3D?line=6'>7</a>\u001b[0m sliced_matrix \u001b[39m=\u001b[39m matrix[\u001b[39m1\u001b[39;49m:\u001b[39m3\u001b[39;49m, \u001b[39m0\u001b[39;49m:\u001b[39m2\u001b[39;49m]\n",
      "\u001b[1;31mTypeError\u001b[0m: list indices must be integers or slices, not tuple"
     ]
    }
   ],
   "source": [
    "matrix = [\n",
    "    [1, 2, 3],\n",
    "    [4, 5, 6],\n",
    "    [7, 8, 9]\n",
    "]\n",
    "\n",
    "sliced_matrix = matrix[1:3, 0:2]"
   ]
  },
  {
   "cell_type": "code",
   "execution_count": 19,
   "metadata": {},
   "outputs": [
    {
     "name": "stdout",
     "output_type": "stream",
     "text": [
      "[[4, 5], [7, 8]]\n"
     ]
    }
   ],
   "source": [
    "matrix = [\n",
    "    [1, 2, 3],\n",
    "    [4, 5, 6],\n",
    "    [7, 8, 9]\n",
    "]\n",
    "\n",
    "sliced_matrix = [row[0:2] for row in matrix[1:3]]\n",
    "print(sliced_matrix)"
   ]
  },
  {
   "cell_type": "code",
   "execution_count": 23,
   "metadata": {},
   "outputs": [
    {
     "name": "stdout",
     "output_type": "stream",
     "text": [
      "[[2, 3], [5, 6]]\n"
     ]
    }
   ],
   "source": [
    "matrix = [\n",
    "    [1, 2, 3],\n",
    "    [4, 5, 6],\n",
    "    [7, 8, 9]\n",
    "]\n",
    "\n",
    "sliced_matrix5 = [row[1:3] for row in matrix[0:2]]\n",
    "print(sliced_matrix5)\n"
   ]
  },
  {
   "cell_type": "code",
   "execution_count": 25,
   "metadata": {},
   "outputs": [
    {
     "name": "stdout",
     "output_type": "stream",
     "text": [
      "blue\n",
      "berry\n"
     ]
    }
   ],
   "source": [
    "favorite_fruit = \"blueberry\"\n",
    "print(favorite_fruit[:4])\n",
    "print (favorite_fruit[4:])"
   ]
  },
  {
   "cell_type": "code",
   "execution_count": 26,
   "metadata": {},
   "outputs": [
    {
     "name": "stdout",
     "output_type": "stream",
     "text": [
      "Meet me at the park\n"
     ]
    }
   ],
   "source": [
    "message = \"MXeXeXtX XmXeX XaXtX XtXhXeX XpXaXrXkX\"\n",
    "\n",
    "decoded = message[0:38:2]\n",
    "\n",
    "print(decoded)\n",
    "# Meet me at the park"
   ]
  },
  {
   "cell_type": "code",
   "execution_count": 40,
   "metadata": {},
   "outputs": [
    {
     "name": "stdout",
     "output_type": "stream",
     "text": [
      "JulBle\n"
     ]
    }
   ],
   "source": [
    "def account_generator(first_name, last_name):\n",
    "  new_account = first_name[0:3]+last_name[0:3]\n",
    "  print(new_account)\n",
    "account_generator(\"Julie\", \"Blevins\")\n"
   ]
  },
  {
   "cell_type": "code",
   "execution_count": 50,
   "metadata": {},
   "outputs": [
    {
     "data": {
      "text/plain": [
       "'Ami'"
      ]
     },
     "execution_count": 50,
     "metadata": {},
     "output_type": "execute_result"
    }
   ],
   "source": [
    "name = 'Amine'\n",
    "\n",
    "len(name)\n",
    "name[:-2]"
   ]
  },
  {
   "cell_type": "code",
   "execution_count": 59,
   "metadata": {},
   "outputs": [
    {
     "name": "stdout",
     "output_type": "stream",
     "text": [
      "9\n",
      "18\n",
      "y\n",
      "eberry\n"
     ]
    }
   ],
   "source": [
    "favorite_fruit = \"blueberry\"\n",
    "\n",
    "length = len(favorite_fruit)\n",
    "\n",
    "print(length)\n",
    "# Output: 9\n",
    "fruit_sentence = \"I love blueberries\"\n",
    "\n",
    "print(len(fruit_sentence))\n",
    "# Output: 18\n",
    "\n",
    "last_char = favorite_fruit[len(favorite_fruit)-1]\n",
    "\n",
    "print(last_char)\n",
    "\n",
    "length = len(favorite_fruit)\n",
    "last_chars = favorite_fruit[length-6:]\n",
    "print(last_chars)\n",
    "# Output: erry"
   ]
  },
  {
   "cell_type": "code",
   "execution_count": 62,
   "metadata": {},
   "outputs": [
    {
     "name": "stdout",
     "output_type": "stream",
     "text": [
      "13\n",
      "orld!\n"
     ]
    }
   ],
   "source": [
    "text = \"Hello, World!\"\n",
    "n = 5\n",
    "starting_index = len(text) - n  # 13 - 5 = 8\n",
    "sliced_text = text[starting_index:]  # Slice from index 8 to the end\n",
    "print(len(text))\n",
    "print(sliced_text)"
   ]
  },
  {
   "cell_type": "code",
   "execution_count": 70,
   "metadata": {},
   "outputs": [
    {
     "name": "stdout",
     "output_type": "stream",
     "text": [
      "ikouki\n",
      "<function password_generator at 0x000002C3E0C63D80>\n"
     ]
    }
   ],
   "source": [
    "first_name = \"Reiko\"\n",
    "last_name = \"Matsuki\"\n",
    "\n",
    "def password_generator(first_name, last_name):\n",
    "    new_full_name = first_name[-3:]+last_name[-3:]\n",
    "    return new_full_name\n",
    "    new_account = password_generator(first_name, last_name)\n",
    "password_generator(\"Reiko\", \"Matsuki\")\n",
    "print(new_account)\n",
    "print(password_generator)"
   ]
  },
  {
   "cell_type": "code",
   "execution_count": 71,
   "metadata": {},
   "outputs": [
    {
     "name": "stdout",
     "output_type": "stream",
     "text": [
      "ikouki\n",
      "<function password_generator at 0x000002C3E0C61300>\n"
     ]
    }
   ],
   "source": [
    "first_name = \"Reiko\"\n",
    "last_name = \"Matsuki\"\n",
    "\n",
    "def password_generator(first_name, last_name):\n",
    "    new_full_name = first_name[-3:]+last_name[-3:]\n",
    "    return new_full_name\n",
    "new_account = password_generator(first_name, last_name)\n",
    "password_generator(\"Reiko\", \"Matsuki\")\n",
    "print(new_account)\n",
    "print(password_generator)"
   ]
  },
  {
   "cell_type": "code",
   "execution_count": 72,
   "metadata": {},
   "outputs": [
    {
     "data": {
      "text/plain": [
       "'ikouki'"
      ]
     },
     "execution_count": 72,
     "metadata": {},
     "output_type": "execute_result"
    }
   ],
   "source": [
    "first_name = \"Reiko\"\n",
    "last_name = \"Matsuki\"\n",
    "\n",
    "def password_generator(first_name, last_name):\n",
    "  full_sliced_name = first_name[-3:] + last_name[-3:]\n",
    "  return full_sliced_name\n",
    "temp_password = password_generator(first_name, last_name)\n",
    "password_generator(\"Reiko\", \"Matsuki\")"
   ]
  },
  {
   "cell_type": "code",
   "execution_count": 74,
   "metadata": {},
   "outputs": [
    {
     "data": {
      "text/plain": [
       "'ikouki'"
      ]
     },
     "execution_count": 74,
     "metadata": {},
     "output_type": "execute_result"
    }
   ],
   "source": [
    "first_name = \"Reiko\"\n",
    "last_name = \"Matsuki\"\n",
    "\n",
    "def password_generator(first_name, last_name):\n",
    "  temp_password = first_name[len(first_name)-3:] + last_name[len(last_name)-3:]\n",
    "  return temp_password\n",
    "\n",
    "temp_password = password_generator(first_name, last_name)\n",
    "password_generator(\"Reiko\", \"Matsuki\")"
   ]
  },
  {
   "cell_type": "code",
   "execution_count": 80,
   "metadata": {},
   "outputs": [
    {
     "name": "stdout",
     "output_type": "stream",
     "text": [
      "life\n",
      "f\n",
      "life\n"
     ]
    }
   ],
   "source": [
    "company_motto = \"Copeland's Corporate Company helps you capably cope with the constant cacophony of daily life\"\n",
    "\n",
    "length = len(company_motto)\n",
    "second_to_last = company_motto[length-4:]\n",
    "print(second_to_last)\n",
    "\n",
    "second_to_last = company_motto[-2]\n",
    "print(second_to_last)\n",
    "final_word = company_motto[-4:]\n",
    "print(final_word)"
   ]
  },
  {
   "cell_type": "code",
   "execution_count": 2,
   "metadata": {},
   "outputs": [
    {
     "ename": "SyntaxError",
     "evalue": "invalid syntax. Perhaps you forgot a comma? (2047453501.py, line 1)",
     "output_type": "error",
     "traceback": [
      "\u001b[1;36m  Cell \u001b[1;32mIn[2], line 1\u001b[1;36m\u001b[0m\n\u001b[1;33m    print(\"She said, \"Hello!\"\")\u001b[0m\n\u001b[1;37m          ^\u001b[0m\n\u001b[1;31mSyntaxError\u001b[0m\u001b[1;31m:\u001b[0m invalid syntax. Perhaps you forgot a comma?\n"
     ]
    }
   ],
   "source": [
    "print(\"She said, \\\"Hello!\\\"\")"
   ]
  },
  {
   "cell_type": "code",
   "execution_count": 3,
   "metadata": {},
   "outputs": [
    {
     "name": "stdout",
     "output_type": "stream",
     "text": [
      "b\n",
      "l\n",
      "u\n",
      "e\n"
     ]
    }
   ],
   "source": [
    "def print_each_letter(word):\n",
    "  for letter in word:\n",
    "    print(letter)\n",
    "favorite_color = \"blue\"\n",
    "print_each_letter(favorite_color)"
   ]
  },
  {
   "cell_type": "code",
   "execution_count": 16,
   "metadata": {},
   "outputs": [
    {
     "name": "stdout",
     "output_type": "stream",
     "text": [
      "A\n",
      "m\n",
      "i\n",
      "n\n"
     ]
    }
   ],
   "source": [
    "name = 'Amine'\n",
    "for x in name:\n",
    "    if x == 'e':\n",
    "        continue\n",
    "    else:\n",
    "        print(x)"
   ]
  },
  {
   "cell_type": "code",
   "execution_count": null,
   "metadata": {},
   "outputs": [],
   "source": []
  }
 ],
 "metadata": {
  "kernelspec": {
   "display_name": "Python 3",
   "language": "python",
   "name": "python3"
  },
  "language_info": {
   "codemirror_mode": {
    "name": "ipython",
    "version": 3
   },
   "file_extension": ".py",
   "mimetype": "text/x-python",
   "name": "python",
   "nbconvert_exporter": "python",
   "pygments_lexer": "ipython3",
   "version": "3.12.0"
  }
 },
 "nbformat": 4,
 "nbformat_minor": 2
}
