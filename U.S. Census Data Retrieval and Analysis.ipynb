{
 "cells": [
  {
   "cell_type": "markdown",
   "metadata": {},
   "source": [
    "This Python script uses the `requests` library to fetch data from the U.S. Census Bureau API. It then prints the data in both plain text and JSON formats."
   ]
  },
  {
   "cell_type": "code",
   "execution_count": 7,
   "metadata": {},
   "outputs": [
    {
     "name": "stdout",
     "output_type": "stream",
     "text": [
      "[[\"NAME\",\"B08303_001E\",\"B08303_013E\",\"state\",\"county\"],\n",
      "[\"Allegany County, New York\",\"18308\",\"497\",\"36\",\"003\"],\n",
      "[\"Cattaraugus County, New York\",\"31039\",\"629\",\"36\",\"009\"],\n",
      "[\"Chemung County, New York\",\"35006\",\"736\",\"36\",\"015\"],\n",
      "[\"Columbia County, New York\",\"25990\",\"813\",\"36\",\"021\"],\n",
      "[\"Dutchess County, New York\",\"132346\",\"10044\",\"36\",\"027\"],\n",
      "[\"Essex County, New York\",\"15218\",\"550\",\"36\",\"031\"],\n",
      "[\"Genesee County, New York\",\"27695\",\"259\",\"36\",\"037\"],\n",
      "[\"Herkimer County, New York\",\"26549\",\"705\",\"36\",\"043\"],\n",
      "[\"Lewis County, New York\",\"11149\",\"417\",\"36\",\"049\"],\n",
      "[\"Monroe County, New York\",\"332699\",\"3546\",\"36\",\"055\"],\n",
      "[\"New York County, New York\",\"770396\",\"21735\",\"36\",\"061\"],\n",
      "[\"Onondaga County, New York\",\"202751\",\"2726\",\"36\",\"067\"],\n",
      "[\"Orleans County, New York\",\"16404\",\"287\",\"36\",\"073\"],\n",
      "[\"Putnam County, New York\",\"45821\",\"4200\",\"36\",\"079\"],\n",
      "[\"Richmond County, New York\",\"203754\",\"29348\",\"36\",\"085\"],\n",
      "[\"Albany County, New York\",\"145874\",\"1549\",\"36\",\"001\"],\n",
      "[\"Bronx County, New York\",\"546560\",\"54030\",\"36\",\"005\"],\n",
      "[\"Broome County, New York\",\"77464\",\"1352\",\"36\",\"007\"],\n",
      "[\"Cayuga County, New York\",\"33412\",\"604\",\"36\",\"011\"],\n",
      "[\"Chautauqua County, New York\",\"52147\",\"647\",\"36\",\"013\"],\n",
      "[\"Chenango County, New York\",\"20209\",\"535\",\"36\",\"017\"],\n",
      "[\"Clinton County, New York\",\"34016\",\"365\",\"36\",\"019\"],\n",
      "[\"Cortland County, New York\",\"21791\",\"296\",\"36\",\"023\"],\n",
      "[\"Delaware County, New York\",\"17946\",\"861\",\"36\",\"025\"],\n",
      "[\"Erie County, New York\",\"414400\",\"5160\",\"36\",\"029\"],\n",
      "[\"Franklin County, New York\",\"17841\",\"256\",\"36\",\"033\"],\n",
      "[\"Fulton County, New York\",\"23456\",\"400\",\"36\",\"035\"],\n",
      "[\"Greene County, New York\",\"18928\",\"648\",\"36\",\"039\"],\n",
      "[\"Hamilton County, New York\",\"1841\",\"50\",\"36\",\"041\"],\n",
      "[\"Jefferson County, New York\",\"48260\",\"688\",\"36\",\"045\"],\n",
      "[\"Kings County, New York\",\"1087920\",\"76680\",\"36\",\"047\"],\n",
      "[\"Livingston County, New York\",\"27374\",\"395\",\"36\",\"051\"],\n",
      "[\"Madison County, New York\",\"30900\",\"451\",\"36\",\"053\"],\n",
      "[\"Montgomery County, New York\",\"20627\",\"278\",\"36\",\"057\"],\n",
      "[\"Nassau County, New York\",\"622432\",\"49953\",\"36\",\"059\"],\n",
      "[\"Niagara County, New York\",\"93331\",\"937\",\"36\",\"063\"],\n",
      "[\"Oneida County, New York\",\"94801\",\"1326\",\"36\",\"065\"],\n",
      "[\"Ontario County, New York\",\"50334\",\"611\",\"36\",\"069\"],\n",
      "[\"Orange County, New York\",\"163955\",\"15513\",\"36\",\"071\"],\n",
      "[\"Oswego County, New York\",\"51083\",\"1095\",\"36\",\"075\"],\n",
      "[\"Otsego County, New York\",\"25745\",\"692\",\"36\",\"077\"],\n",
      "[\"Queens County, New York\",\"1025165\",\"95163\",\"36\",\"081\"],\n",
      "[\"Rensselaer County, New York\",\"74181\",\"1545\",\"36\",\"083\"],\n",
      "[\"Rockland County, New York\",\"132952\",\"9017\",\"36\",\"087\"],\n",
      "[\"St. Lawrence County, New York\",\"40971\",\"787\",\"36\",\"089\"],\n",
      "[\"Saratoga County, New York\",\"109798\",\"1707\",\"36\",\"091\"],\n",
      "[\"Schenectady County, New York\",\"67443\",\"843\",\"36\",\"093\"],\n",
      "[\"Schoharie County, New York\",\"13218\",\"414\",\"36\",\"095\"],\n",
      "[\"Schuyler County, New York\",\"7582\",\"206\",\"36\",\"097\"],\n",
      "[\"Seneca County, New York\",\"14290\",\"193\",\"36\",\"099\"],\n",
      "[\"Steuben County, New York\",\"40583\",\"713\",\"36\",\"101\"],\n",
      "[\"Suffolk County, New York\",\"698146\",\"51611\",\"36\",\"103\"],\n",
      "[\"Sullivan County, New York\",\"29960\",\"2181\",\"36\",\"105\"],\n",
      "[\"Tioga County, New York\",\"21206\",\"347\",\"36\",\"107\"],\n",
      "[\"Tompkins County, New York\",\"44051\",\"547\",\"36\",\"109\"],\n",
      "[\"Ulster County, New York\",\"75520\",\"3761\",\"36\",\"111\"],\n",
      "[\"Warren County, New York\",\"30092\",\"588\",\"36\",\"113\"],\n",
      "[\"Washington County, New York\",\"25874\",\"551\",\"36\",\"115\"],\n",
      "[\"Wayne County, New York\",\"41138\",\"449\",\"36\",\"117\"],\n",
      "[\"Westchester County, New York\",\"427794\",\"29750\",\"36\",\"119\"],\n",
      "[\"Wyoming County, New York\",\"17574\",\"273\",\"36\",\"121\"],\n",
      "[\"Yates County, New York\",\"9518\",\"90\",\"36\",\"123\"]]\n",
      "[['NAME', 'B08303_001E', 'B08303_013E', 'state', 'county'], ['Allegany County, New York', '18308', '497', '36', '003'], ['Cattaraugus County, New York', '31039', '629', '36', '009'], ['Chemung County, New York', '35006', '736', '36', '015'], ['Columbia County, New York', '25990', '813', '36', '021'], ['Dutchess County, New York', '132346', '10044', '36', '027'], ['Essex County, New York', '15218', '550', '36', '031'], ['Genesee County, New York', '27695', '259', '36', '037'], ['Herkimer County, New York', '26549', '705', '36', '043'], ['Lewis County, New York', '11149', '417', '36', '049'], ['Monroe County, New York', '332699', '3546', '36', '055'], ['New York County, New York', '770396', '21735', '36', '061'], ['Onondaga County, New York', '202751', '2726', '36', '067'], ['Orleans County, New York', '16404', '287', '36', '073'], ['Putnam County, New York', '45821', '4200', '36', '079'], ['Richmond County, New York', '203754', '29348', '36', '085'], ['Albany County, New York', '145874', '1549', '36', '001'], ['Bronx County, New York', '546560', '54030', '36', '005'], ['Broome County, New York', '77464', '1352', '36', '007'], ['Cayuga County, New York', '33412', '604', '36', '011'], ['Chautauqua County, New York', '52147', '647', '36', '013'], ['Chenango County, New York', '20209', '535', '36', '017'], ['Clinton County, New York', '34016', '365', '36', '019'], ['Cortland County, New York', '21791', '296', '36', '023'], ['Delaware County, New York', '17946', '861', '36', '025'], ['Erie County, New York', '414400', '5160', '36', '029'], ['Franklin County, New York', '17841', '256', '36', '033'], ['Fulton County, New York', '23456', '400', '36', '035'], ['Greene County, New York', '18928', '648', '36', '039'], ['Hamilton County, New York', '1841', '50', '36', '041'], ['Jefferson County, New York', '48260', '688', '36', '045'], ['Kings County, New York', '1087920', '76680', '36', '047'], ['Livingston County, New York', '27374', '395', '36', '051'], ['Madison County, New York', '30900', '451', '36', '053'], ['Montgomery County, New York', '20627', '278', '36', '057'], ['Nassau County, New York', '622432', '49953', '36', '059'], ['Niagara County, New York', '93331', '937', '36', '063'], ['Oneida County, New York', '94801', '1326', '36', '065'], ['Ontario County, New York', '50334', '611', '36', '069'], ['Orange County, New York', '163955', '15513', '36', '071'], ['Oswego County, New York', '51083', '1095', '36', '075'], ['Otsego County, New York', '25745', '692', '36', '077'], ['Queens County, New York', '1025165', '95163', '36', '081'], ['Rensselaer County, New York', '74181', '1545', '36', '083'], ['Rockland County, New York', '132952', '9017', '36', '087'], ['St. Lawrence County, New York', '40971', '787', '36', '089'], ['Saratoga County, New York', '109798', '1707', '36', '091'], ['Schenectady County, New York', '67443', '843', '36', '093'], ['Schoharie County, New York', '13218', '414', '36', '095'], ['Schuyler County, New York', '7582', '206', '36', '097'], ['Seneca County, New York', '14290', '193', '36', '099'], ['Steuben County, New York', '40583', '713', '36', '101'], ['Suffolk County, New York', '698146', '51611', '36', '103'], ['Sullivan County, New York', '29960', '2181', '36', '105'], ['Tioga County, New York', '21206', '347', '36', '107'], ['Tompkins County, New York', '44051', '547', '36', '109'], ['Ulster County, New York', '75520', '3761', '36', '111'], ['Warren County, New York', '30092', '588', '36', '113'], ['Washington County, New York', '25874', '551', '36', '115'], ['Wayne County, New York', '41138', '449', '36', '117'], ['Westchester County, New York', '427794', '29750', '36', '119'], ['Wyoming County, New York', '17574', '273', '36', '121'], ['Yates County, New York', '9518', '90', '36', '123']]\n"
     ]
    }
   ],
   "source": [
    "import requests\n",
    "r = requests.get('https://api.census.gov/data/2020/acs/acs5?get=NAME,B08303_001E,B08303_013E&for=county:*&in=state:36')\n",
    "#printng it in TEXT file format\n",
    "r_text = r.text\n",
    "print(r_text)\n",
    "\n",
    "#printing it in JSON file format\n",
    "r_json = r.json()\n",
    "print(r_json)"
   ]
  }
 ],
 "metadata": {
  "kernelspec": {
   "display_name": "Python 3",
   "language": "python",
   "name": "python3"
  },
  "language_info": {
   "codemirror_mode": {
    "name": "ipython",
    "version": 3
   },
   "file_extension": ".py",
   "mimetype": "text/x-python",
   "name": "python",
   "nbconvert_exporter": "python",
   "pygments_lexer": "ipython3",
   "version": "3.12.0"
  }
 },
 "nbformat": 4,
 "nbformat_minor": 2
}
